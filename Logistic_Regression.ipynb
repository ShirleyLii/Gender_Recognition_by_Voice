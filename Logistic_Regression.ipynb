{
 "cells": [
  {
   "cell_type": "code",
   "execution_count": 1,
   "metadata": {},
   "outputs": [
    {
     "name": "stderr",
     "output_type": "stream",
     "text": [
      "/anaconda2/lib/python2.7/site-packages/sklearn/cross_validation.py:41: DeprecationWarning: This module was deprecated in version 0.18 in favor of the model_selection module into which all the refactored classes and functions are moved. Also note that the interface of the new CV iterators are different from that of this module. This module will be removed in 0.20.\n",
      "  \"This module will be removed in 0.20.\", DeprecationWarning)\n"
     ]
    }
   ],
   "source": [
    "# Logistic Regression\n",
    "# Importing the libraries\n",
    "import pandas as pd\n",
    "import numpy as np\n",
    "from sklearn import preprocessing\n",
    "import matplotlib.pyplot as plt \n",
    "from sklearn.linear_model import LogisticRegression\n",
    "from sklearn.cross_validation import train_test_split\n",
    "from sklearn.model_selection import cross_val_score\n",
    "from sklearn import linear_model"
   ]
  },
  {
   "cell_type": "code",
   "execution_count": 2,
   "metadata": {},
   "outputs": [],
   "source": [
    "%store -r train_x\n",
    "%store -r train_y\n",
    "%store -r test_x\n",
    "%store -r test_y\n",
    "%store -r train_x_two_features\n",
    "%store -r test_x_two_features\n",
    "%store -r train_y_two_features\n",
    "%store -r test_y_two_features\n",
    "%store -r pca_train_x\n",
    "%store -r pca_test_x\n"
   ]
  },
  {
   "cell_type": "code",
   "execution_count": 3,
   "metadata": {},
   "outputs": [],
   "source": [
    "from sklearn.linear_model import LogisticRegression\n",
    "def run_Logistic_Regression(train_x,test_x,train_y,test_y):\n",
    "    clf = linear_model.LogisticRegression(penalty='l1', fit_intercept=True)\n",
    "    # Fitting Logistic Regression to the Training set\n",
    "    clf.fit(train_x, train_y)\n",
    "    scores = cross_val_score(clf, train_x, train_y, cv=5)\n",
    "    print(\"In-sample accuracy for Logistic Regression: %.10f\" % scores.mean())\n",
    "    scores = cross_val_score(clf, test_x, test_y, cv=5) \n",
    "    print(\"Out-of-sample accuracy for Logistic Regression: %.10f\" % scores.mean())"
   ]
  },
  {
   "cell_type": "code",
   "execution_count": 4,
   "metadata": {},
   "outputs": [
    {
     "name": "stdout",
     "output_type": "stream",
     "text": [
      "In-sample accuracy for Logistic Regression: 0.9718035894\n",
      "Out-of-sample accuracy for Logistic Regression: 0.9747392724\n"
     ]
    }
   ],
   "source": [
    "run_Logistic_Regression(train_x,test_x,train_y,test_y)"
   ]
  },
  {
   "cell_type": "code",
   "execution_count": null,
   "metadata": {},
   "outputs": [],
   "source": []
  }
 ],
 "metadata": {
  "kernelspec": {
   "display_name": "Python 2",
   "language": "python",
   "name": "python2"
  },
  "language_info": {
   "codemirror_mode": {
    "name": "ipython",
    "version": 2
   },
   "file_extension": ".py",
   "mimetype": "text/x-python",
   "name": "python",
   "nbconvert_exporter": "python",
   "pygments_lexer": "ipython2",
   "version": "2.7.13"
  }
 },
 "nbformat": 4,
 "nbformat_minor": 2
}
