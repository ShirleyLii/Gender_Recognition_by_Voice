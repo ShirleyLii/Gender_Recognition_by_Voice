{
 "cells": [
  {
   "cell_type": "markdown",
   "metadata": {},
   "source": [
    "## Overview:\n",
    "This notebook will focus on shaping the data in ways that make it satisfactory for the machine learning process. "
   ]
  },
  {
   "cell_type": "markdown",
   "metadata": {},
   "source": [
    "### Scale the dataset\n",
    "In general, learning algorithms benefit from standardization of the data set. If some outliers are present in the set, robust scalers or transformers are more appropriate. Standardization of datasets is a common requirement for many machine learning estimators implemented in scikit-learn."
   ]
  },
  {
   "cell_type": "code",
   "execution_count": 1,
   "metadata": {},
   "outputs": [],
   "source": [
    "import pandas as pd \n",
    "import numpy as np  \n",
    "import sys\n",
    "from sklearn.preprocessing import StandardScaler\n",
    "from sklearn.preprocessing import LabelEncoder\n",
    "from sklearn.model_selection import train_test_split  \n",
    "from sklearn.model_selection import cross_val_score\n",
    "import random\n",
    "\n",
    "import warnings\n",
    "warnings.filterwarnings('ignore')"
   ]
  },
  {
   "cell_type": "code",
   "execution_count": 2,
   "metadata": {},
   "outputs": [],
   "source": [
    "sys.path.append('/Users/Kassi/Desktop/Gender_Recognition_by_Voice')"
   ]
  },
  {
   "cell_type": "code",
   "execution_count": 3,
   "metadata": {
    "scrolled": true
   },
   "outputs": [
    {
     "name": "stdout",
     "output_type": "stream",
     "text": [
      "Total number of samples: 3168\n",
      "Total number of male: 1584\n",
      "Total number of female: 1584\n"
     ]
    }
   ],
   "source": [
    "path = '/Users/Kassi/Desktop/Gender_Recognition_by_Voice/voice.csv'\n",
    "voice_data = pd.read_csv(path)\n",
    "col_names = list(voice_data.columns.values)\n",
    "print(\"Total number of samples: {}\".format(voice_data.shape[0]))\n",
    "print(\"Total number of male: {}\".format(voice_data[voice_data.label == 'male'].shape[0]))\n",
    "print(\"Total number of female: {}\".format(voice_data[voice_data.label == 'female'].shape[0]))"
   ]
  },
  {
   "cell_type": "markdown",
   "metadata": {},
   "source": [
    "#### Check dataset contains NA's"
   ]
  },
  {
   "cell_type": "code",
   "execution_count": 4,
   "metadata": {},
   "outputs": [
    {
     "data": {
      "text/plain": [
       "False"
      ]
     },
     "execution_count": 4,
     "metadata": {},
     "output_type": "execute_result"
    }
   ],
   "source": [
    "voice_data.isnull().any().any()"
   ]
  },
  {
   "cell_type": "markdown",
   "metadata": {},
   "source": [
    "Fortunately, our dataset does not contain any missing values and therefore does not need cleaning."
   ]
  },
  {
   "cell_type": "code",
   "execution_count": 5,
   "metadata": {},
   "outputs": [],
   "source": [
    "voice_data = voice_data.values\n",
    "voices = voice_data[:, :-1] \n",
    "labels = voice_data[:, -1:]"
   ]
  },
  {
   "cell_type": "code",
   "execution_count": 6,
   "metadata": {},
   "outputs": [],
   "source": [
    "gender_encoder = LabelEncoder()\n",
    "labels = gender_encoder.fit_transform(labels)"
   ]
  },
  {
   "cell_type": "code",
   "execution_count": 7,
   "metadata": {},
   "outputs": [],
   "source": [
    "# 2 most significant features (IQR and meanfun)\n",
    "voices_two_features = voices[:,[5,12]]\n",
    "labels_two_features = labels\n",
    "\n",
    "# train_x_two_features.shape\n",
    "# labels_two_features.shape"
   ]
  },
  {
   "cell_type": "code",
   "execution_count": 8,
   "metadata": {},
   "outputs": [],
   "source": [
    "# Splitting the whole dataset into the Training set and Test set\n",
    "train_x, test_x, train_y, test_y = train_test_split(voices, labels, test_size=0.25, random_state = 42)  \n",
    "\n",
    "# Splitting the subset into the Training set and Test set\n",
    "train_x_two_features, test_x_two_features, train_y_two_features, test_y_two_features = train_test_split(voices_two_features, labels_two_features, test_size=0.25, random_state = 42)  "
   ]
  },
  {
   "cell_type": "code",
   "execution_count": 9,
   "metadata": {},
   "outputs": [],
   "source": [
    "# Feature Scaling (all features)\n",
    "# Learning algorithms benefit from standardization of the whole data set\n",
    "from sklearn.preprocessing import StandardScaler\n",
    "sc = StandardScaler()\n",
    "train_x = sc.fit_transform(train_x)\n",
    "test_x = sc.transform(test_x)"
   ]
  },
  {
   "cell_type": "code",
   "execution_count": 10,
   "metadata": {},
   "outputs": [],
   "source": [
    "# Feature Scaling (top 2 features)\n",
    "# Learning algorithms benefit from standardization of the subset\n",
    "sc = StandardScaler()\n",
    "train_x_two_features = sc.fit_transform(train_x_two_features)\n",
    "test_x_two_features = sc.transform(test_x_two_features)"
   ]
  },
  {
   "cell_type": "markdown",
   "metadata": {},
   "source": [
    "Feature Importance\n",
    "We are using random forest to gain an insight on the importance of features. And we found out the IQR and Meanfun have the most importance"
   ]
  },
  {
   "cell_type": "code",
   "execution_count": 11,
   "metadata": {},
   "outputs": [
    {
     "data": {
      "image/png": "[encoded data removed]",
      "text/plain": [
       "<matplotlib.figure.Figure at 0x1a13b48110>"
      ]
     },
     "metadata": {},
     "output_type": "display_data"
    }
   ],
   "source": [
    "from sklearn.ensemble import RandomForestClassifier\n",
    "import matplotlib.pyplot as plt\n",
    "import seaborn as sns\n",
    "from pandas.tools.plotting import scatter_matrix\n",
    "\n",
    "clf = RandomForestClassifier()\n",
    "clf.fit(voices, labels)\n",
    "col_names = col_names[:-1]\n",
    "#print(col_names)\n",
    "importance = list(zip(clf.feature_importances_ , col_names))\n",
    "#print(importance)\n",
    "importance.sort()\n",
    "pd.DataFrame(importance, index=[x for (_,x) in importance]).plot(kind = 'barh', figsize=(20,len(importance)/2))\n",
    "plt.show()"
   ]
  },
  {
   "cell_type": "markdown",
   "metadata": {},
   "source": [
    "The plot above showed the top two features are still meanfun and IQR."
   ]
  },
  {
   "cell_type": "markdown",
   "metadata": {},
   "source": [
    "### Principle Component Analysis(PCA)\n",
    "The number of components is determined by looking at the cumulative explained variance ratio as a function of the number of components"
   ]
  },
  {
   "cell_type": "code",
   "execution_count": 12,
   "metadata": {},
   "outputs": [
    {
     "data": {
      "image/png": "[encoded data removed]",
      "text/plain": [
       "<matplotlib.figure.Figure at 0x1a1c871e10>"
      ]
     },
     "metadata": {},
     "output_type": "display_data"
    }
   ],
   "source": [
    "from sklearn.decomposition import PCA\n",
    "\n",
    "pca = PCA().fit(train_x)\n",
    "plt.plot(np.cumsum(pca.explained_variance_ratio_))\n",
    "plt.xlabel('number of components')\n",
    "plt.ylabel('cumulative explained variance');\n",
    "plt.show()"
   ]
  },
  {
   "cell_type": "markdown",
   "metadata": {},
   "source": [
    "This curve quantifies how much of the total, 20-dimensional variance is contained within the first N components. For example, we see that with the digits the first 5 components contain approximately 85% of the variance, while we need around 10 components to describe close to 100% of the variance."
   ]
  },
  {
   "cell_type": "code",
   "execution_count": 13,
   "metadata": {},
   "outputs": [],
   "source": [
    "pca = PCA(n_components = 10)\n",
    "pca.fit(train_x)\n",
    "pca_train_x = pca.transform(train_x)\n",
    "pca_test_x = pca.transform(test_x)"
   ]
  },
  {
   "cell_type": "code",
   "execution_count": 14,
   "metadata": {},
   "outputs": [
    {
     "name": "stdout",
     "output_type": "stream",
     "text": [
      "Stored 'train_x' (ndarray)\n",
      "Stored 'test_x' (ndarray)\n",
      "Stored 'train_y' (ndarray)\n",
      "Stored 'test_y' (ndarray)\n",
      "Stored 'voices' (ndarray)\n",
      "Stored 'labels' (ndarray)\n",
      "Stored 'train_x_two_features' (ndarray)\n",
      "Stored 'test_x_two_features' (ndarray)\n",
      "Stored 'train_y_two_features' (ndarray)\n",
      "Stored 'test_y_two_features' (ndarray)\n",
      "Stored 'pca_train_x' (ndarray)\n",
      "Stored 'pca_test_x' (ndarray)\n"
     ]
    }
   ],
   "source": [
    "# Store variables in the current directory and use it later\n",
    "%store train_x\n",
    "%store test_x\n",
    "%store train_y\n",
    "%store test_y\n",
    "\n",
    "%store voices\n",
    "%store labels\n",
    "\n",
    "%store train_x_two_features\n",
    "%store test_x_two_features\n",
    "%store train_y_two_features\n",
    "%store test_y_two_features\n",
    "\n",
    "%store pca_train_x\n",
    "%store pca_test_x"
   ]
  },
  {
   "cell_type": "code",
   "execution_count": 15,
   "metadata": {},
   "outputs": [],
   "source": [
    "# Importing Jupyter Notebooks as Modules \n",
    "# code get from http://jupyter-notebook.readthedocs.io/en/stable/examples/Notebook/Importing%20Notebooks.html\n",
    "\n",
    "import io, os, sys, types\n",
    "from IPython import get_ipython\n",
    "from nbformat import read\n",
    "from IPython.core.interactiveshell import InteractiveShell\n",
    "\n",
    "def find_notebook(fullname, path=None):\n",
    "    \"\"\"find a notebook, given its fully qualified name and an optional path\n",
    "\n",
    "    This turns \"foo.bar\" into \"foo/bar.ipynb\"\n",
    "    and tries turning \"Foo_Bar\" into \"Foo Bar\" if Foo_Bar\n",
    "    does not exist.\n",
    "    \"\"\"\n",
    "    name = fullname.rsplit('.', 1)[-1]\n",
    "    if not path:\n",
    "        path = ['']\n",
    "    for d in path:\n",
    "        nb_path = os.path.join(d, name + \".ipynb\")\n",
    "        if os.path.isfile(nb_path):\n",
    "            return nb_path\n",
    "        # let import Notebook_Name find \"Notebook Name.ipynb\"\n",
    "        nb_path = nb_path.replace(\"_\", \" \")\n",
    "        if os.path.isfile(nb_path):\n",
    "            return nb_path\n",
    "        \n",
    "        \n",
    "class NotebookLoader(object):\n",
    "    \"\"\"Module Loader for Jupyter Notebooks\"\"\"\n",
    "    def __init__(self, path=None):\n",
    "        self.shell = InteractiveShell.instance()\n",
    "        self.path = path\n",
    "\n",
    "    def load_module(self, fullname):\n",
    "        \"\"\"import a notebook as a module\"\"\"\n",
    "        path = find_notebook(fullname, self.path)\n",
    "\n",
    "        print (\"importing Jupyter notebook from %s\" % path)\n",
    "\n",
    "        # load the notebook object\n",
    "        with io.open(path, 'r', encoding='utf-8') as f:\n",
    "            nb = read(f, 4)\n",
    "\n",
    "\n",
    "        # create the module and add it to sys.modules\n",
    "        # if name in sys.modules:\n",
    "        #    return sys.modules[name]\n",
    "        mod = types.ModuleType(fullname)\n",
    "        mod.__file__ = path\n",
    "        mod.__loader__ = self\n",
    "        mod.__dict__['get_ipython'] = get_ipython\n",
    "        sys.modules[fullname] = mod\n",
    "\n",
    "        # extra work to ensure that magics that would affect the user_ns\n",
    "        # actually affect the notebook module's ns\n",
    "        save_user_ns = self.shell.user_ns\n",
    "        self.shell.user_ns = mod.__dict__\n",
    "\n",
    "        try:\n",
    "          for cell in nb.cells:\n",
    "            if cell.cell_type == 'code':\n",
    "                # transform the input to executable Python\n",
    "                code = self.shell.input_transformer_manager.transform_cell(cell.source)\n",
    "                # run the code in themodule\n",
    "                exec(code, mod.__dict__)\n",
    "        finally:\n",
    "            self.shell.user_ns = save_user_ns\n",
    "        return mod\n",
    "    \n",
    "\n",
    "class NotebookFinder(object):\n",
    "    \"\"\"Module finder that locates Jupyter Notebooks\"\"\"\n",
    "    def __init__(self):\n",
    "        self.loaders = {}\n",
    "\n",
    "    def find_module(self, fullname, path=None):\n",
    "        nb_path = find_notebook(fullname, path)\n",
    "        if not nb_path:\n",
    "            return\n",
    "\n",
    "        key = path\n",
    "        if path:\n",
    "            # lists aren't hashable\n",
    "            key = os.path.sep.join(path)\n",
    "\n",
    "        if key not in self.loaders:\n",
    "            self.loaders[key] = NotebookLoader(path)\n",
    "        return self.loaders[key]"
   ]
  },
  {
   "cell_type": "code",
   "execution_count": 16,
   "metadata": {},
   "outputs": [],
   "source": [
    "sys.meta_path.append(NotebookFinder())"
   ]
  },
  {
   "cell_type": "code",
   "execution_count": 19,
   "metadata": {},
   "outputs": [
    {
     "name": "stdout",
     "output_type": "stream",
     "text": [
      "Run linear svm with all features(Built-in Algorithm):\n",
      "In-sample accuracy for svm with Linear kernel: 0.9743290243\n",
      "Out-of-sample accuracy for svm with Linear kernel: 0.9722076268\n",
      "-----------------------------------------------------------\n",
      "Run rbf svm with all features(Built-in Algorithm):\n",
      "In-sample accuracy for svm with RBF kernel: 0.9806448362\n",
      "Out-of-sample accuracy for svm with RBF kernel: 0.9722235491\n",
      "===========================================================\n",
      "Run linear svm with dimensionality reduction using PCA(Built-in Algorithm)\n",
      "In-sample accuracy for svm with Linear kernel: 0.9751702488\n",
      "Out-of-sample accuracy for svm with Linear kernel: 0.9734654884\n",
      "-----------------------------------------------------------\n",
      "Run rbf svm with dimensionality reduction using PCA(Built-in Algorithm)\n",
      "In-sample accuracy for svm with RBF kernel: 0.9781202858\n",
      "Out-of-sample accuracy for svm with RBF kernel: 0.9633787119\n",
      "===========================================================\n",
      "Run linear svm with top 2 features(Built-in Algorithm):\n",
      "In-sample accuracy for svm with Linear kernel: 0.9629720840\n",
      "Out-of-sample accuracy for svm with Linear kernel: 0.9709338428\n",
      "===========================================================\n",
      "Run linear svm with dimensionality reduction using PCA(Built-in Algorithm)\n",
      "In-sample accuracy for svm with Linear kernel: 0.9751702488\n",
      "Out-of-sample accuracy for svm with Linear kernel: 0.9734654884\n",
      "-----------------------------------------------------------\n",
      "Run rbf svm with dimensionality reduction using PCA(Built-in Algorithm)\n",
      "In-sample accuracy for svm with RBF kernel: 0.9781202858\n",
      "Out-of-sample accuracy for svm with RBF kernel: 0.9633787119\n"
     ]
    }
   ],
   "source": [
    "import SVM\n",
    "print(\"Run linear svm with all features(Built-in Algorithm):\")\n",
    "SVM.run_linear_svm(train_x, test_x, train_y, test_y)\n",
    "print(\"-----------------------------------------------------------\")\n",
    "print(\"Run rbf svm with all features(Built-in Algorithm):\")\n",
    "SVM.run_rbf_svm(train_x, test_x, train_y, test_y)\n",
    "print(\"===========================================================\")\n",
    "print(\"Run linear svm with dimensionality reduction using PCA(Built-in Algorithm)\")\n",
    "SVM.run_linear_svm(pca_train_x, pca_test_x, train_y, test_y)\n",
    "print(\"-----------------------------------------------------------\")\n",
    "print(\"Run rbf svm with dimensionality reduction using PCA(Built-in Algorithm)\")\n",
    "SVM.run_rbf_svm(pca_train_x, pca_test_x, train_y, test_y)\n",
    "print(\"===========================================================\")\n",
    "print(\"Run linear svm with top 2 features(Built-in Algorithm):\")\n",
    "SVM.run_linear_svm(train_x_two_features, test_x_two_features, train_y_two_features, test_y_two_features)\n",
    "print(\"===========================================================\")\n",
    "print(\"Run linear svm with dimensionality reduction using PCA(Built-in Algorithm)\")\n",
    "SVM.run_linear_svm(pca_train_x, pca_test_x, train_y, test_y)\n",
    "print(\"-----------------------------------------------------------\")\n",
    "print(\"Run rbf svm with dimensionality reduction using PCA(Built-in Algorithm)\")\n",
    "SVM.run_rbf_svm(pca_train_x, pca_test_x, train_y, test_y)"
   ]
  },
  {
   "cell_type": "code",
   "execution_count": 20,
   "metadata": {
    "scrolled": false
   },
   "outputs": [
    {
     "name": "stdout",
     "output_type": "stream",
     "text": [
      "importing Jupyter notebook from KNN.ipynb\n"
     ]
    },
    {
     "data": {
      "image/png": "[encoded data removed]",
      "text/plain": [
       "<matplotlib.figure.Figure at 0x1a1c15d150>"
      ]
     },
     "metadata": {},
     "output_type": "display_data"
    },
    {
     "name": "stdout",
     "output_type": "stream",
     "text": [
      "Lowest error is 0.0176767676768 occurs at k=7.\n",
      "In-sample accuracy for KNN: 0.9696947768\n",
      "Out-of-sample accuracy for KNN: 0.9507602898\n",
      "\n",
      "Use self-written KNeighbors Classifier:\n",
      "Correct rate is 0.972222222222 when K = 1.\n",
      "Correct rate is 0.963383838384 when K = 2.\n",
      "Correct rate is 0.977272727273 when K = 3.\n",
      "Correct rate is 0.979797979798 when K = 4.\n",
      "Correct rate is 0.981060606061 when K = 5.\n",
      "Correct rate is 0.978535353535 when K = 6.\n",
      "Correct rate is 0.982323232323 when K = 7.\n",
      "Correct rate is 0.981060606061 when K = 8.\n",
      "Correct rate is 0.978535353535 when K = 9.\n",
      "Correct rate is 0.978535353535 when K = 10.\n",
      "Correct rate is 0.977272727273 when K = 11.\n",
      "Correct rate is 0.974747474747 when K = 12.\n",
      "Correct rate is 0.973484848485 when K = 13.\n",
      "Correct rate is 0.973484848485 when K = 14.\n",
      "Correct rate is 0.97095959596 when K = 15.\n",
      "Correct rate is 0.969696969697 when K = 16.\n",
      "Correct rate is 0.968434343434 when K = 17.\n",
      "Correct rate is 0.969696969697 when K = 18.\n",
      "Correct rate is 0.969696969697 when K = 19.\n",
      "Highest correct rate 0.982323232323 occurs at K = 7.\n",
      "\n",
      "Use self-written KNeighbors Classifier:\n",
      "Correct rate is 0.95202020202 when K = 1.\n",
      "Correct rate is 0.958333333333 when K = 2.\n",
      "Correct rate is 0.969696969697 when K = 3.\n",
      "Correct rate is 0.969696969697 when K = 4.\n",
      "Correct rate is 0.973484848485 when K = 5.\n",
      "Correct rate is 0.974747474747 when K = 6.\n",
      "Correct rate is 0.97095959596 when K = 7.\n",
      "Correct rate is 0.974747474747 when K = 8.\n",
      "Correct rate is 0.977272727273 when K = 9.\n",
      "Correct rate is 0.973484848485 when K = 10.\n",
      "Correct rate is 0.97601010101 when K = 11.\n",
      "Correct rate is 0.97095959596 when K = 12.\n",
      "Correct rate is 0.974747474747 when K = 13.\n",
      "Correct rate is 0.973484848485 when K = 14.\n",
      "Correct rate is 0.97601010101 when K = 15.\n",
      "Correct rate is 0.973484848485 when K = 16.\n",
      "Correct rate is 0.977272727273 when K = 17.\n",
      "Correct rate is 0.974747474747 when K = 18.\n",
      "Correct rate is 0.978535353535 when K = 19.\n",
      "Highest correct rate 0.978535353535 occurs at K = 19.\n",
      "\n",
      "Use self-written KNeighbors Classifier:\n",
      "Correct rate is 0.97095959596 when K = 1.\n",
      "Correct rate is 0.963383838384 when K = 2.\n",
      "Correct rate is 0.979797979798 when K = 3.\n",
      "Correct rate is 0.978535353535 when K = 4.\n",
      "Correct rate is 0.979797979798 when K = 5.\n",
      "Correct rate is 0.978535353535 when K = 6.\n",
      "Correct rate is 0.979797979798 when K = 7.\n",
      "Correct rate is 0.979797979798 when K = 8.\n",
      "Correct rate is 0.97601010101 when K = 9.\n",
      "Correct rate is 0.974747474747 when K = 10.\n",
      "Correct rate is 0.973484848485 when K = 11.\n",
      "Correct rate is 0.973484848485 when K = 12.\n",
      "Correct rate is 0.972222222222 when K = 13.\n",
      "Correct rate is 0.972222222222 when K = 14.\n",
      "Correct rate is 0.969696969697 when K = 15.\n",
      "Correct rate is 0.969696969697 when K = 16.\n",
      "Correct rate is 0.967171717172 when K = 17.\n",
      "Correct rate is 0.968434343434 when K = 18.\n",
      "Correct rate is 0.968434343434 when K = 19.\n",
      "Highest correct rate 0.979797979798 occurs at K = 3.\n",
      "with all features(Built-in Algorithm):\n"
     ]
    },
    {
     "data": {
      "image/png": "[encoded data removed]",
      "text/plain": [
       "<matplotlib.figure.Figure at 0x10dcaf790>"
      ]
     },
     "metadata": {},
     "output_type": "display_data"
    },
    {
     "name": "stdout",
     "output_type": "stream",
     "text": [
      "Lowest error is 0.0176767676768 occurs at k=7.\n",
      "In-sample accuracy for KNN: 0.9696947768\n",
      "Out-of-sample accuracy for KNN: 0.9507602898\n",
      "===========================================================\n",
      "with all features(Self-Written Algorithm):\n",
      "\n",
      "Use self-written KNeighbors Classifier:\n",
      "Correct rate is 0.972222222222 when K = 1.\n",
      "Correct rate is 0.963383838384 when K = 2.\n",
      "Correct rate is 0.977272727273 when K = 3.\n",
      "Correct rate is 0.979797979798 when K = 4.\n",
      "Correct rate is 0.981060606061 when K = 5.\n",
      "Correct rate is 0.978535353535 when K = 6.\n",
      "Correct rate is 0.982323232323 when K = 7.\n",
      "Correct rate is 0.981060606061 when K = 8.\n",
      "Correct rate is 0.978535353535 when K = 9.\n",
      "Correct rate is 0.978535353535 when K = 10.\n",
      "Correct rate is 0.977272727273 when K = 11.\n",
      "Correct rate is 0.974747474747 when K = 12.\n",
      "Correct rate is 0.973484848485 when K = 13.\n",
      "Correct rate is 0.973484848485 when K = 14.\n",
      "Correct rate is 0.97095959596 when K = 15.\n",
      "Correct rate is 0.969696969697 when K = 16.\n",
      "Correct rate is 0.968434343434 when K = 17.\n",
      "Correct rate is 0.969696969697 when K = 18.\n",
      "Correct rate is 0.969696969697 when K = 19.\n",
      "Highest correct rate 0.982323232323 occurs at K = 7.\n",
      "===========================================================\n",
      "with top 2 features(Built-in Algorithm):\n"
     ]
    },
    {
     "data": {
      "image/png": "[encoded data removed]",
      "text/plain": [
       "<matplotlib.figure.Figure at 0x1a12cb11d0>"
      ]
     },
     "metadata": {},
     "output_type": "display_data"
    },
    {
     "name": "stdout",
     "output_type": "stream",
     "text": [
      "Lowest error is 0.0214646464646 occurs at k=19.\n",
      "In-sample accuracy for KNN: 0.9654922078\n",
      "Out-of-sample accuracy for KNN: 0.9633468673\n",
      "===========================================================\n",
      "with top 2 features(Self-Written Algorithm):\n",
      "\n",
      "Use self-written KNeighbors Classifier:\n",
      "Correct rate is 0.95202020202 when K = 1.\n",
      "Correct rate is 0.958333333333 when K = 2.\n",
      "Correct rate is 0.969696969697 when K = 3.\n",
      "Correct rate is 0.969696969697 when K = 4.\n",
      "Correct rate is 0.973484848485 when K = 5.\n",
      "Correct rate is 0.974747474747 when K = 6.\n",
      "Correct rate is 0.97095959596 when K = 7.\n",
      "Correct rate is 0.974747474747 when K = 8.\n",
      "Correct rate is 0.977272727273 when K = 9.\n",
      "Correct rate is 0.973484848485 when K = 10.\n",
      "Correct rate is 0.97601010101 when K = 11.\n",
      "Correct rate is 0.97095959596 when K = 12.\n",
      "Correct rate is 0.974747474747 when K = 13.\n",
      "Correct rate is 0.973484848485 when K = 14.\n",
      "Correct rate is 0.97601010101 when K = 15.\n",
      "Correct rate is 0.973484848485 when K = 16.\n",
      "Correct rate is 0.977272727273 when K = 17.\n",
      "Correct rate is 0.974747474747 when K = 18.\n",
      "Correct rate is 0.978535353535 when K = 19.\n",
      "Highest correct rate 0.978535353535 occurs at K = 19.\n",
      "===========================================================\n",
      "with dimensionality reduction using PCA13(Built-in Algorithm)\n"
     ]
    },
    {
     "ename": "NameError",
     "evalue": "name 'pca13_train_x' is not defined",
     "output_type": "error",
     "traceback": [
      "\u001b[0;31m---------------------------------------------------------------------------\u001b[0m",
      "\u001b[0;31mNameError\u001b[0m                                 Traceback (most recent call last)",
      "\u001b[0;32m<ipython-input-20-6364be797388>\u001b[0m in \u001b[0;36m<module>\u001b[0;34m()\u001b[0m\n\u001b[1;32m     13\u001b[0m \u001b[0;32mprint\u001b[0m\u001b[0;34m(\u001b[0m\u001b[0;34m\"===========================================================\"\u001b[0m\u001b[0;34m)\u001b[0m\u001b[0;34m\u001b[0m\u001b[0m\n\u001b[1;32m     14\u001b[0m \u001b[0;32mprint\u001b[0m\u001b[0;34m(\u001b[0m\u001b[0;34m\"with dimensionality reduction using PCA13(Built-in Algorithm)\"\u001b[0m\u001b[0;34m)\u001b[0m\u001b[0;34m\u001b[0m\u001b[0m\n\u001b[0;32m---> 15\u001b[0;31m \u001b[0mKNN\u001b[0m\u001b[0;34m.\u001b[0m\u001b[0mrun_k_nearest_neighbour\u001b[0m\u001b[0;34m(\u001b[0m\u001b[0mpca13_train_x\u001b[0m\u001b[0;34m,\u001b[0m \u001b[0mpca13_test_x\u001b[0m\u001b[0;34m,\u001b[0m \u001b[0mtrain_y\u001b[0m\u001b[0;34m,\u001b[0m \u001b[0mtest_y\u001b[0m\u001b[0;34m)\u001b[0m\u001b[0;34m\u001b[0m\u001b[0m\n\u001b[0m\u001b[1;32m     16\u001b[0m \u001b[0;32mprint\u001b[0m\u001b[0;34m(\u001b[0m\u001b[0;34m\"===========================================================\"\u001b[0m\u001b[0;34m)\u001b[0m\u001b[0;34m\u001b[0m\u001b[0m\n\u001b[1;32m     17\u001b[0m \u001b[0;32mprint\u001b[0m\u001b[0;34m(\u001b[0m\u001b[0;34m\"with dimensionality reduction using PCA(Self-Written Algorithm)\"\u001b[0m\u001b[0;34m)\u001b[0m\u001b[0;34m\u001b[0m\u001b[0m\n",
      "\u001b[0;31mNameError\u001b[0m: name 'pca13_train_x' is not defined"
     ]
    }
   ],
   "source": [
    "import KNN\n",
    "print(\"with all features(Built-in Algorithm):\")\n",
    "KNN.run_k_nearest_neighbour(train_x, test_x, train_y, test_y)\n",
    "print(\"===========================================================\")\n",
    "print(\"with all features(Self-Written Algorithm):\")\n",
    "KNN.run_my_k_nearest_neighbour(train_x, test_x, train_y, test_y)\n",
    "print(\"===========================================================\")\n",
    "print(\"with top 2 features(Built-in Algorithm):\")\n",
    "KNN.run_k_nearest_neighbour(train_x_two_features, test_x_two_features, train_y_two_features, test_y_two_features)\n",
    "print(\"===========================================================\")\n",
    "print(\"with top 2 features(Self-Written Algorithm):\")\n",
    "KNN.run_my_k_nearest_neighbour(train_x_two_features, test_x_two_features, train_y_two_features, test_y_two_features)\n",
    "print(\"===========================================================\")\n",
    "print(\"with dimensionality reduction using PCA13(Built-in Algorithm)\")\n",
    "KNN.run_k_nearest_neighbour(pca13_train_x, pca13_test_x, train_y, test_y)\n",
    "print(\"===========================================================\")\n",
    "print(\"with dimensionality reduction using PCA(Self-Written Algorithm)\")\n",
    "KNN.run_my_k_nearest_neighbour(train_x, test_x, train_y, test_y)\n",
    "# print(\"===========================================================\")\n",
    "print(\"with dimensionality reduction using PCA(Self-Written Algorithm)\")\n",
    "KNN.run_my_k_nearest_neighbour(pca_train_x, pca_test_x, train_y, test_y)\n"
   ]
  },
  {
   "cell_type": "code",
   "execution_count": null,
   "metadata": {
    "scrolled": false
   },
   "outputs": [],
   "source": [
    "import Random_Forest\n",
    "print(\"Run random forest with all features(Built-in Algorithm):\")\n",
    "Random_Forest.run_random_forest_classifier(train_x, test_x, train_y, test_y)\n",
    "print(\"===============================================================================\\n\")\n",
    "print(\"Run random forest with top 2 features(Built-in Algorithm):\")\n",
    "Random_Forest.run_random_forest_classifier(train_x_two_features, test_x_two_features, train_y_two_features, test_y_two_features)\n",
    "print(\"===============================================================================\\n\")\n",
    "print(\"Run random forest with dimensionality reduction using PCA(Built-in Algorithm)\")\n",
    "Random_Forest.run_random_forest_classifier(pca_train_x, pca_test_x, train_y, test_y)"
   ]
  },
  {
   "cell_type": "code",
   "execution_count": null,
   "metadata": {},
   "outputs": [],
   "source": [
    "# import Decision_Tree\n",
    "# print(\"with all features(Built-in Algorithm):\")\n",
    "# Decision_Tree.run_Decision_tree(train_x, test_x, train_y, test_y)"
   ]
  },
  {
   "cell_type": "code",
   "execution_count": null,
   "metadata": {
    "scrolled": false
   },
   "outputs": [],
   "source": [
    "import Logistic_Regression\n",
    "print(\"Run Logistic Regression with all features(Built-in Algorithm):\")\n",
    "Logistic_Regression.run_Logistic_Regression(train_x, test_x, train_y, test_y)\n",
    "print(\"===============================================================================\\n\")\n",
    "print(\"Run Logistic Regression with top 2 features(Built-in Algorithm):\")\n",
    "Logistic_Regression.run_Logistic_Regression(train_x_two_features, test_x_two_features, train_y_two_features, test_y_two_features)\n",
    "print(\"===============================================================================\\n\")\n",
    "print(\"Run Logistic Regression with dimensionality reduction using PCA(Built-in Algorithm)\")\n",
    "Logistic_Regression.run_Logistic_Regression(pca_train_x, pca_test_x, train_y, test_y)"
   ]
  },
  {
   "cell_type": "code",
   "execution_count": null,
   "metadata": {
    "scrolled": false
   },
   "outputs": [],
   "source": [
    "import Neural_Network\n",
    "print(\"Run Neural Network with all features(Built-in Algorithm):\")\n",
    "Neural_Network.run_ANN(train_x, test_x, train_y, test_y)\n",
    "print(\"===============================================================================\\n\")"
   ]
  },
  {
   "cell_type": "code",
   "execution_count": null,
   "metadata": {},
   "outputs": [],
   "source": []
  },
  {
   "cell_type": "code",
   "execution_count": null,
   "metadata": {},
   "outputs": [],
   "source": []
  },
  {
   "cell_type": "code",
   "execution_count": null,
   "metadata": {},
   "outputs": [],
   "source": [
    "from sklearn.neighbors import KNeighborsClassifier\n",
    "from sklearn.naive_bayes import GaussianNB\n",
    "from sklearn.ensemble import RandomForestClassifier\n",
    "from sklearn import tree\n",
    "from sklearn import svm\n",
    "def getModels(train_x, test_x, train_y, test_y):\n",
    "    # KNN\n",
    "    error_rate = []\n",
    "    kvals = range(1,21)  # range of k parameters to test\n",
    "    for i in kvals:\n",
    "        knn = KNeighborsClassifier(n_neighbors=i)\n",
    "        knn.fit(train_x,train_y)\n",
    "        pred_y_i = knn.predict(test_x)\n",
    "        error_rate.append(np.mean(pred_y_i != test_y))\n",
    "    kloc = error_rate.index(min(error_rate))\n",
    "    clf = KNeighborsClassifier(kvals[kloc], 'uniform')\n",
    "    clf1 =clf.fit(train_x, train_y)\n",
    "    \n",
    "    # DT\n",
    "    clf2 = tree.DecisionTreeClassifier()\n",
    "    clf2 = clf2.fit(train_x, train_y)\n",
    "    \n",
    "    # RF\n",
    "    error_rate = []\n",
    "    nvals = range(1,301,30)\n",
    "    for i in nvals:\n",
    "        clf = RandomForestClassifier(n_estimators=i)\n",
    "        clf.fit(train_x,train_y)\n",
    "        pred_y_i = clf.predict(test_x)\n",
    "        error_rate.append(np.mean(pred_y_i != test_y))\n",
    "    nloc = error_rate.index(min(error_rate))\n",
    "    clf3 = RandomForestClassifier(n_estimators= nvals[nloc])\n",
    "    clf3 = clf3.fit(train_x, train_y)\n",
    "    \n",
    "    # SVM\n",
    "    clf4 = svm.SVC()\n",
    "    clf4 = clf4.fit(train_x, train_y)\n",
    "    \n",
    "    # NB\n",
    "    clf5 = GaussianNB()\n",
    "    clf5 = clf5.fit(train_x, train_y)\n",
    "     \n",
    "    return [clf1, clf2, clf3, clf4, clf5]"
   ]
  },
  {
   "cell_type": "code",
   "execution_count": null,
   "metadata": {},
   "outputs": [],
   "source": [
    "# Majority vote\n",
    "def run_majority_voting(train_x, test_x, train_y, test_y):\n",
    "    models = getModels(train_x, test_x, train_y, test_y);\n",
    "    correct = 0;\n",
    "    for i in range(len(test_x)):\n",
    "        count = 0;\n",
    "        for j in range(len(models)):\n",
    "            if (models[j].predict(test_x[i].reshape(1,-1))[0] == test_y[i]):\n",
    "                count = count + 1;\n",
    "            else:\n",
    "                count = count - 1;\n",
    "        if (count > 0):\n",
    "            correct = correct + 1;\n",
    "        \n",
    "    accuracy = (correct*1.0)/len(test_x)\n",
    "    print(\"Majority vote accuracy : %.10f\" % accuracy)"
   ]
  },
  {
   "cell_type": "code",
   "execution_count": null,
   "metadata": {},
   "outputs": [],
   "source": [
    "# print(\"Run majority voting with all features(Built-in Algorithm):\")\n",
    "# run_majority_voting(train_x, test_x, train_y, test_y)\n",
    "# print(\"===============================================================================\")\n",
    "# print(\"Run majority voting with top 2 features(Built-in Algorithm):\")\n",
    "# run_majority_voting(train_x_two_features, test_x_two_features, train_y_two_features, test_y_two_features)\n",
    "# print(\"===============================================================================\")\n",
    "# print(\"Run majority voting with dimensionality reduction using PCA(Built-in Algorithm)\")\n",
    "# run_majority_voting(pca_train_x, pca_test_x, train_y, test_y)\n",
    "# print(\"===============================================================================\")\n",
    "# print(\"Run majority voting with dimensionality reduction using LDA(Built-in Algorithm)\")\n",
    "# run_majority_voting(lda_train_x, lda_test_x, train_y, test_y)"
   ]
  },
  {
   "cell_type": "code",
   "execution_count": null,
   "metadata": {},
   "outputs": [],
   "source": [
    "# # Test data\n",
    "# path = '/Users/Kassi/Desktop/Gender_Recognition_by_Voice/voice_test.csv'\n",
    "# voice_data_test = pd.read_csv(path)\n",
    "# print(\"Total number of samples: {}\".format(voice_data_test.shape[0]))\n",
    "# print(\"Total number of male: {}\".format(voice_data_test[voice_data_test.label == 'male'].shape[0]))\n",
    "# print(\"Total number of female: {}\".format(voice_data_test[voice_data_test.label == 'female'].shape[0]))\n",
    "# print(\"Correlation between each feature\")"
   ]
  },
  {
   "cell_type": "code",
   "execution_count": null,
   "metadata": {},
   "outputs": [],
   "source": [
    "# voice_data_test.isnull().any().any()"
   ]
  },
  {
   "cell_type": "code",
   "execution_count": null,
   "metadata": {},
   "outputs": [],
   "source": [
    "# voice_data_test = voice_data_test.values\n",
    "# voices_test = voice_data_test[:, :-1] \n",
    "# labels_test = voice_data_test[:, -1:]"
   ]
  },
  {
   "cell_type": "code",
   "execution_count": null,
   "metadata": {},
   "outputs": [],
   "source": [
    "# gender_encoder = LabelEncoder()\n",
    "# labels_test = gender_encoder.fit_transform(labels_test)\n",
    "# # labels_test"
   ]
  },
  {
   "cell_type": "code",
   "execution_count": null,
   "metadata": {},
   "outputs": [],
   "source": [
    "# # randomly shuffle our data\n",
    "# voices_tmp = []  \n",
    "# lables_tmp = []  \n",
    "# index_shuf = range(len(voices_test)) \n",
    "# random.shuffle(index_shuf) \n",
    "# for i in index_shuf:  \n",
    "#     voices_tmp.append(voices_test[i])  \n",
    "#     lables_tmp.append(labels_test[i])  \n",
    "# voices_test = np.array(voices_tmp)  \n",
    "# labels_test = np.array(lables_tmp) \n"
   ]
  },
  {
   "cell_type": "code",
   "execution_count": null,
   "metadata": {},
   "outputs": [],
   "source": []
  },
  {
   "cell_type": "code",
   "execution_count": null,
   "metadata": {},
   "outputs": [],
   "source": [
    "# import Random_Forest\n",
    "# print(\"Run random forest with all features(Built-in Algorithm):\")\n",
    "# Random_Forest.run_random_forest_classifier(train_x, voices_test, train_y,labels_test)\n",
    "# print(\"===============================================================================\\n\")\n",
    "# print(\"Run majority voting with all features(Built-in Algorithm):\")\n",
    "# run_majority_voting(train_x, voices_test, train_y, labels_test)\n",
    "# print(\"===============================================================================\\n\")\n",
    "# print(\"Run linear svm with all features(Built-in Algorithm):\")\n",
    "# SVM.run_linear_svm(train_x, voices_test, train_y, labels_test)\n",
    "# print(\"===============================================================================\\n\")\n",
    "# print(\"Run rbf svm with all features(Built-in Algorithm):\")\n",
    "# SVM.run_rbf_svm(train_x, voices_test, train_y, labels_test)\n",
    "# print(\"===============================================================================\\n\")\n",
    "# print(\"with all features(Built-in Algorithm):\")\n",
    "# KNN.run_k_nearest_neighbour(train_x, test_x, train_y, test_y)"
   ]
  },
  {
   "cell_type": "code",
   "execution_count": null,
   "metadata": {},
   "outputs": [],
   "source": []
  }
 ],
 "metadata": {
  "kernelspec": {
   "display_name": "Python 2",
   "language": "python",
   "name": "python2"
  },
  "language_info": {
   "codemirror_mode": {
    "name": "ipython",
    "version": 2
   },
   "file_extension": ".py",
   "mimetype": "text/x-python",
   "name": "python",
   "nbconvert_exporter": "python",
   "pygments_lexer": "ipython2",
   "version": "2.7.13"
  }
 },
 "nbformat": 4,
 "nbformat_minor": 2
}
