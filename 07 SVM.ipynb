{
 "cells": [
  {
   "cell_type": "code",
   "execution_count": 1,
   "metadata": {
    "collapsed": true
   },
   "outputs": [],
   "source": [
    "# Packages for analysis\n",
    "import pandas as pd\n",
    "import numpy as np\n",
    "from sklearn import svm\n",
    "from sklearn.svm import SVC\n",
    "from sklearn import metrics\n",
    "from sklearn.model_selection import train_test_split\n",
    "\n",
    "# Packages for visuals\n",
    "import matplotlib.pyplot as plt\n",
    "import seaborn as sns; sns.set(font_scale=1.2)"
   ]
  },
  {
   "cell_type": "code",
   "execution_count": 2,
   "metadata": {
    "collapsed": true
   },
   "outputs": [],
   "source": [
    "alleletronicsdata = pd.read_csv('/Users/Kassi/Desktop/voice-gender/voice.csv')"
   ]
  },
  {
   "cell_type": "code",
   "execution_count": 3,
   "metadata": {
    "collapsed": true
   },
   "outputs": [],
   "source": [
    "# We use 80% data for training, 20% for testing\n",
    "x_train, x_test, y_train, y_test = train_test_split(alleletronicsdata.iloc[:,0:-1],\n",
    "                                                    alleletronicsdata.iloc[:,-1], test_size=0.2,random_state=1)"
   ]
  },
  {
   "cell_type": "code",
   "execution_count": 4,
   "metadata": {},
   "outputs": [
    {
     "name": "stdout",
     "output_type": "stream",
     "text": [
      "('In-sample accuracy in SVM: ', 0.70380434782608692)\n",
      "('Out-of-sample accuracy in SVM: ', 0.53260869565217395)\n"
     ]
    }
   ],
   "source": [
    "# SVM with Default Parameter without scaling\n",
    "from sklearn.svm import SVC\n",
    "from sklearn.metrics import accuracy_score\n",
    "\n",
    "svc=SVC()\n",
    "svc.fit(x_train,y_train)\n",
    "\n",
    "prediction = svc.predict(x_train)\n",
    "print('In-sample accuracy in SVM: ', accuracy_score(y_train,prediction))\n",
    "\n",
    "prediction = svc.predict(x_test)\n",
    "print('Out-of-sample accuracy in SVM: ', accuracy_score(y_test,prediction))"
   ]
  },
  {
   "cell_type": "code",
   "execution_count": 5,
   "metadata": {},
   "outputs": [
    {
     "name": "stdout",
     "output_type": "stream",
     "text": [
      "('In-sample accuracy in SVM: ', 0.8125)\n",
      "('Out-of-sample accuracy in SVM: ', 0.78260869565217395)\n"
     ]
    }
   ],
   "source": [
    "# SVM with Linear Kernel without scaling\n",
    "\n",
    "svc=SVC(kernel='linear')\n",
    "svc.fit(x_train, y_train)\n",
    "\n",
    "prediction = svc.predict(x_train)\n",
    "print('In-sample accuracy in SVM: ', accuracy_score(y_train,prediction))\n",
    "\n",
    "prediction = svc.predict(x_test)\n",
    "print('Out-of-sample accuracy in SVM: ', accuracy_score(y_test,prediction))"
   ]
  },
  {
   "cell_type": "code",
   "execution_count": 6,
   "metadata": {},
   "outputs": [
    {
     "name": "stdout",
     "output_type": "stream",
     "text": [
      "('In-sample accuracy in SVM: ', 0.70380434782608692)\n",
      "('Out-of-sample accuracy in SVM: ', 0.53260869565217395)\n"
     ]
    }
   ],
   "source": [
    "# SVM with RBF Kernel without Scaling\n",
    "svc=SVC(kernel='rbf')\n",
    "svc.fit(x_train, y_train)\n",
    "\n",
    "prediction = svc.predict(x_train)\n",
    "print('In-sample accuracy in SVM: ', accuracy_score(y_train,prediction))\n",
    "\n",
    "prediction = svc.predict(x_test)\n",
    "print('Out-of-sample accuracy in SVM: ', accuracy_score(y_test,prediction))"
   ]
  },
  {
   "cell_type": "code",
   "execution_count": 7,
   "metadata": {},
   "outputs": [
    {
     "name": "stdout",
     "output_type": "stream",
     "text": [
      "('In-sample accuracy in SVM: ', 0.8125)\n",
      "('Out-of-sample accuracy in SVM: ', 0.78260869565217395)\n",
      "\n",
      "('In-sample accuracy in SVM: ', 0.84510869565217395)\n",
      "('Out-of-sample accuracy in SVM: ', 0.79347826086956519)\n",
      "\n",
      "('In-sample accuracy in SVM: ', 0.85326086956521741)\n",
      "('Out-of-sample accuracy in SVM: ', 0.78260869565217395)\n",
      "\n",
      "('In-sample accuracy in SVM: ', 0.85869565217391308)\n",
      "('Out-of-sample accuracy in SVM: ', 0.79347826086956519)\n",
      "\n",
      "('In-sample accuracy in SVM: ', 0.87771739130434778)\n",
      "('Out-of-sample accuracy in SVM: ', 0.78260869565217395)\n",
      "\n",
      "('In-sample accuracy in SVM: ', 0.88586956521739135)\n",
      "('Out-of-sample accuracy in SVM: ', 0.79347826086956519)\n",
      "\n",
      "('In-sample accuracy in SVM: ', 0.89402173913043481)\n",
      "('Out-of-sample accuracy in SVM: ', 0.80434782608695654)\n",
      "\n",
      "('In-sample accuracy in SVM: ', 0.89130434782608692)\n",
      "('Out-of-sample accuracy in SVM: ', 0.80434782608695654)\n",
      "\n",
      "('In-sample accuracy in SVM: ', 0.88858695652173914)\n",
      "('Out-of-sample accuracy in SVM: ', 0.80434782608695654)\n",
      "\n",
      "('In-sample accuracy in SVM: ', 0.89130434782608692)\n",
      "('Out-of-sample accuracy in SVM: ', 0.81521739130434778)\n",
      "\n",
      "('In-sample accuracy in SVM: ', 0.89130434782608692)\n",
      "('Out-of-sample accuracy in SVM: ', 0.82608695652173914)\n",
      "\n",
      "('In-sample accuracy in SVM: ', 0.89402173913043481)\n",
      "('Out-of-sample accuracy in SVM: ', 0.83695652173913049)\n",
      "\n",
      "('In-sample accuracy in SVM: ', 0.89130434782608692)\n",
      "('Out-of-sample accuracy in SVM: ', 0.84782608695652173)\n",
      "\n",
      "('In-sample accuracy in SVM: ', 0.89130434782608692)\n",
      "('Out-of-sample accuracy in SVM: ', 0.84782608695652173)\n",
      "\n",
      "('In-sample accuracy in SVM: ', 0.89673913043478259)\n",
      "('Out-of-sample accuracy in SVM: ', 0.85869565217391308)\n",
      "\n"
     ]
    }
   ],
   "source": [
    "# Accuracy in SVM with linear knernel accuracy gives us the highest accuracy.\n",
    "# Hyper-parameter Tuning \n",
    "# Try different values of C for linear kernel to improve the accuracy\n",
    "\n",
    "in_sample_p = []\n",
    "out_of_sample_p = []\n",
    "for k in range(1, 16):\n",
    "    svc=SVC(kernel='linear', C=k) \n",
    "    svc.fit(x_train, y_train) \n",
    "    \n",
    "    prediction = svc.predict(x_train)\n",
    "    acc1 = accuracy_score(y_train,prediction)\n",
    "    print('In-sample accuracy in SVM: ', acc1)\n",
    "    in_sample_p.append(acc1)\n",
    "\n",
    "    prediction = svc.predict(x_test)\n",
    "    acc2 = accuracy_score(y_test,prediction)\n",
    "    print('Out-of-sample accuracy in SVM: ', acc2)\n",
    "    out_of_sample_p.append(acc2)\n",
    "    print('')"
   ]
  },
  {
   "cell_type": "code",
   "execution_count": 8,
   "metadata": {},
   "outputs": [
    {
     "name": "stdout",
     "output_type": "stream",
     "text": [
      "Accuracy is high at C = 15\n",
      "In-sample accuracy at C = 15 is 0.896739130435:\n",
      "Out-of-sample accuracy at C = 15 is 0.858695652174:\n"
     ]
    }
   ],
   "source": [
    "max_value = max(out_of_sample_p)\n",
    "index_value = out_of_sample_p.index(max(out_of_sample_p)) + 1\n",
    "print('Accuracy is high at C = %s' % (index_value))\n",
    "print('In-sample accuracy at C = %s is %s:' % (index_value, in_sample_p[index_value-1]))\n",
    "print('Out-of-sample accuracy at C = %s is %s:' % (index_value, out_of_sample_p[index_value-1]))\n"
   ]
  },
  {
   "cell_type": "markdown",
   "metadata": {},
   "source": [
    "When C value is small underfitting occurs when C value is large overfitting occurs, both spoil the performance of the model. Therfore we can identify that C = 13 is the optimal value and it increases the value by 6.5%. (calculation: (0.8478-0.7826)*100)"
   ]
  },
  {
   "cell_type": "code",
   "execution_count": 9,
   "metadata": {
    "collapsed": true
   },
   "outputs": [],
   "source": [
    "# Is it enough of these two features to make predictions? \n",
    "# SVM with 2 features ('meanfun', 'IQR')\n",
    "\n",
    "columns_to_use = [ 'IQR',  'meanfun','label']\n",
    "data_new = alleletronicsdata.loc[:, columns_to_use].copy()\n",
    "\n",
    "# Again, we use 80% data for training, 20% for testing\n",
    "x_train, x_test, y_train, y_test = train_test_split(data_new.iloc[:,0:-1],\n",
    "                                                    data_new.iloc[:,-1], test_size=0.2,random_state=1)"
   ]
  },
  {
   "cell_type": "code",
   "execution_count": 10,
   "metadata": {},
   "outputs": [
    {
     "name": "stdout",
     "output_type": "stream",
     "text": [
      "('In-sample accuracy in SVM: ', 0.82065217391304346)\n",
      "('Out-of-sample accuracy in SVM: ', 0.73913043478260865)\n"
     ]
    }
   ],
   "source": [
    "# SVM with Default Parameter with scaling\n",
    "svc=SVC()\n",
    "svc.fit(x_train,y_train)\n",
    "\n",
    "prediction = svc.predict(x_train)\n",
    "print('In-sample accuracy in SVM: ', accuracy_score(y_train,prediction))\n",
    "\n",
    "prediction = svc.predict(x_test)\n",
    "print('Out-of-sample accuracy in SVM: ', accuracy_score(y_test,prediction))"
   ]
  },
  {
   "cell_type": "code",
   "execution_count": 11,
   "metadata": {},
   "outputs": [
    {
     "name": "stdout",
     "output_type": "stream",
     "text": [
      "('In-sample accuracy in SVM: ', 0.82065217391304346)\n",
      "('Out-of-sample accuracy in SVM: ', 0.73913043478260865)\n"
     ]
    }
   ],
   "source": [
    "# SVM with Linear Kernel with scaling\n",
    "svc=SVC(kernel='linear')\n",
    "svc.fit(x_train, y_train)\n",
    "\n",
    "prediction = svc.predict(x_train)\n",
    "print('In-sample accuracy in SVM: ', accuracy_score(y_train,prediction))\n",
    "\n",
    "prediction = svc.predict(x_test)\n",
    "print('Out-of-sample accuracy in SVM: ', accuracy_score(y_test,prediction))"
   ]
  },
  {
   "cell_type": "code",
   "execution_count": 12,
   "metadata": {},
   "outputs": [
    {
     "name": "stdout",
     "output_type": "stream",
     "text": [
      "('In-sample accuracy in SVM: ', 0.82065217391304346)\n",
      "('Out-of-sample accuracy in SVM: ', 0.73913043478260865)\n"
     ]
    }
   ],
   "source": [
    "# SVM with RBF Kernel with Scaling\n",
    "svc=SVC(kernel='rbf')\n",
    "svc.fit(x_train, y_train)\n",
    "\n",
    "prediction = svc.predict(x_train)\n",
    "print('In-sample accuracy in SVM: ', accuracy_score(y_train,prediction))\n",
    "\n",
    "prediction = svc.predict(x_test)\n",
    "print('Out-of-sample accuracy in SVM: ', accuracy_score(y_test,prediction))"
   ]
  },
  {
   "cell_type": "markdown",
   "metadata": {},
   "source": [
    "We found that the three different kernel types give us the same accuracy rate in both the in-sample and out-of-sample predictions. "
   ]
  },
  {
   "cell_type": "code",
   "execution_count": 13,
   "metadata": {
    "scrolled": true
   },
   "outputs": [
    {
     "name": "stdout",
     "output_type": "stream",
     "text": [
      "('In-sample accuracy in SVM: ', 0.82065217391304346)\n",
      "('Out-of-sample accuracy in SVM: ', 0.73913043478260865)\n",
      "\n",
      "('In-sample accuracy in SVM: ', 0.86413043478260865)\n",
      "('Out-of-sample accuracy in SVM: ', 0.78260869565217395)\n",
      "\n",
      "('In-sample accuracy in SVM: ', 0.86956521739130432)\n",
      "('Out-of-sample accuracy in SVM: ', 0.83695652173913049)\n",
      "\n",
      "('In-sample accuracy in SVM: ', 0.875)\n",
      "('Out-of-sample accuracy in SVM: ', 0.82608695652173914)\n",
      "\n",
      "('In-sample accuracy in SVM: ', 0.875)\n",
      "('Out-of-sample accuracy in SVM: ', 0.82608695652173914)\n",
      "\n",
      "('In-sample accuracy in SVM: ', 0.87771739130434778)\n",
      "('Out-of-sample accuracy in SVM: ', 0.82608695652173914)\n",
      "\n",
      "('In-sample accuracy in SVM: ', 0.88043478260869568)\n",
      "('Out-of-sample accuracy in SVM: ', 0.83695652173913049)\n",
      "\n",
      "('In-sample accuracy in SVM: ', 0.88043478260869568)\n",
      "('Out-of-sample accuracy in SVM: ', 0.83695652173913049)\n",
      "\n",
      "('In-sample accuracy in SVM: ', 0.88043478260869568)\n",
      "('Out-of-sample accuracy in SVM: ', 0.83695652173913049)\n",
      "\n",
      "('In-sample accuracy in SVM: ', 0.88315217391304346)\n",
      "('Out-of-sample accuracy in SVM: ', 0.84782608695652173)\n",
      "\n",
      "('In-sample accuracy in SVM: ', 0.88315217391304346)\n",
      "('Out-of-sample accuracy in SVM: ', 0.84782608695652173)\n",
      "\n",
      "('In-sample accuracy in SVM: ', 0.88043478260869568)\n",
      "('Out-of-sample accuracy in SVM: ', 0.84782608695652173)\n",
      "\n",
      "('In-sample accuracy in SVM: ', 0.88043478260869568)\n",
      "('Out-of-sample accuracy in SVM: ', 0.84782608695652173)\n",
      "\n",
      "('In-sample accuracy in SVM: ', 0.88043478260869568)\n",
      "('Out-of-sample accuracy in SVM: ', 0.84782608695652173)\n",
      "\n",
      "('In-sample accuracy in SVM: ', 0.88043478260869568)\n",
      "('Out-of-sample accuracy in SVM: ', 0.84782608695652173)\n",
      "\n"
     ]
    }
   ],
   "source": [
    "# We would like to try different values of C for linear kernel \n",
    "#     to see if any improvement in performance can be made.\n",
    "\n",
    "new_in_sample_p = []\n",
    "new_out_of_sample_p = []\n",
    "for k in range(1, 16):\n",
    "    svc=SVC(kernel='linear', C=k) \n",
    "    svc.fit(x_train, y_train) \n",
    "    \n",
    "    prediction = svc.predict(x_train)\n",
    "    acc1 = accuracy_score(y_train,prediction)\n",
    "    print('In-sample accuracy in SVM: ', acc1)\n",
    "    new_in_sample_p.append(acc1)\n",
    "\n",
    "    prediction = svc.predict(x_test)\n",
    "    acc2 = accuracy_score(y_test,prediction)\n",
    "    print('Out-of-sample accuracy in SVM: ', acc2)\n",
    "    new_out_of_sample_p.append(acc2)\n",
    "    print('')"
   ]
  },
  {
   "cell_type": "code",
   "execution_count": 14,
   "metadata": {},
   "outputs": [
    {
     "name": "stdout",
     "output_type": "stream",
     "text": [
      "Accuracy is high at C = 15\n",
      "In-sample accuracy at C = 15 is 0.880434782609:\n",
      "Out-of-sample accuracy at C = 15 is 0.847826086957:\n"
     ]
    }
   ],
   "source": [
    "max_value = max(out_of_sample_p)\n",
    "index_value = out_of_sample_p.index(max(out_of_sample_p)) + 1\n",
    "print('Accuracy is high at C = %s' % (index_value))\n",
    "print('In-sample accuracy at C = %s is %s:' % (index_value, new_in_sample_p[index_value-1]))\n",
    "print('Out-of-sample accuracy at C = %s is %s:' % (index_value, new_out_of_sample_p[index_value-1]))\n"
   ]
  },
  {
   "cell_type": "markdown",
   "metadata": {},
   "source": [
    "We found that C = 13 is the optimal value and it increases the value by 10.9%. (calculation: 100*(0.8478-0.7391))\n"
   ]
  },
  {
   "cell_type": "code",
   "execution_count": 15,
   "metadata": {},
   "outputs": [
    {
     "data": {
      "text/plain": [
       "SVC(C=13, cache_size=200, class_weight=None, coef0=0.0,\n",
       "  decision_function_shape='ovr', degree=3, gamma='auto', kernel='linear',\n",
       "  max_iter=-1, probability=False, random_state=None, shrinking=True,\n",
       "  tol=0.001, verbose=False)"
      ]
     },
     "execution_count": 15,
     "metadata": {},
     "output_type": "execute_result"
    }
   ],
   "source": [
    "# Fit the SVM model C=13\n",
    "features = data_new[['IQR',  'meanfun']].as_matrix()\n",
    "gender_label = np.where(data_new['label']=='male', 0, 1)\n",
    "\n",
    "# Since we get highest accuracy rate when C=?, so we fit the SVM model wotj C=13\n",
    "model = svm.SVC(kernel='linear',C=13)  \n",
    "model.fit(features, gender_label)"
   ]
  },
  {
   "cell_type": "code",
   "execution_count": 16,
   "metadata": {},
   "outputs": [
    {
     "data": {
      "image/png": "[encoded data removed]",
      "text/plain": [
       "<matplotlib.figure.Figure at 0x1a09497e50>"
      ]
     },
     "metadata": {},
     "output_type": "display_data"
    }
   ],
   "source": [
    "# Get the separating hyperplane\n",
    "w = model.coef_[0]\n",
    "a = -w[0] / w[1]\n",
    "xx = np.linspace(0,0.3)\n",
    "yy = a * xx - (model.intercept_[0]) / w[1]\n",
    "\n",
    "\n",
    "# Plot the hyperplane\n",
    "sns.lmplot('IQR',  'meanfun', data=data_new, hue='label', palette='Set2', fit_reg=False, scatter_kws={\"s\": 50})\n",
    "plt.plot(xx, yy, linewidth=2, color='black')\n",
    "plt.show()"
   ]
  }
 ],
 "metadata": {
  "kernelspec": {
   "display_name": "Python 2",
   "language": "python",
   "name": "python2"
  },
  "language_info": {
   "codemirror_mode": {
    "name": "ipython",
    "version": 2
   },
   "file_extension": ".py",
   "mimetype": "text/x-python",
   "name": "python",
   "nbconvert_exporter": "python",
   "pygments_lexer": "ipython2",
   "version": "2.7.13"
  }
 },
 "nbformat": 4,
 "nbformat_minor": 2
}
