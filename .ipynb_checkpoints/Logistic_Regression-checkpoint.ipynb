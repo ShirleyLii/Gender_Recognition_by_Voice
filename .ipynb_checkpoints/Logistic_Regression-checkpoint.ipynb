{
 "cells": [
  {
   "cell_type": "code",
   "execution_count": 102,
   "metadata": {},
   "outputs": [],
   "source": [
    "# Logistic Regression\n",
    "# Importing the libraries\n",
    "import pandas as pd\n",
    "import numpy as np\n",
    "from sklearn import preprocessing\n",
    "import matplotlib.pyplot as plt \n",
    "from sklearn.linear_model import LogisticRegression\n",
    "from sklearn.cross_validation import train_test_split\n",
    "from sklearn.model_selection import cross_val_score\n",
    "from sklearn.linear_model import LogisticRegression"
   ]
  },
  {
   "cell_type": "code",
   "execution_count": 103,
   "metadata": {
    "collapsed": true
   },
   "outputs": [],
   "source": [
    "# %store -r train_x\n",
    "# %store -r train_y\n",
    "# %store -r test_x\n",
    "# %store -r test_y\n",
    "# %store -r train_x_two_features\n",
    "# %store -r test_x_two_features\n",
    "# %store -r train_y_two_features\n",
    "# %store -r test_y_two_features"
   ]
  },
  {
   "cell_type": "code",
   "execution_count": 104,
   "metadata": {},
   "outputs": [
    {
     "name": "stdout",
     "output_type": "stream",
     "text": [
      "0.97601010101\n"
     ]
    }
   ],
   "source": [
    "# # Fitting Logistic Regression to the Training set\n",
    "# from sklearn import metrics\n",
    "# classifier = LogisticRegression(random_state = 0)\n",
    "# classifier.fit(train_x, train_y)\n",
    "\n",
    "# # Predicting the Test set results\n",
    "# prediction = classifier.predict(test_x)\n",
    "\n",
    "# print(metrics.accuracy_score(test_y,prediction))\n"
   ]
  },
  {
   "cell_type": "code",
   "execution_count": 105,
   "metadata": {},
   "outputs": [
    {
     "data": {
      "image/png": "[encoded data removed]",
      "text/plain": [
       "<matplotlib.figure.Figure at 0x1a12412a90>"
      ]
     },
     "metadata": {},
     "output_type": "display_data"
    },
    {
     "name": "stdout",
     "output_type": "stream",
     "text": [
      "Lowest error is 0.0277777777778 occurs at k=1.\n",
      "In-sample accuracy for Logistic Regression: 0.9629729723\n",
      "Out-of-sample accuracy for Logistic Regression: 0.9696759812\n"
     ]
    },
    {
     "data": {
      "image/png": "[encoded data removed]",
      "text/plain": [
       "<matplotlib.figure.Figure at 0x1a12412978>"
      ]
     },
     "metadata": {},
     "output_type": "display_data"
    },
    {
     "name": "stdout",
     "output_type": "stream",
     "text": [
      "Lowest error is 0.0277777777778 occurs at k=1.\n",
      "In-sample accuracy for Logistic Regression: 0.9629729723\n",
      "Out-of-sample accuracy for Logistic Regression: 0.9696759812\n"
     ]
    }
   ],
   "source": [
    "def run_Logistic_Regression(train_x,test_x,train_y,test_y):\n",
    "    error_rate = []\n",
    "    kvals = range(1,21)  # range of k parameters to test\n",
    "    for i in kvals:\n",
    "        lr = LogisticRegression(random_state = 0)\n",
    "        lr.fit(train_x,train_y)\n",
    "        pred_y_i = lr.predict(test_x)\n",
    "        error_rate.append(np.mean(pred_y_i != test_y))\n",
    "    plt.plot(kvals, error_rate, color='blue', linestyle='dashed', marker='o',\n",
    "         markerfacecolor='red', markersize=10)\n",
    "    plt.title('Error Rate vs. K Value')\n",
    "    plt.xlabel('K')\n",
    "    plt.ylabel('Error Rate')\n",
    "    plt.show()\n",
    "    kloc = error_rate.index(min(error_rate))\n",
    "    print('Lowest error is %s occurs at k=%s.' % (error_rate[kloc], kvals[kloc]))\n",
    "    clf = LogisticRegression(random_state = 0)\n",
    "    clf.fit(train_x, train_y)\n",
    "    \n",
    "    scores = cross_val_score(clf, train_x, train_y, cv=5)\n",
    "    print(\"In-sample accuracy for Logistic Regression: %.10f\" % scores.mean())\n",
    "    scores = cross_val_score(clf, test_x, test_y, cv=5) \n",
    "    print(\"Out-of-sample accuracy for Logistic Regression: %.10f\" % scores.mean())\n"
   ]
  }
 ],
 "metadata": {
  "kernelspec": {
   "display_name": "Python 3",
   "language": "python",
   "name": "python3"
  },
  "language_info": {
   "codemirror_mode": {
    "name": "ipython",
    "version": 3
   },
   "file_extension": ".py",
   "mimetype": "text/x-python",
   "name": "python",
   "nbconvert_exporter": "python",
   "pygments_lexer": "ipython3",
   "version": "3.6.3"
  }
 },
 "nbformat": 4,
 "nbformat_minor": 2
}
