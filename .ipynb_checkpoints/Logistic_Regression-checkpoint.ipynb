{
 "cells": [
  {
   "cell_type": "code",
   "execution_count": null,
   "metadata": {},
   "outputs": [],
   "source": [
    "# Logistic Regression\n",
    "# Importing the libraries\n",
    "import pandas as pd\n",
    "import numpy as np\n",
    "from sklearn import preprocessing\n",
    "import matplotlib.pyplot as plt \n",
    "from sklearn.linear_model import LogisticRegression\n",
    "from sklearn.cross_validation import train_test_split\n",
    "from sklearn.model_selection import cross_val_score"
   ]
  },
  {
   "cell_type": "code",
   "execution_count": null,
   "metadata": {},
   "outputs": [],
   "source": [
    "# %store -r train_x\n",
    "# %store -r train_y\n",
    "# %store -r test_x\n",
    "# %store -r test_y\n",
    "# %store -r train_x_two_features\n",
    "# %store -r test_x_two_features\n",
    "# %store -r train_y_two_features\n",
    "# %store -r test_y_two_features"
   ]
  },
  {
   "cell_type": "code",
   "execution_count": null,
   "metadata": {},
   "outputs": [],
   "source": [
    "# # Fitting Logistic Regression to the Training set\n",
    "# from sklearn import metrics\n",
    "# classifier = LogisticRegression(random_state = 0)\n",
    "# classifier.fit(train_x, train_y)\n",
    "\n",
    "# # Predicting the Test set results\n",
    "# prediction = classifier.predict(test_x)\n",
    "\n",
    "# print(metrics.accuracy_score(test_y,prediction))\n"
   ]
  },
  {
   "cell_type": "code",
   "execution_count": null,
   "metadata": {},
   "outputs": [],
   "source": [
    "def run_Logistic_Regression(train_x,test_x,train_y,test_y):\n",
    "    clf = linear_model.LogisticRegression(penalty='l1', fit_intercept=True)\n",
    "    # Fitting Logistic Regression to the Training set\n",
    "    clf.fit(train_x, train_y)\n",
    "    scores = cross_val_score(clf, train_x, train_y, cv=5)\n",
    "    print(\"In-sample accuracy for Logistic Regression: %.10f\" % scores.mean())\n",
    "    scores = cross_val_score(clf, test_x, test_y, cv=5) \n",
    "    print(\"Out-of-sample accuracy for Logistic Regression: %.10f\" % scores.mean())\n"
   ]
  }
 ],
 "metadata": {
  "kernelspec": {
   "display_name": "Python 2",
   "language": "python",
   "name": "python2"
  },
  "language_info": {
   "codemirror_mode": {
    "name": "ipython",
    "version": 2
   },
   "file_extension": ".py",
   "mimetype": "text/x-python",
   "name": "python",
   "nbconvert_exporter": "python",
   "pygments_lexer": "ipython2",
   "version": "2.7.13"
  }
 },
 "nbformat": 4,
 "nbformat_minor": 2
}
