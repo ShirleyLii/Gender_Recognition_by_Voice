{
 "cells": [
  {
   "cell_type": "code",
   "execution_count": 129,
   "metadata": {
    "collapsed": true
   },
   "outputs": [],
   "source": [
    "import pandas as pd \n",
    "import numpy as np  \n",
    "import random\n",
    "from sklearn.model_selection import train_test_split  \n",
    "from sklearn.ensemble import RandomForestClassifier\n",
    "import matplotlib.pyplot as plt\n",
    "from sklearn.metrics import accuracy_score"
   ]
  },
  {
   "cell_type": "code",
   "execution_count": 130,
   "metadata": {
    "collapsed": true
   },
   "outputs": [],
   "source": [
    "%store -r train_x\n",
    "%store -r test_x\n",
    "%store -r train_y\n",
    "%store -r test_y"
   ]
  },
  {
   "cell_type": "code",
   "execution_count": 131,
   "metadata": {
    "collapsed": true
   },
   "outputs": [],
   "source": [
    "# from sklearn.metrics import classification_report, confusion_matrix\n",
    "# def Random_Forest_Classifier():\n",
    "#     error_rate = []\n",
    "#     nvals = range(1,301,30)\n",
    "#     for i in nvals:\n",
    "#         rfc = RandomForestClassifier(n_estimators=i)\n",
    "#         rfc.fit(train_x,train_y)\n",
    "#         pred_y_i = rfc.predict(test_x)\n",
    "#         error_rate.append(np.mean(pred_y_i != test_y))\n",
    "#     plt.plot(nvals, error_rate, color='blue', linestyle='dashed', marker='o',\n",
    "#     markerfacecolor='red', markersize=10)\n",
    "#     plt.title('Error Rate vs. N Estimators')\n",
    "#     plt.xlabel('N Estimators')\n",
    "#     plt.ylabel('Error Rate')\n",
    "#     plt.show()\n",
    "#     nloc = error_rate.index(min(error_rate))\n",
    "#     print('Lowest error of %s occurs at n=%s.' % (error_rate[nloc], nvals[nloc]))\n",
    "#     print('The highest in-sample accuracy in Random Forest is %s when n=%s.' % (1-error_rate[nloc], nvals[nloc]))\n",
    "#     # Using our optimal k value, we will run the analysis again and proceed to quantify our classification accuracy.\n",
    "#     rfc = RandomForestClassifier(n_estimators= nvals[nloc])\n",
    "#     rfc.fit(train_x,train_y)\n",
    "#     pred_y = rfc.predict(test_x)\n",
    "#     print('\\n')\n",
    "#     print('Out-of-sample accuracy in Random Forest:%s' % (accuracy_score(test_y, pred_y)) )\n",
    "#     print('\\n')\n",
    "#     print('Confusion Matrix:')\n",
    "#     print(confusion_matrix(test_y, pred_y))\n",
    "#     print('\\n')\n",
    "#     print('Classification Report:')\n",
    "#     print(classification_report(test_y, pred_y))"
   ]
  },
  {
   "cell_type": "code",
   "execution_count": 132,
   "metadata": {},
   "outputs": [],
   "source": [
    "def random_forest_classifier(train_x, train_y):\n",
    "    \"\"\"\n",
    "    To train the random forest classifier with features and target data\n",
    "    :param features:\n",
    "    :param target:\n",
    "    :return: trained random forest classifier\n",
    "    \"\"\"\n",
    "    classifier = RandomForestClassifier(n_estimators = 20)\n",
    "    classifier.fit(train_x, train_y)\n",
    "    return classifier"
   ]
  },
  {
   "cell_type": "code",
   "execution_count": 133,
   "metadata": {},
   "outputs": [],
   "source": [
    "# Random_Forest_Classifier()"
   ]
  },
  {
   "cell_type": "code",
   "execution_count": 134,
   "metadata": {
    "scrolled": false
   },
   "outputs": [
    {
     "name": "stderr",
     "output_type": "stream",
     "text": [
      "/anaconda3/lib/python3.6/site-packages/ipykernel_launcher.py:9: DataConversionWarning: A column-vector y was passed when a 1d array was expected. Please change the shape of y to (n_samples,), for example using ravel().\n",
      "  if __name__ == '__main__':\n"
     ]
    }
   ],
   "source": [
    "clf = random_forest_classifier(train_x, train_y)"
   ]
  },
  {
   "cell_type": "code",
   "execution_count": 135,
   "metadata": {},
   "outputs": [
    {
     "name": "stdout",
     "output_type": "stream",
     "text": [
      "The train accuracy is:\n",
      "0.999579124579\n",
      "After data scaling, the test accuracy is:\n",
      "0.978535353535\n",
      "Confusion matrix is \n",
      "[[362   5]\n",
      " [ 12 413]]\n"
     ]
    }
   ],
   "source": [
    "from sklearn import metrics\n",
    "prediction = clf.predict(test_x)\n",
    "train_accuracy = metrics.accuracy_score(train_y,clf.predict(train_x))\n",
    "print('The train accuracy is:')\n",
    "print(train_accuracy)\n",
    "test_accuracy = metrics.accuracy_score(test_y,prediction)\n",
    "print('After data scaling, the test accuracy is:')\n",
    "print(test_accuracy)\n",
    "print (\"Confusion matrix is \")\n",
    "print(confusion_matrix(test_y, prediction))"
   ]
  }
 ],
 "metadata": {
  "kernelspec": {
   "display_name": "Python 3",
   "language": "python",
   "name": "python3"
  },
  "language_info": {
   "codemirror_mode": {
    "name": "ipython",
    "version": 3
   },
   "file_extension": ".py",
   "mimetype": "text/x-python",
   "name": "python",
   "nbconvert_exporter": "python",
   "pygments_lexer": "ipython3",
   "version": "3.6.3"
  }
 },
 "nbformat": 4,
 "nbformat_minor": 2
}
