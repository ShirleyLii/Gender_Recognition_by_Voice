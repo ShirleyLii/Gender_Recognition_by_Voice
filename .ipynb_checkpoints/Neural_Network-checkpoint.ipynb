{
 "cells": [
  {
   "cell_type": "code",
   "execution_count": 164,
   "metadata": {
    "collapsed": true
   },
   "outputs": [],
   "source": [
    "import pandas as pd \n",
    "import numpy as np  \n",
    "import random\n",
    "from sklearn.model_selection import train_test_split  \n",
    "import matplotlib.pyplot as plt\n",
    "\n",
    "# Installing Theano\n",
    "# pip install --upgrade --no-deps git+git://github.com/Theano/Theano.git\n",
    "\n",
    "# Installing Tensorflow\n",
    "# Install Tensorflow from the website: https://www.tensorflow.org/versions/r0.12/get_started/os_setup.html\n",
    "\n",
    "# Installing Keras\n",
    "# pip install --upgrade keras\n",
    "import warnings\n",
    "warnings.filterwarnings('ignore')\n"
   ]
  },
  {
   "cell_type": "code",
   "execution_count": null,
   "metadata": {
    "collapsed": true
   },
   "outputs": [],
   "source": [
    "%store -r pca_train_x\n",
    "%store -r pca_test_x\n",
    "%store -r pca13_train_x\n",
    "%store -r pca13_test_x\n",
    "\n",
    "%store -r train_x\n",
    "%store -r test_x\n",
    "%store -r train_y\n",
    "%store -r test_y\n",
    "\n",
    "%store -r train_x_two_features\n",
    "%store -r test_x_two_features\n",
    "%store -r train_y_two_features\n",
    "%store -r test_y_two_features"
   ]
  },
  {
   "cell_type": "code",
   "execution_count": 165,
   "metadata": {
    "scrolled": false
   },
   "outputs": [
    {
     "name": "stdout",
     "output_type": "stream",
     "text": [
      "Epoch 1/100\n",
      "2376/2376 [==============================] - 3s 1ms/step - loss: 0.5798 - acc: 0.7980\n",
      "Epoch 2/100\n",
      "2376/2376 [==============================] - 1s 302us/step - loss: 0.2429 - acc: 0.8939\n",
      "Epoch 3/100\n",
      "2376/2376 [==============================] - 1s 248us/step - loss: 0.1430 - acc: 0.9343\n",
      "Epoch 4/100\n",
      "2376/2376 [==============================] - 1s 242us/step - loss: 0.0992 - acc: 0.9714\n",
      "Epoch 5/100\n",
      "2376/2376 [==============================] - 1s 230us/step - loss: 0.0871 - acc: 0.9710\n",
      "Epoch 6/100\n",
      "2376/2376 [==============================] - 1s 226us/step - loss: 0.0815 - acc: 0.9756\n",
      "Epoch 7/100\n",
      "2376/2376 [==============================] - 1s 243us/step - loss: 0.0790 - acc: 0.9764\n",
      "Epoch 8/100\n",
      "2376/2376 [==============================] - 1s 234us/step - loss: 0.0766 - acc: 0.9781\n",
      "Epoch 9/100\n",
      "2376/2376 [==============================] - 1s 234us/step - loss: 0.0751 - acc: 0.9777\n",
      "Epoch 10/100\n",
      "2376/2376 [==============================] - 1s 229us/step - loss: 0.0744 - acc: 0.9790\n",
      "Epoch 11/100\n",
      "2376/2376 [==============================] - 1s 230us/step - loss: 0.0732 - acc: 0.9781\n",
      "Epoch 12/100\n",
      "2376/2376 [==============================] - 1s 240us/step - loss: 0.0719 - acc: 0.9790\n",
      "Epoch 13/100\n",
      "2376/2376 [==============================] - 1s 227us/step - loss: 0.0714 - acc: 0.9785\n",
      "Epoch 14/100\n",
      "2376/2376 [==============================] - 1s 238us/step - loss: 0.0696 - acc: 0.9790\n",
      "Epoch 15/100\n",
      "2376/2376 [==============================] - 1s 230us/step - loss: 0.0689 - acc: 0.9798\n",
      "Epoch 16/100\n",
      "2376/2376 [==============================] - 1s 252us/step - loss: 0.0678 - acc: 0.9802\n",
      "Epoch 17/100\n",
      "2376/2376 [==============================] - 1s 291us/step - loss: 0.0679 - acc: 0.9798\n",
      "Epoch 18/100\n",
      "2376/2376 [==============================] - 1s 332us/step - loss: 0.0671 - acc: 0.9802\n",
      "Epoch 19/100\n",
      "2376/2376 [==============================] - 1s 346us/step - loss: 0.0670 - acc: 0.9781\n",
      "Epoch 20/100\n",
      "2376/2376 [==============================] - 1s 316us/step - loss: 0.0652 - acc: 0.9819\n",
      "Epoch 21/100\n",
      "2376/2376 [==============================] - 1s 292us/step - loss: 0.0656 - acc: 0.9790\n",
      "Epoch 22/100\n",
      "2376/2376 [==============================] - 1s 299us/step - loss: 0.0640 - acc: 0.9815\n",
      "Epoch 23/100\n",
      "2376/2376 [==============================] - 1s 286us/step - loss: 0.0640 - acc: 0.9802\n",
      "Epoch 24/100\n",
      "2376/2376 [==============================] - 1s 260us/step - loss: 0.0631 - acc: 0.9811\n",
      "Epoch 25/100\n",
      "2376/2376 [==============================] - 1s 244us/step - loss: 0.0628 - acc: 0.9806\n",
      "Epoch 26/100\n",
      "2376/2376 [==============================] - 1s 229us/step - loss: 0.0627 - acc: 0.9811\n",
      "Epoch 27/100\n",
      "2376/2376 [==============================] - 1s 226us/step - loss: 0.0623 - acc: 0.9815\n",
      "Epoch 28/100\n",
      "2376/2376 [==============================] - 1s 237us/step - loss: 0.0613 - acc: 0.9815\n",
      "Epoch 29/100\n",
      "2376/2376 [==============================] - 1s 243us/step - loss: 0.0606 - acc: 0.9811\n",
      "Epoch 30/100\n",
      "2376/2376 [==============================] - 1s 227us/step - loss: 0.0619 - acc: 0.9806\n",
      "Epoch 31/100\n",
      "2376/2376 [==============================] - 1s 225us/step - loss: 0.0605 - acc: 0.9819\n",
      "Epoch 32/100\n",
      "2376/2376 [==============================] - 1s 242us/step - loss: 0.0599 - acc: 0.9811\n",
      "Epoch 33/100\n",
      "2376/2376 [==============================] - 1s 225us/step - loss: 0.0585 - acc: 0.9823\n",
      "Epoch 34/100\n",
      "2376/2376 [==============================] - 1s 250us/step - loss: 0.0587 - acc: 0.9827\n",
      "Epoch 35/100\n",
      "2376/2376 [==============================] - 1s 265us/step - loss: 0.0579 - acc: 0.9832\n",
      "Epoch 36/100\n",
      "2376/2376 [==============================] - 1s 280us/step - loss: 0.0574 - acc: 0.9832\n",
      "Epoch 37/100\n",
      "2376/2376 [==============================] - 1s 231us/step - loss: 0.0580 - acc: 0.9832\n",
      "Epoch 38/100\n",
      "2376/2376 [==============================] - 1s 242us/step - loss: 0.0576 - acc: 0.9823\n",
      "Epoch 39/100\n",
      "2376/2376 [==============================] - 1s 249us/step - loss: 0.0568 - acc: 0.9832\n",
      "Epoch 40/100\n",
      "2376/2376 [==============================] - 1s 247us/step - loss: 0.0556 - acc: 0.9848\n",
      "Epoch 41/100\n",
      "2376/2376 [==============================] - 1s 244us/step - loss: 0.0558 - acc: 0.9836\n",
      "Epoch 42/100\n",
      "2376/2376 [==============================] - 1s 255us/step - loss: 0.0549 - acc: 0.9840\n",
      "Epoch 43/100\n",
      "2376/2376 [==============================] - 1s 274us/step - loss: 0.0553 - acc: 0.9832\n",
      "Epoch 44/100\n",
      "2376/2376 [==============================] - 1s 223us/step - loss: 0.0533 - acc: 0.9832\n",
      "Epoch 45/100\n",
      "2376/2376 [==============================] - 1s 232us/step - loss: 0.0536 - acc: 0.9827\n",
      "Epoch 46/100\n",
      "2376/2376 [==============================] - 1s 236us/step - loss: 0.0529 - acc: 0.9844\n",
      "Epoch 47/100\n",
      "2376/2376 [==============================] - 1s 253us/step - loss: 0.0514 - acc: 0.9836\n",
      "Epoch 48/100\n",
      "2376/2376 [==============================] - 1s 240us/step - loss: 0.0525 - acc: 0.9836\n",
      "Epoch 49/100\n",
      "2376/2376 [==============================] - 1s 268us/step - loss: 0.0514 - acc: 0.9844\n",
      "Epoch 50/100\n",
      "2376/2376 [==============================] - 1s 299us/step - loss: 0.0505 - acc: 0.9844\n",
      "Epoch 51/100\n",
      "2376/2376 [==============================] - 1s 298us/step - loss: 0.0501 - acc: 0.9844 0s - loss: 0.0354 - \n",
      "Epoch 52/100\n",
      "2376/2376 [==============================] - 1s 239us/step - loss: 0.0499 - acc: 0.9827\n",
      "Epoch 53/100\n",
      "2376/2376 [==============================] - 1s 241us/step - loss: 0.0493 - acc: 0.9848\n",
      "Epoch 54/100\n",
      "2376/2376 [==============================] - 1s 261us/step - loss: 0.0489 - acc: 0.9848\n",
      "Epoch 55/100\n",
      "2376/2376 [==============================] - 1s 239us/step - loss: 0.0482 - acc: 0.9848\n",
      "Epoch 56/100\n",
      "2376/2376 [==============================] - 1s 230us/step - loss: 0.0479 - acc: 0.9853\n",
      "Epoch 57/100\n",
      "2376/2376 [==============================] - 1s 220us/step - loss: 0.0469 - acc: 0.9844\n",
      "Epoch 58/100\n",
      "2376/2376 [==============================] - 1s 254us/step - loss: 0.0468 - acc: 0.9853\n",
      "Epoch 59/100\n",
      "2376/2376 [==============================] - 1s 258us/step - loss: 0.0481 - acc: 0.9848\n",
      "Epoch 60/100\n",
      "2376/2376 [==============================] - 1s 228us/step - loss: 0.0458 - acc: 0.9848\n",
      "Epoch 61/100\n",
      "2376/2376 [==============================] - 1s 249us/step - loss: 0.0464 - acc: 0.9848\n",
      "Epoch 62/100\n",
      "2376/2376 [==============================] - 1s 235us/step - loss: 0.0455 - acc: 0.9848\n",
      "Epoch 63/100\n",
      "2376/2376 [==============================] - 1s 245us/step - loss: 0.0458 - acc: 0.9848 0s - loss: 0.0412 - ac\n",
      "Epoch 64/100\n",
      "2376/2376 [==============================] - 1s 234us/step - loss: 0.0448 - acc: 0.9848\n",
      "Epoch 65/100\n",
      "2376/2376 [==============================] - 1s 238us/step - loss: 0.0441 - acc: 0.9848\n",
      "Epoch 66/100\n",
      "2376/2376 [==============================] - 1s 250us/step - loss: 0.0450 - acc: 0.9840\n",
      "Epoch 67/100\n",
      "2376/2376 [==============================] - 1s 233us/step - loss: 0.0441 - acc: 0.9848\n",
      "Epoch 68/100\n",
      "2376/2376 [==============================] - 1s 231us/step - loss: 0.0444 - acc: 0.9861\n",
      "Epoch 69/100\n",
      "2376/2376 [==============================] - 1s 239us/step - loss: 0.0435 - acc: 0.9857\n",
      "Epoch 70/100\n",
      "2376/2376 [==============================] - 1s 247us/step - loss: 0.0432 - acc: 0.9844\n",
      "Epoch 71/100\n",
      "2376/2376 [==============================] - 1s 256us/step - loss: 0.0431 - acc: 0.9848\n",
      "Epoch 72/100\n",
      "2376/2376 [==============================] - 1s 249us/step - loss: 0.0421 - acc: 0.9857\n",
      "Epoch 73/100\n",
      "2376/2376 [==============================] - 1s 257us/step - loss: 0.0422 - acc: 0.9865\n",
      "Epoch 74/100\n",
      "2376/2376 [==============================] - 1s 251us/step - loss: 0.0417 - acc: 0.9853\n",
      "Epoch 75/100\n",
      "2376/2376 [==============================] - 1s 244us/step - loss: 0.0417 - acc: 0.9861\n",
      "Epoch 76/100\n",
      "2376/2376 [==============================] - 1s 253us/step - loss: 0.0415 - acc: 0.9853\n",
      "Epoch 77/100\n",
      "2376/2376 [==============================] - 1s 305us/step - loss: 0.0404 - acc: 0.9853\n",
      "Epoch 78/100\n",
      "2376/2376 [==============================] - ETA: 0s - loss: 0.0404 - acc: 0.985 - 1s 305us/step - loss: 0.0408 - acc: 0.9848\n",
      "Epoch 79/100\n",
      "2376/2376 [==============================] - 1s 246us/step - loss: 0.0403 - acc: 0.9861\n",
      "Epoch 80/100\n",
      "2376/2376 [==============================] - 1s 252us/step - loss: 0.0401 - acc: 0.9848\n",
      "Epoch 81/100\n"
     ]
    },
    {
     "name": "stdout",
     "output_type": "stream",
     "text": [
      "2376/2376 [==============================] - 1s 229us/step - loss: 0.0395 - acc: 0.9870\n",
      "Epoch 82/100\n",
      "2376/2376 [==============================] - 0s 210us/step - loss: 0.0402 - acc: 0.9865\n",
      "Epoch 83/100\n",
      "2376/2376 [==============================] - 1s 220us/step - loss: 0.0391 - acc: 0.9861\n",
      "Epoch 84/100\n",
      "2376/2376 [==============================] - 0s 210us/step - loss: 0.0379 - acc: 0.9874\n",
      "Epoch 85/100\n",
      "2376/2376 [==============================] - 0s 210us/step - loss: 0.0392 - acc: 0.9861\n",
      "Epoch 86/100\n",
      "2376/2376 [==============================] - 0s 207us/step - loss: 0.0384 - acc: 0.9865\n",
      "Epoch 87/100\n",
      "2376/2376 [==============================] - 1s 214us/step - loss: 0.0386 - acc: 0.9861\n",
      "Epoch 88/100\n",
      "2376/2376 [==============================] - 1s 220us/step - loss: 0.0385 - acc: 0.9865\n",
      "Epoch 89/100\n",
      "2376/2376 [==============================] - 1s 214us/step - loss: 0.0386 - acc: 0.9870\n",
      "Epoch 90/100\n",
      "2376/2376 [==============================] - 1s 215us/step - loss: 0.0377 - acc: 0.9870\n",
      "Epoch 91/100\n",
      "2376/2376 [==============================] - 0s 206us/step - loss: 0.0369 - acc: 0.9865\n",
      "Epoch 92/100\n",
      "2376/2376 [==============================] - 0s 208us/step - loss: 0.0384 - acc: 0.9853\n",
      "Epoch 93/100\n",
      "2376/2376 [==============================] - 1s 211us/step - loss: 0.0368 - acc: 0.9882\n",
      "Epoch 94/100\n",
      "2376/2376 [==============================] - 1s 213us/step - loss: 0.0361 - acc: 0.9878 0s - loss: 0.0417 - acc: 0.984 - ETA: 0s - loss: 0.0348 - acc:\n",
      "Epoch 95/100\n",
      "2376/2376 [==============================] - 1s 215us/step - loss: 0.0364 - acc: 0.9861\n",
      "Epoch 96/100\n",
      "2376/2376 [==============================] - 1s 221us/step - loss: 0.0366 - acc: 0.9870\n",
      "Epoch 97/100\n",
      "2376/2376 [==============================] - 1s 212us/step - loss: 0.0359 - acc: 0.9874\n",
      "Epoch 98/100\n",
      "2376/2376 [==============================] - 0s 205us/step - loss: 0.0369 - acc: 0.9857\n",
      "Epoch 99/100\n",
      "2376/2376 [==============================] - 1s 215us/step - loss: 0.0357 - acc: 0.9870\n",
      "Epoch 100/100\n",
      "2376/2376 [==============================] - 1s 211us/step - loss: 0.0346 - acc: 0.9895\n",
      "0.976010101010101\n"
     ]
    },
    {
     "data": {
      "image/png": "[encoded data removed]",
      "text/plain": [
       "<matplotlib.figure.Figure at 0x1a162a97f0>"
      ]
     },
     "metadata": {},
     "output_type": "display_data"
    },
    {
     "ename": "NameError",
     "evalue": "name 'train_x_two_features' is not defined",
     "output_type": "error",
     "traceback": [
      "\u001b[0;31m---------------------------------------------------------------------------\u001b[0m",
      "\u001b[0;31mNameError\u001b[0m                                 Traceback (most recent call last)",
      "\u001b[0;32m<ipython-input-165-1bab05e82062>\u001b[0m in \u001b[0;36m<module>\u001b[0;34m()\u001b[0m\n\u001b[1;32m     31\u001b[0m \u001b[0;34m\u001b[0m\u001b[0m\n\u001b[1;32m     32\u001b[0m \u001b[0mrun_ANN\u001b[0m\u001b[0;34m(\u001b[0m\u001b[0mtrain_x\u001b[0m\u001b[0;34m,\u001b[0m\u001b[0mtest_x\u001b[0m\u001b[0;34m,\u001b[0m\u001b[0mtrain_y\u001b[0m\u001b[0;34m,\u001b[0m\u001b[0mtest_y\u001b[0m\u001b[0;34m)\u001b[0m\u001b[0;34m\u001b[0m\u001b[0m\n\u001b[0;32m---> 33\u001b[0;31m \u001b[0mrun_ANN\u001b[0m\u001b[0;34m(\u001b[0m\u001b[0mtrain_x_two_features\u001b[0m\u001b[0;34m,\u001b[0m \u001b[0mtest_x_two_features\u001b[0m\u001b[0;34m,\u001b[0m \u001b[0mtrain_y_two_features\u001b[0m\u001b[0;34m,\u001b[0m \u001b[0mtest_y_two_features\u001b[0m\u001b[0;34m)\u001b[0m\u001b[0;34m\u001b[0m\u001b[0m\n\u001b[0m\u001b[1;32m     34\u001b[0m \u001b[0mrun_ANN\u001b[0m\u001b[0;34m(\u001b[0m\u001b[0mpca13_train_x\u001b[0m\u001b[0;34m,\u001b[0m \u001b[0mpca13_test_x\u001b[0m\u001b[0;34m,\u001b[0m \u001b[0mtrain_y\u001b[0m\u001b[0;34m,\u001b[0m \u001b[0mtest_y\u001b[0m\u001b[0;34m)\u001b[0m\u001b[0;34m\u001b[0m\u001b[0m\n",
      "\u001b[0;31mNameError\u001b[0m: name 'train_x_two_features' is not defined"
     ]
    }
   ],
   "source": [
    "# import the keras lib and packages\n",
    "import keras\n",
    "from keras.models import Sequential\n",
    "from keras.layers import Dense\n",
    "import sklearn.metrics as metrics\n",
    "from keras.callbacks import History \n",
    "from keras.utils import plot_model\n",
    "from keras.optimizers import SGD\n",
    "\n",
    "def run_ANN(train_x,test_x,train_y,test_y):\n",
    "    #Initializing ANN\n",
    "    clf = Sequential()\n",
    "    hist = History()\n",
    "    clf.add(Dense(output_dim = 6, init = 'uniform', activation = 'relu', input_dim = len(train_x[1])))\n",
    "    # Adding the second hidden layer\n",
    "    clf.add(Dense(output_dim = 6, init = 'uniform', activation = 'relu'))\n",
    "    # Adding the output layer\n",
    "    clf.add(Dense(output_dim = 1, init = 'uniform', activation = 'sigmoid'))\n",
    "    clf.compile(optimizer = 'adam', loss = 'binary_crossentropy', metrics = ['accuracy'])\n",
    "    clf.fit(train_x, train_y, batch_size = 10, nb_epoch = 100 ,callbacks = [hist])\n",
    "    pred_y = clf.predict(test_x)\n",
    "    pred_y = (pred_y > 0.5)\n",
    "    \n",
    "        \n",
    "    print(metrics.accuracy_score(pred_y,test_y))\n",
    "\n",
    "    plt.plot(hist.history['acc'], color = 'red')\n",
    "    plt.xlabel('Epochs')\n",
    "    plt.ylabel('Accuracy')\n",
    "    plt.show()\n",
    "        \n",
    "run_ANN(train_x,test_x,train_y,test_y)\n",
    "run_ANN(train_x_two_features, test_x_two_features, train_y_two_features, test_y_two_features)\n",
    "run_ANN(pca13_train_x, pca13_test_x, train_y, test_y)"
   ]
  },
  {
   "cell_type": "code",
   "execution_count": null,
   "metadata": {
    "collapsed": true
   },
   "outputs": [],
   "source": [
    "# # Data preparation\n",
    "# path = '/Users/Kassi/Desktop/Gender_Recognition_by_Voice/voice.csv'\n",
    "# voice_data = pd.read_csv(path)\n",
    "# voice_data = voice_data.values"
   ]
  },
  {
   "cell_type": "code",
   "execution_count": null,
   "metadata": {
    "collapsed": true
   },
   "outputs": [],
   "source": [
    "# # There are multiple steps we will take in this section to transform the original data into format which we can easily plug inside tensorflow's tensors.\n",
    "# # Creating 1-hot vector from the original labels\n",
    "# # Randomly shuffle data\n",
    "# # Create train/test datasets\n",
    "\n",
    "# voices = voice_data[:, :-1] \n",
    "# labels = voice_data[:, -1:]\n",
    "\n",
    "# # Classification: label(gender) = {male, female} → [1.0, 0.0], [0.0, 1.0]  \n",
    "# labels_tmp = []  \n",
    "# for label in labels:  \n",
    "#     tmp = []  \n",
    "#     if label[0] == 'male':  \n",
    "#         tmp = [1.0, 0.0]  \n",
    "#     else:   \n",
    "#         tmp = [0.0, 1.0]  \n",
    "#     labels_tmp.append(tmp)  \n",
    "# labels = np.array(labels_tmp) "
   ]
  },
  {
   "cell_type": "code",
   "execution_count": null,
   "metadata": {
    "collapsed": true
   },
   "outputs": [],
   "source": [
    "# # randomly shuffle data\n",
    "# voices_tmp = []  \n",
    "# lables_tmp = []  \n",
    "# index_shuf = range(len(voices)) \n",
    "# random.shuffle(index_shuf) \n",
    "# for i in index_shuf:  \n",
    "#     voices_tmp.append(voices[i])  \n",
    "#     lables_tmp.append(labels[i])  \n",
    "# voices = np.array(voices_tmp)  \n",
    "# labels = np.array(lables_tmp) "
   ]
  },
  {
   "cell_type": "code",
   "execution_count": null,
   "metadata": {
    "collapsed": true
   },
   "outputs": [],
   "source": [
    "# train_x, test_x, train_y, test_y = train_test_split(voices, labels, test_size=0.2)  "
   ]
  },
  {
   "cell_type": "code",
   "execution_count": null,
   "metadata": {
    "collapsed": true
   },
   "outputs": [],
   "source": [
    "# Now we are all set to get started with creating the tensorflow graph. \n",
    "# It is important to understand that after this step there is no actual computation being done by tensorflow. \n",
    "# It just creates a lazy graph according to the nodes we create in the neural_network method."
   ]
  },
  {
   "cell_type": "code",
   "execution_count": null,
   "metadata": {
    "collapsed": true
   },
   "outputs": [],
   "source": [
    "# # Learning Parameters\n",
    "# rate   =   0.0010  # training rate\n",
    "# epochs =  2000     # number of full training cycles (I select this number based on the trend of cost)\n",
    "# banch_size  = 68   # number of data points to train per batch"
   ]
  },
  {
   "cell_type": "code",
   "execution_count": null,
   "metadata": {
    "collapsed": true
   },
   "outputs": [],
   "source": [
    "# # Network Parameters\n",
    "# n_hidden_1 = 512  # number of nodes in hidden layer 1\n",
    "# n_hidden_2 = 512  # number of nodes in hidden layer 2\n",
    "# n_input    = voices.shape[-1]  # 20\n",
    "# n_classes  = 2\n",
    "# n_samples  = len(voices)  # 460"
   ]
  },
  {
   "cell_type": "code",
   "execution_count": null,
   "metadata": {
    "collapsed": true
   },
   "outputs": [],
   "source": [
    "# X = tf.placeholder('float', [None,n_input])\n",
    "# Y = tf.placeholder('float', [None,n_classes])"
   ]
  },
  {
   "cell_type": "code",
   "execution_count": null,
   "metadata": {
    "collapsed": true,
    "scrolled": true
   },
   "outputs": [],
   "source": [
    "# weights = {\n",
    "#     'w1' : tf.Variable(tf.random_normal([n_input,    n_hidden_1])),\n",
    "#     'w2' : tf.Variable(tf.random_normal([n_hidden_1, n_hidden_2])),\n",
    "#     'out': tf.Variable(tf.random_normal([n_hidden_2, n_classes ]))\n",
    "# }\n",
    "\n",
    "# biases = {\n",
    "#     'b1' : tf.Variable(tf.random_normal([n_hidden_1])),\n",
    "#     'b2' : tf.Variable(tf.random_normal([n_hidden_2])),\n",
    "#     'out': tf.Variable(tf.random_normal([n_classes ]))\n",
    "# }"
   ]
  },
  {
   "cell_type": "code",
   "execution_count": null,
   "metadata": {
    "collapsed": true
   },
   "outputs": [],
   "source": [
    "# def neural_network(X, weights, biases):  \n",
    "#     # Hidden Layer 1\n",
    "#     layer1 = tf.matmul(X, weights['w1'])\n",
    "#     layer1 = tf.add(layer1, biases['b1'])\n",
    "#     layer1 = tf.nn.softmax(layer1)\n",
    "    \n",
    "#     # Hidden Layer 2\n",
    "#     layer2 = tf.matmul(layer1, weights['w2'])\n",
    "#     layer2 = tf.add(layer2, biases['b2'])\n",
    "#     layer2 = tf.nn.softmax(layer2)\n",
    "    \n",
    "#     # Output Layer\n",
    "#     output = tf.matmul(layer2, weights['out'])\n",
    "#     output = tf.add(output, biases['out'])\n",
    "#     output = tf.nn.softmax(output)\n",
    "    \n",
    "#     return output "
   ]
  },
  {
   "cell_type": "code",
   "execution_count": null,
   "metadata": {
    "collapsed": true
   },
   "outputs": [],
   "source": [
    "# # In this section we define the optimizer and loss functions. \n",
    "# # We also define our notion of correct and incorrect prediction and what we mean by accuracy.\n",
    "\n",
    "# def train_neural_network(train_x,train_y,test_x,test_y):\n",
    "#     model = neural_network(X, weights, biases)\n",
    "#     f_cost = tf.reduce_mean(tf.nn.softmax_cross_entropy_with_logits(logits=model, labels=Y))\n",
    "#     f_optimizer = tf.train.AdamOptimizer(learning_rate=rate).minimize(f_cost)\n",
    "#     with tf.Session() as s:\n",
    "#         s.run(tf.global_variables_initializer())\n",
    "#         for epoch in range(epochs):\n",
    "#             cost_avg = 0.\n",
    "#             batch_total = len(train_x) // banch_size\n",
    "#             for banch in range(batch_total):\n",
    "#                 voice_banch = train_x[banch*banch_size:(banch+1)*(banch_size)]  \n",
    "#                 label_banch = train_y[banch*banch_size:(banch+1)*(banch_size)]        \n",
    "#                 _, cost = s.run([f_optimizer,f_cost], feed_dict={X:voice_banch, Y: label_banch})        \n",
    "#                 cost_avg += cost / batch_total\n",
    "        \n",
    "#             print('Epoch {}: cost={:.4f}'.format(epoch+1, cost_avg))\n",
    "    \n",
    "#         # testing\n",
    "        \n",
    "#         # This gives us a list of booleans\n",
    "#         prediction = tf.equal(tf.argmax(model, 1), tf.argmax(Y, 1))  \n",
    "#         # We cast to floating point numbers and then take the mean\n",
    "#         accuracy = tf.reduce_mean(tf.cast(prediction, dtype=tf.float32))  \n",
    "#         accuracy = s.run(accuracy, feed_dict={X: train_x, Y: train_y})  \n",
    "#         print('In-sample accuracy in Neural Network: %s'  % (accuracy)) \n",
    "        \n",
    "#         accuracy = tf.reduce_mean(tf.cast(prediction, dtype=tf.float32)) \n",
    "#         accuracy = s.run(accuracy, feed_dict={X: test_x, Y: test_y})  \n",
    "#         print('Out-of-sample accuracy in Neural Network: %s'  % (accuracy)) \n",
    "    \n"
   ]
  },
  {
   "cell_type": "code",
   "execution_count": null,
   "metadata": {
    "collapsed": true
   },
   "outputs": [],
   "source": [
    "# ## Execute tf graph\n",
    "# # Now that the graph is set up, we can run it\n",
    "\n",
    "# print('Accuracy in Neural Network with all features:')\n",
    "# train_neural_network(train_x,train_y,test_x,test_y)"
   ]
  },
  {
   "cell_type": "markdown",
   "metadata": {},
   "source": [
    "We are wondering if there is a big difference in the results when used Keras deep learning library with a TensorFlow backend vs. our own step-by-step algorithm."
   ]
  },
  {
   "cell_type": "code",
   "execution_count": null,
   "metadata": {
    "collapsed": true
   },
   "outputs": [],
   "source": [
    "# #Importing Libraries for ANN\n",
    "# import keras\n",
    "# from keras.models import Sequential\n",
    "# from keras.layers import Dense\n",
    "\n",
    "# #Initialisng the ANN\n",
    "# classifier = Sequential()\n",
    "\n",
    "# #Input Layer and First Hidden Layer\n",
    "# classifier.add(Dense(units = 512, activation = 'softmax', input_dim = train_x.shape[1]))\n",
    "\n",
    "# #Adding the Second hidden layer\n",
    "# classifier.add(Dense(units = 512, activation = 'softmax'))\n",
    "\n",
    "# # Adding the output layer\n",
    "# classifier.add(Dense(units = 2, activation = 'softmax'))\n",
    "\n",
    "# #Compiling the ANN\n",
    "# classifier.compile(optimizer = 'adam', loss = 'binary_crossentropy', metrics = ['accuracy'])"
   ]
  },
  {
   "cell_type": "code",
   "execution_count": null,
   "metadata": {
    "collapsed": true
   },
   "outputs": [],
   "source": [
    "# #Fitting ANN to the training set\n",
    "# classifier.fit(train_x, train_y, batch_size = 68, epochs = 2000, verbose = 0)"
   ]
  },
  {
   "cell_type": "code",
   "execution_count": null,
   "metadata": {
    "collapsed": true
   },
   "outputs": [],
   "source": [
    "# # Predicting the Test set results\n",
    "# pred_train_y = classifier.predict(train_x)\n",
    "# pred_train_y = (pred_train_y > 0.5)\n",
    "# # pred_train_y"
   ]
  },
  {
   "cell_type": "code",
   "execution_count": null,
   "metadata": {
    "collapsed": true
   },
   "outputs": [],
   "source": [
    "# labels_tmp = []  \n",
    "# for label in pred_train_y:  \n",
    "#     tmp = []  \n",
    "#     if label[0] == True:  \n",
    "#         tmp = [1,0]  \n",
    "#     else:   \n",
    "#         tmp = [0,1]  \n",
    "#     labels_tmp.append(tmp)  \n",
    "# new_result = np.array(labels_tmp) "
   ]
  },
  {
   "cell_type": "code",
   "execution_count": null,
   "metadata": {
    "collapsed": true
   },
   "outputs": [],
   "source": [
    "# from sklearn.metrics import accuracy_score\n",
    "# print('In-sample accuracy in Neural Network using Keras package (with all features):%s' % (accuracy_score(train_y, new_result)))"
   ]
  },
  {
   "cell_type": "code",
   "execution_count": null,
   "metadata": {
    "collapsed": true
   },
   "outputs": [],
   "source": [
    "# # Predicting the Test set results\n",
    "# pred_test_y = classifier.predict(test_x)\n",
    "# pred_test_y = (pred_test_y > 0.5)\n",
    "# # pred_test_y"
   ]
  },
  {
   "cell_type": "code",
   "execution_count": null,
   "metadata": {
    "collapsed": true
   },
   "outputs": [],
   "source": [
    "# labels_tmp = []  \n",
    "# for label in pred_test_y:  \n",
    "#     tmp = []  \n",
    "#     if label[0] == True:  \n",
    "#         tmp = [1,0]  \n",
    "#     else:   \n",
    "#         tmp = [0,1]  \n",
    "#     labels_tmp.append(tmp)  \n",
    "# new_result = np.array(labels_tmp) "
   ]
  },
  {
   "cell_type": "code",
   "execution_count": null,
   "metadata": {
    "collapsed": true
   },
   "outputs": [],
   "source": [
    "# print('Out-of-sample accuracy in Neural Network using Keras package (with all features):%s' % (accuracy_score(test_y, new_result)))"
   ]
  },
  {
   "cell_type": "code",
   "execution_count": null,
   "metadata": {
    "collapsed": true
   },
   "outputs": [],
   "source": [
    "# # Is it enough of these two features to make predictions? \n",
    "# ## Neural Network with 2 features ('meanfun', 'IQR')\n",
    "# train_x = train_x[:,[5,12]]\n",
    "# test_x = test_x[:,[5,12]]"
   ]
  },
  {
   "cell_type": "code",
   "execution_count": null,
   "metadata": {
    "collapsed": true
   },
   "outputs": [],
   "source": [
    "# train_x.shape[1]"
   ]
  },
  {
   "cell_type": "code",
   "execution_count": null,
   "metadata": {
    "collapsed": true
   },
   "outputs": [],
   "source": [
    "# # It seems we can better result when using Keras deep learning library, \n",
    "# # so we will continue to use this package to do prediction.\n",
    "\n",
    "# #Initialisng the ANN\n",
    "# classifier = Sequential()\n",
    "\n",
    "# #Input Layer and First Hidden Layer\n",
    "# classifier.add(Dense(units = 512, activation = 'softmax', input_dim = train_x.shape[1]))\n",
    "\n",
    "# #Adding the Second hidden layer\n",
    "# classifier.add(Dense(units = 512, activation = 'softmax'))\n",
    "\n",
    "# # Adding the output layer\n",
    "# classifier.add(Dense(units = 2, activation = 'softmax'))\n",
    "\n",
    "# #Compiling the ANN\n",
    "# classifier.compile(optimizer = 'adam', loss = 'binary_crossentropy', metrics = ['accuracy'])\n"
   ]
  },
  {
   "cell_type": "code",
   "execution_count": null,
   "metadata": {
    "collapsed": true
   },
   "outputs": [],
   "source": [
    "# #Fitting ANN to the training set\n",
    "# classifier.fit(train_x, train_y, batch_size = 68, epochs = 2000, verbose = 0)"
   ]
  },
  {
   "cell_type": "code",
   "execution_count": null,
   "metadata": {
    "collapsed": true
   },
   "outputs": [],
   "source": [
    "# # Predicting the Train set results\n",
    "# pred_y = classifier.predict(train_x)\n",
    "# pred_y = (pred_y > 0.5)\n",
    "# # pred_y"
   ]
  },
  {
   "cell_type": "code",
   "execution_count": null,
   "metadata": {
    "collapsed": true
   },
   "outputs": [],
   "source": [
    "# labels_tmp = []  \n",
    "# for label in pred_y:  \n",
    "#     tmp = []  \n",
    "#     if label[0] == True:  \n",
    "#         tmp = [1,0]  \n",
    "#     else:   \n",
    "#         tmp = [0,1]  \n",
    "#     labels_tmp.append(tmp)  \n",
    "# new_result = np.array(labels_tmp) "
   ]
  },
  {
   "cell_type": "code",
   "execution_count": null,
   "metadata": {
    "collapsed": true
   },
   "outputs": [],
   "source": [
    "# print('In-sample accuracy in Neural Network using Keras package (with 2 features):%s' % (accuracy_score(train_y, new_result)))"
   ]
  },
  {
   "cell_type": "code",
   "execution_count": null,
   "metadata": {
    "collapsed": true
   },
   "outputs": [],
   "source": [
    "# # Predicting the Test set results\n",
    "# pred_y = classifier.predict(test_x)\n",
    "# pred_y = (pred_y > 0.5)\n",
    "# # pred_y"
   ]
  },
  {
   "cell_type": "code",
   "execution_count": null,
   "metadata": {
    "collapsed": true
   },
   "outputs": [],
   "source": [
    "# labels_tmp = []  \n",
    "# for label in pred_y:  \n",
    "#     tmp = []  \n",
    "#     if label[0] == True:  \n",
    "#         tmp = [1,0]  \n",
    "#     else:   \n",
    "#         tmp = [0,1]  \n",
    "#     labels_tmp.append(tmp)  \n",
    "# new_result = np.array(labels_tmp) "
   ]
  },
  {
   "cell_type": "code",
   "execution_count": null,
   "metadata": {
    "collapsed": true
   },
   "outputs": [],
   "source": [
    "# print('Out-of-sample accuracy in Neural Network using Keras package (with 2 features):%s' % (accuracy_score(test_y, new_result)))"
   ]
  },
  {
   "cell_type": "markdown",
   "metadata": {
    "collapsed": true
   },
   "source": [
    "000\n",
    "In case with only 2 features(‘meanfun’, ‘IQR’) without feature scaling results are more precise. \n",
    "\n",
    "Neural Network with only two features gives 87.0% against 83.7% with all features. "
   ]
  }
 ],
 "metadata": {
  "kernelspec": {
   "display_name": "Python 3",
   "language": "python",
   "name": "python3"
  },
  "language_info": {
   "codemirror_mode": {
    "name": "ipython",
    "version": 3
   },
   "file_extension": ".py",
   "mimetype": "text/x-python",
   "name": "python",
   "nbconvert_exporter": "python",
   "pygments_lexer": "ipython3",
   "version": "3.6.3"
  }
 },
 "nbformat": 4,
 "nbformat_minor": 2
}
