{
 "cells": [
  {
   "cell_type": "markdown",
   "metadata": {},
   "source": [
    "## Overview:\n",
    "This notebook will focus on shaping the data in ways that make it satisfactory for the machine learning process. "
   ]
  },
  {
   "cell_type": "markdown",
   "metadata": {},
   "source": [
    "### Scale the dataset\n",
    "In general, learning algorithms benefit from standardization of the data set. If some outliers are present in the set, robust scalers or transformers are more appropriate. Standardization of datasets is a common requirement for many machine learning estimators implemented in scikit-learn."
   ]
  },
  {
   "cell_type": "code",
   "execution_count": 1,
   "metadata": {},
   "outputs": [],
   "source": [
    "import pandas as pd \n",
    "import numpy as np  \n",
    "import sys\n",
    "from sklearn.preprocessing import StandardScaler\n",
    "from sklearn.preprocessing import LabelEncoder\n",
    "from sklearn.model_selection import train_test_split  \n",
    "from sklearn.model_selection import cross_val_score"
   ]
  },
  {
   "cell_type": "code",
   "execution_count": 2,
   "metadata": {},
   "outputs": [],
   "source": [
    "# sys.path.append('/Users/Kassi/Desktop/Gender_Recognition_by_Voice')"
   ]
  },
  {
   "cell_type": "code",
   "execution_count": 3,
   "metadata": {},
   "outputs": [
    {
     "name": "stdout",
     "output_type": "stream",
     "text": [
      "Total number of samples: 3168\n",
      "Total number of male: 1584\n",
      "Total number of female: 1584\n",
      "Correlation between each feature\n"
     ]
    }
   ],
   "source": [
    "path = '/Users/Kassi/Desktop/Gender_Recognition_by_Voice/voice.csv'\n",
    "voice_data = pd.read_csv(path)\n",
    "print(\"Total number of samples: {}\".format(voice_data.shape[0]))\n",
    "print(\"Total number of male: {}\".format(voice_data[voice_data.label == 'male'].shape[0]))\n",
    "print(\"Total number of female: {}\".format(voice_data[voice_data.label == 'female'].shape[0]))\n",
    "print(\"Correlation between each feature\")"
   ]
  },
  {
   "cell_type": "markdown",
   "metadata": {},
   "source": [
    "#### Check dataset contains NA's"
   ]
  },
  {
   "cell_type": "code",
   "execution_count": 4,
   "metadata": {},
   "outputs": [
    {
     "data": {
      "text/plain": [
       "False"
      ]
     },
     "execution_count": 4,
     "metadata": {},
     "output_type": "execute_result"
    }
   ],
   "source": [
    "voice_data.isnull().any().any()"
   ]
  },
  {
   "cell_type": "markdown",
   "metadata": {},
   "source": [
    "Fortunately, our dataset does not contain any missing values and therefore does not need cleaning."
   ]
  },
  {
   "cell_type": "code",
   "execution_count": 5,
   "metadata": {},
   "outputs": [],
   "source": [
    "voice_data = voice_data.values\n",
    "voices = voice_data[:, :-1] \n",
    "labels = voice_data[:, -1:]"
   ]
  },
  {
   "cell_type": "code",
   "execution_count": 6,
   "metadata": {},
   "outputs": [
    {
     "name": "stderr",
     "output_type": "stream",
     "text": [
      "/anaconda2/lib/python2.7/site-packages/sklearn/preprocessing/label.py:111: DataConversionWarning: A column-vector y was passed when a 1d array was expected. Please change the shape of y to (n_samples, ), for example using ravel().\n",
      "  y = column_or_1d(y, warn=True)\n"
     ]
    }
   ],
   "source": [
    "gender_encoder = LabelEncoder()\n",
    "labels = gender_encoder.fit_transform(labels)"
   ]
  },
  {
   "cell_type": "code",
   "execution_count": 7,
   "metadata": {},
   "outputs": [],
   "source": [
    "# 2 most significant features (IQR and meanfun)\n",
    "voices_two_features = voices[:,[5,12]]\n",
    "labels_two_features = labels\n",
    "\n",
    "# train_x_two_features.shape\n",
    "# labels_two_features.shape"
   ]
  },
  {
   "cell_type": "code",
   "execution_count": 8,
   "metadata": {},
   "outputs": [],
   "source": [
    "# Splitting the whole dataset into the Training set and Test set\n",
    "train_x, test_x, train_y, test_y = train_test_split(voices, labels, test_size=0.25, random_state = 42)  \n",
    "\n",
    "# Splitting the subset into the Training set and Test set\n",
    "train_x_two_features, test_x_two_features, train_y_two_features, test_y_two_features = train_test_split(voices_two_features, labels_two_features, test_size=0.25, random_state = 42)  "
   ]
  },
  {
   "cell_type": "code",
   "execution_count": 9,
   "metadata": {},
   "outputs": [
    {
     "name": "stderr",
     "output_type": "stream",
     "text": [
      "/anaconda2/lib/python2.7/site-packages/sklearn/utils/validation.py:444: DataConversionWarning: Data with input dtype object was converted to float64 by StandardScaler.\n",
      "  warnings.warn(msg, DataConversionWarning)\n"
     ]
    }
   ],
   "source": [
    "# Feature Scaling\n",
    "# Learning algorithms benefit from standardization of the whole data set\n",
    "from sklearn.preprocessing import StandardScaler\n",
    "sc = StandardScaler()\n",
    "train_x = sc.fit_transform(train_x)\n",
    "test_x = sc.transform(test_x)"
   ]
  },
  {
   "cell_type": "code",
   "execution_count": 10,
   "metadata": {},
   "outputs": [],
   "source": [
    "# Learning algorithms benefit from standardization of the subset\n",
    "sc = StandardScaler()\n",
    "train_x_two_features = sc.fit_transform(train_x_two_features)\n",
    "test_x_two_features = sc.transform(test_x_two_features)"
   ]
  },
  {
   "cell_type": "code",
   "execution_count": 11,
   "metadata": {},
   "outputs": [
    {
     "name": "stdout",
     "output_type": "stream",
     "text": [
      "Stored 'train_x' (ndarray)\n",
      "Stored 'test_x' (ndarray)\n",
      "Stored 'train_y' (ndarray)\n",
      "Stored 'test_y' (ndarray)\n",
      "Stored 'train_x_two_features' (ndarray)\n",
      "Stored 'test_x_two_features' (ndarray)\n",
      "Stored 'train_y_two_features' (ndarray)\n",
      "Stored 'test_y_two_features' (ndarray)\n"
     ]
    }
   ],
   "source": [
    "%store train_x\n",
    "%store test_x\n",
    "%store train_y\n",
    "%store test_y\n",
    "\n",
    "%store train_x_two_features\n",
    "%store test_x_two_features\n",
    "%store train_y_two_features\n",
    "%store test_y_two_features"
   ]
  },
  {
   "cell_type": "markdown",
   "metadata": {},
   "source": [
    "### Principle Component Analysis(PCA)\n",
    "The number of components is determined by looking at the cumulative explained variance ratio as a function of the number of components"
   ]
  },
  {
   "cell_type": "code",
   "execution_count": 12,
   "metadata": {},
   "outputs": [
    {
     "data": {
      "image/png": "[encoded data removed]",
      "text/plain": [
       "<matplotlib.figure.Figure at 0x1a085b76d0>"
      ]
     },
     "metadata": {},
     "output_type": "display_data"
    }
   ],
   "source": [
    "from sklearn.decomposition import PCA\n",
    "import matplotlib.pyplot as plt\n",
    "\n",
    "pca = PCA().fit(train_x)\n",
    "plt.plot(np.cumsum(pca.explained_variance_ratio_))\n",
    "plt.xlabel('number of components')\n",
    "plt.ylabel('cumulative explained variance');\n",
    "plt.show()"
   ]
  },
  {
   "cell_type": "markdown",
   "metadata": {},
   "source": [
    "This curve quantifies how much of the total, 20-dimensional variance is contained within the first N components. For example, we see that with the digits the first 5 components contain approximately 85% of the variance, while we need around 10 components to describe close to 100% of the variance."
   ]
  },
  {
   "cell_type": "code",
   "execution_count": 13,
   "metadata": {},
   "outputs": [],
   "source": [
    "pca = PCA(n_components=10)\n",
    "pca.fit(train_x)\n",
    "transformed_train_x = pca.transform(train_x)\n",
    "transformed_test_x = pca.transform(test_x)"
   ]
  },
  {
   "cell_type": "code",
   "execution_count": 14,
   "metadata": {},
   "outputs": [
    {
     "name": "stdout",
     "output_type": "stream",
     "text": [
      "Stored 'transformed_train_x' (ndarray)\n",
      "Stored 'transformed_test_x' (ndarray)\n"
     ]
    }
   ],
   "source": [
    "%store transformed_train_x\n",
    "%store transformed_test_x"
   ]
  },
  {
   "cell_type": "code",
   "execution_count": 15,
   "metadata": {},
   "outputs": [],
   "source": [
    "# %run 'KNN.ipynb'"
   ]
  },
  {
   "cell_type": "code",
   "execution_count": 20,
   "metadata": {
    "scrolled": false
   },
   "outputs": [
    {
     "name": "stdout",
     "output_type": "stream",
     "text": [
      "Run linear svm with all features(Built-in Algorithm):\n",
      "In-sample accuracy for svm with Linear kernel: 0.9743290243\n",
      "Out-of-sample accuracy for svm with Linear kernel: 0.9722076268\n",
      "-----------------------------------------------------------\n",
      "Run rbf svm with all features(Built-in Algorithm):\n",
      "In-sample accuracy for svm with RBF kernel: 0.9806448362\n",
      "Out-of-sample accuracy for svm with RBF kernel: 0.9722235491\n",
      "===========================================================\n",
      "Run linear svm with dimensionality reduction using PCA(Built-in Algorithm)\n",
      "In-sample accuracy for svm with Linear kernel: 0.9751702488\n",
      "Out-of-sample accuracy for svm with Linear kernel: 0.9734654884\n",
      "-----------------------------------------------------------\n",
      "Run rbf svm with dimensionality reduction using PCA(Built-in Algorithm)\n",
      "In-sample accuracy for svm with RBF kernel: 0.9781202858\n",
      "Out-of-sample accuracy for svm with RBF kernel: 0.9633787119\n",
      "===========================================================\n",
      "Run linear svm with top 2 features(Built-in Algorithm):\n",
      "In-sample accuracy for svm with Linear kernel: 0.9629720840\n",
      "Out-of-sample accuracy for svm with Linear kernel: 0.9709338428\n",
      "-----------------------------------------------------------\n",
      "Run rbf svm with top 2 features(Built-in Algorithm):\n",
      "In-sample accuracy for svm with RBF kernel: 0.9659132604\n",
      "Out-of-sample accuracy for svm with RBF kernel: 0.9734654884\n"
     ]
    }
   ],
   "source": [
    "%run 'SVM.ipynb'"
   ]
  },
  {
   "cell_type": "code",
   "execution_count": 17,
   "metadata": {},
   "outputs": [
    {
     "name": "stdout",
     "output_type": "stream",
     "text": [
      "Run random forest with all features(Built-in Algorithm):\n"
     ]
    },
    {
     "data": {
      "image/png": "[encoded data removed]",
      "text/plain": [
       "<matplotlib.figure.Figure at 0x1a11e0d450>"
      ]
     },
     "metadata": {},
     "output_type": "display_data"
    },
    {
     "name": "stdout",
     "output_type": "stream",
     "text": [
      "Lowest error of 0.0164141414141 occurs at n=121.\n",
      "The highest in-sample accuracy in Random Forest is 0.983585858586 when n=121.\n",
      "Out-of-sample accuracy in Random Forest:0.9696839424\n",
      "===============================================================================\n",
      "\n",
      "Run random forest with dimensionality reduction using PCA(Built-in Algorithm)\n"
     ]
    },
    {
     "data": {
      "image/png": "[encoded data removed]",
      "text/plain": [
       "<matplotlib.figure.Figure at 0x1a1135f050>"
      ]
     },
     "metadata": {},
     "output_type": "display_data"
    },
    {
     "name": "stdout",
     "output_type": "stream",
     "text": [
      "Lowest error of 0.0265151515152 occurs at n=61.\n",
      "The highest in-sample accuracy in Random Forest is 0.973484848485 when n=61.\n",
      "Out-of-sample accuracy in Random Forest:0.9671841414\n",
      "===============================================================================\n",
      "\n",
      "Run random forest with top 2 features(Built-in Algorithm):\n"
     ]
    },
    {
     "data": {
      "image/png": "[encoded data removed]",
      "text/plain": [
       "<matplotlib.figure.Figure at 0x1029f4350>"
      ]
     },
     "metadata": {},
     "output_type": "display_data"
    },
    {
     "name": "stdout",
     "output_type": "stream",
     "text": [
      "Lowest error of 0.0290404040404 occurs at n=241.\n",
      "The highest in-sample accuracy in Random Forest is 0.97095959596 when n=241.\n",
      "Out-of-sample accuracy in Random Forest:0.9722155879\n"
     ]
    }
   ],
   "source": [
    "%run 'Random_Forest.ipynb'"
   ]
  },
  {
   "cell_type": "code",
   "execution_count": null,
   "metadata": {},
   "outputs": [],
   "source": []
  }
 ],
 "metadata": {
  "kernelspec": {
   "display_name": "Python 2",
   "language": "python",
   "name": "python2"
  },
  "language_info": {
   "codemirror_mode": {
    "name": "ipython",
    "version": 2
   },
   "file_extension": ".py",
   "mimetype": "text/x-python",
   "name": "python",
   "nbconvert_exporter": "python",
   "pygments_lexer": "ipython2",
   "version": "2.7.13"
  }
 },
 "nbformat": 4,
 "nbformat_minor": 2
}
