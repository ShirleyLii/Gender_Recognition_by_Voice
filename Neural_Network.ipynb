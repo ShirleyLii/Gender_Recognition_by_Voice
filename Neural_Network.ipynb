{
 "cells": [
  {
   "cell_type": "code",
   "execution_count": 166,
   "metadata": {
    "collapsed": true
   },
   "outputs": [],
   "source": [
    "import pandas as pd \n",
    "import numpy as np  \n",
    "import random\n",
    "from sklearn.model_selection import train_test_split  \n",
    "import matplotlib.pyplot as plt\n",
    "\n",
    "# Installing Theano\n",
    "# pip install --upgrade --no-deps git+git://github.com/Theano/Theano.git\n",
    "\n",
    "# Installing Tensorflow\n",
    "# Install Tensorflow from the website: https://www.tensorflow.org/versions/r0.12/get_started/os_setup.html\n",
    "\n",
    "# Installing Keras\n",
    "# pip install --upgrade keras\n",
    "import warnings\n",
    "warnings.filterwarnings('ignore')\n"
   ]
  },
  {
   "cell_type": "code",
   "execution_count": 167,
   "metadata": {
    "collapsed": true
   },
   "outputs": [],
   "source": [
    "%store -r pca_train_x\n",
    "%store -r pca_test_x\n",
    "%store -r pca13_train_x\n",
    "%store -r pca13_test_x\n",
    "\n",
    "%store -r train_x\n",
    "%store -r test_x\n",
    "%store -r train_y\n",
    "%store -r test_y\n",
    "\n",
    "%store -r train_x_two_features\n",
    "%store -r test_x_two_features\n",
    "%store -r train_y_two_features\n",
    "%store -r test_y_two_features"
   ]
  },
  {
   "cell_type": "code",
   "execution_count": 168,
   "metadata": {
    "scrolled": false
   },
   "outputs": [
    {
     "name": "stdout",
     "output_type": "stream",
     "text": [
      "Epoch 1/100\n",
      "2376/2376 [==============================] - 1s 408us/step - loss: 0.5878 - acc: 0.7782\n",
      "Epoch 2/100\n",
      "2376/2376 [==============================] - 1s 234us/step - loss: 0.2625 - acc: 0.8969\n",
      "Epoch 3/100\n",
      "2376/2376 [==============================] - 1s 243us/step - loss: 0.1463 - acc: 0.9541\n",
      "Epoch 4/100\n",
      "2376/2376 [==============================] - 1s 231us/step - loss: 0.1015 - acc: 0.9722\n",
      "Epoch 5/100\n",
      "2376/2376 [==============================] - 1s 220us/step - loss: 0.0878 - acc: 0.9722\n",
      "Epoch 6/100\n",
      "2376/2376 [==============================] - 1s 229us/step - loss: 0.0824 - acc: 0.9752\n",
      "Epoch 7/100\n",
      "2376/2376 [==============================] - 1s 227us/step - loss: 0.0794 - acc: 0.9752\n",
      "Epoch 8/100\n",
      "2376/2376 [==============================] - 1s 230us/step - loss: 0.0768 - acc: 0.9769\n",
      "Epoch 9/100\n",
      "2376/2376 [==============================] - 1s 225us/step - loss: 0.0763 - acc: 0.9752\n",
      "Epoch 10/100\n",
      "2376/2376 [==============================] - 1s 240us/step - loss: 0.0740 - acc: 0.9781\n",
      "Epoch 11/100\n",
      "2376/2376 [==============================] - 1s 273us/step - loss: 0.0731 - acc: 0.9781\n",
      "Epoch 12/100\n",
      "2376/2376 [==============================] - 1s 243us/step - loss: 0.0717 - acc: 0.9798\n",
      "Epoch 13/100\n",
      "2376/2376 [==============================] - 1s 259us/step - loss: 0.0700 - acc: 0.9781\n",
      "Epoch 14/100\n",
      "2376/2376 [==============================] - 1s 268us/step - loss: 0.0697 - acc: 0.9777\n",
      "Epoch 15/100\n",
      "2376/2376 [==============================] - 1s 298us/step - loss: 0.0687 - acc: 0.9802\n",
      "Epoch 16/100\n",
      "2376/2376 [==============================] - 1s 285us/step - loss: 0.0675 - acc: 0.9781\n",
      "Epoch 17/100\n",
      "2376/2376 [==============================] - 1s 233us/step - loss: 0.0668 - acc: 0.9806\n",
      "Epoch 18/100\n",
      "2376/2376 [==============================] - 1s 219us/step - loss: 0.0664 - acc: 0.9798\n",
      "Epoch 19/100\n",
      "2376/2376 [==============================] - 1s 219us/step - loss: 0.0649 - acc: 0.9794\n",
      "Epoch 20/100\n",
      "2376/2376 [==============================] - 1s 212us/step - loss: 0.0635 - acc: 0.9806\n",
      "Epoch 21/100\n",
      "2376/2376 [==============================] - 1s 228us/step - loss: 0.0653 - acc: 0.9806\n",
      "Epoch 22/100\n",
      "2376/2376 [==============================] - 1s 228us/step - loss: 0.0633 - acc: 0.9811\n",
      "Epoch 23/100\n",
      "2376/2376 [==============================] - 0s 210us/step - loss: 0.0629 - acc: 0.9811\n",
      "Epoch 24/100\n",
      "2376/2376 [==============================] - 1s 215us/step - loss: 0.0619 - acc: 0.9823\n",
      "Epoch 25/100\n",
      "2376/2376 [==============================] - 1s 232us/step - loss: 0.0614 - acc: 0.9802\n",
      "Epoch 26/100\n",
      "2376/2376 [==============================] - 1s 230us/step - loss: 0.0605 - acc: 0.9815\n",
      "Epoch 27/100\n",
      "2376/2376 [==============================] - 1s 215us/step - loss: 0.0604 - acc: 0.9815\n",
      "Epoch 28/100\n",
      "2376/2376 [==============================] - 1s 220us/step - loss: 0.0592 - acc: 0.9823\n",
      "Epoch 29/100\n",
      "2376/2376 [==============================] - 1s 228us/step - loss: 0.0592 - acc: 0.9832\n",
      "Epoch 30/100\n",
      "2376/2376 [==============================] - 1s 219us/step - loss: 0.0578 - acc: 0.9827\n",
      "Epoch 31/100\n",
      "2376/2376 [==============================] - 1s 229us/step - loss: 0.0578 - acc: 0.9819\n",
      "Epoch 32/100\n",
      "2376/2376 [==============================] - 1s 229us/step - loss: 0.0563 - acc: 0.9832\n",
      "Epoch 33/100\n",
      "2376/2376 [==============================] - 1s 218us/step - loss: 0.0554 - acc: 0.9840\n",
      "Epoch 34/100\n",
      "2376/2376 [==============================] - 1s 214us/step - loss: 0.0557 - acc: 0.9827\n",
      "Epoch 35/100\n",
      "2376/2376 [==============================] - 1s 234us/step - loss: 0.0551 - acc: 0.9832 0s - loss: 0.0378 - a\n",
      "Epoch 36/100\n",
      "2376/2376 [==============================] - 1s 224us/step - loss: 0.0545 - acc: 0.9848\n",
      "Epoch 37/100\n",
      "2376/2376 [==============================] - 1s 225us/step - loss: 0.0544 - acc: 0.9840\n",
      "Epoch 38/100\n",
      "2376/2376 [==============================] - 1s 221us/step - loss: 0.0539 - acc: 0.9836\n",
      "Epoch 39/100\n",
      "2376/2376 [==============================] - 1s 220us/step - loss: 0.0531 - acc: 0.9827\n",
      "Epoch 40/100\n",
      "2376/2376 [==============================] - 1s 233us/step - loss: 0.0528 - acc: 0.9823\n",
      "Epoch 41/100\n",
      "2376/2376 [==============================] - 1s 234us/step - loss: 0.0531 - acc: 0.9832\n",
      "Epoch 42/100\n",
      "2376/2376 [==============================] - 1s 230us/step - loss: 0.0517 - acc: 0.9844\n",
      "Epoch 43/100\n",
      "2376/2376 [==============================] - 1s 213us/step - loss: 0.0518 - acc: 0.9832\n",
      "Epoch 44/100\n",
      "2376/2376 [==============================] - 1s 219us/step - loss: 0.0509 - acc: 0.9823\n",
      "Epoch 45/100\n",
      "2376/2376 [==============================] - 1s 216us/step - loss: 0.0512 - acc: 0.9832\n",
      "Epoch 46/100\n",
      "2376/2376 [==============================] - 1s 218us/step - loss: 0.0501 - acc: 0.9823\n",
      "Epoch 47/100\n",
      "2376/2376 [==============================] - 1s 218us/step - loss: 0.0504 - acc: 0.9840\n",
      "Epoch 48/100\n",
      "2376/2376 [==============================] - 1s 266us/step - loss: 0.0496 - acc: 0.9848\n",
      "Epoch 49/100\n",
      "2376/2376 [==============================] - 1s 416us/step - loss: 0.0506 - acc: 0.9827\n",
      "Epoch 50/100\n",
      "2376/2376 [==============================] - 1s 445us/step - loss: 0.0486 - acc: 0.9853\n",
      "Epoch 51/100\n",
      "2376/2376 [==============================] - 1s 306us/step - loss: 0.0494 - acc: 0.9848\n",
      "Epoch 52/100\n",
      "2376/2376 [==============================] - 1s 264us/step - loss: 0.0486 - acc: 0.9848\n",
      "Epoch 53/100\n",
      "2376/2376 [==============================] - 1s 292us/step - loss: 0.0482 - acc: 0.9861\n",
      "Epoch 54/100\n",
      "2376/2376 [==============================] - 1s 254us/step - loss: 0.0489 - acc: 0.9848\n",
      "Epoch 55/100\n",
      "2376/2376 [==============================] - 1s 235us/step - loss: 0.0470 - acc: 0.9853\n",
      "Epoch 56/100\n",
      "2376/2376 [==============================] - 1s 224us/step - loss: 0.0474 - acc: 0.9853\n",
      "Epoch 57/100\n",
      "2376/2376 [==============================] - 0s 209us/step - loss: 0.0479 - acc: 0.9848\n",
      "Epoch 58/100\n",
      "2376/2376 [==============================] - 1s 211us/step - loss: 0.0466 - acc: 0.9848\n",
      "Epoch 59/100\n",
      "2376/2376 [==============================] - 1s 314us/step - loss: 0.0470 - acc: 0.9857\n",
      "Epoch 60/100\n",
      "2376/2376 [==============================] - 1s 269us/step - loss: 0.0467 - acc: 0.9840\n",
      "Epoch 61/100\n",
      "2376/2376 [==============================] - 1s 459us/step - loss: 0.0463 - acc: 0.9857ETA: 2s - loss: 0.007\n",
      "Epoch 62/100\n",
      "2376/2376 [==============================] - 1s 310us/step - loss: 0.0458 - acc: 0.9853\n",
      "Epoch 63/100\n",
      "2376/2376 [==============================] - 1s 284us/step - loss: 0.0456 - acc: 0.9861\n",
      "Epoch 64/100\n",
      "2376/2376 [==============================] - 1s 312us/step - loss: 0.0446 - acc: 0.9870\n",
      "Epoch 65/100\n",
      "2376/2376 [==============================] - 1s 319us/step - loss: 0.0451 - acc: 0.9861\n",
      "Epoch 66/100\n",
      "2376/2376 [==============================] - 1s 274us/step - loss: 0.0439 - acc: 0.9870\n",
      "Epoch 67/100\n",
      "2376/2376 [==============================] - 1s 266us/step - loss: 0.0441 - acc: 0.9857\n",
      "Epoch 68/100\n",
      "2376/2376 [==============================] - 1s 321us/step - loss: 0.0427 - acc: 0.9857\n",
      "Epoch 69/100\n",
      "2376/2376 [==============================] - ETA: 0s - loss: 0.0434 - acc: 0.985 - 1s 283us/step - loss: 0.0429 - acc: 0.9861\n",
      "Epoch 70/100\n",
      "2376/2376 [==============================] - 1s 232us/step - loss: 0.0432 - acc: 0.9870\n",
      "Epoch 71/100\n",
      "2376/2376 [==============================] - 1s 438us/step - loss: 0.0418 - acc: 0.9865\n",
      "Epoch 72/100\n",
      "2376/2376 [==============================] - 1s 282us/step - loss: 0.0433 - acc: 0.9870\n",
      "Epoch 73/100\n",
      "2376/2376 [==============================] - 1s 408us/step - loss: 0.0422 - acc: 0.9878\n",
      "Epoch 74/100\n",
      "2376/2376 [==============================] - 1s 216us/step - loss: 0.0408 - acc: 0.9874\n",
      "Epoch 75/100\n",
      "2376/2376 [==============================] - 1s 284us/step - loss: 0.0422 - acc: 0.9865\n",
      "Epoch 76/100\n",
      "2376/2376 [==============================] - 1s 290us/step - loss: 0.0410 - acc: 0.9857\n",
      "Epoch 77/100\n",
      "2376/2376 [==============================] - 1s 448us/step - loss: 0.0406 - acc: 0.9874\n",
      "Epoch 78/100\n",
      "2376/2376 [==============================] - 1s 346us/step - loss: 0.0412 - acc: 0.9870\n",
      "Epoch 79/100\n",
      "2376/2376 [==============================] - 1s 288us/step - loss: 0.0411 - acc: 0.9861\n",
      "Epoch 80/100\n",
      "2376/2376 [==============================] - 1s 341us/step - loss: 0.0402 - acc: 0.9870\n",
      "Epoch 81/100\n"
     ]
    },
    {
     "name": "stdout",
     "output_type": "stream",
     "text": [
      "2376/2376 [==============================] - 1s 282us/step - loss: 0.0406 - acc: 0.9870\n",
      "Epoch 82/100\n",
      "2376/2376 [==============================] - 1s 332us/step - loss: 0.0405 - acc: 0.9870\n",
      "Epoch 83/100\n",
      "2376/2376 [==============================] - 1s 225us/step - loss: 0.0399 - acc: 0.9874\n",
      "Epoch 84/100\n",
      "2376/2376 [==============================] - 0s 203us/step - loss: 0.0406 - acc: 0.9874\n",
      "Epoch 85/100\n",
      "2376/2376 [==============================] - 0s 193us/step - loss: 0.0401 - acc: 0.9861\n",
      "Epoch 86/100\n",
      "2376/2376 [==============================] - 0s 190us/step - loss: 0.0402 - acc: 0.9865\n",
      "Epoch 87/100\n",
      "2376/2376 [==============================] - 0s 205us/step - loss: 0.0382 - acc: 0.9882 0s - loss: 0.0463 - acc:\n",
      "Epoch 88/100\n",
      "2376/2376 [==============================] - 0s 194us/step - loss: 0.0380 - acc: 0.9870\n",
      "Epoch 89/100\n",
      "2376/2376 [==============================] - 0s 198us/step - loss: 0.0388 - acc: 0.9870\n",
      "Epoch 90/100\n",
      "2376/2376 [==============================] - 0s 196us/step - loss: 0.0377 - acc: 0.9882\n",
      "Epoch 91/100\n",
      "2376/2376 [==============================] - 0s 209us/step - loss: 0.0383 - acc: 0.9886\n",
      "Epoch 92/100\n",
      "2376/2376 [==============================] - 1s 299us/step - loss: 0.0375 - acc: 0.9882\n",
      "Epoch 93/100\n",
      "2376/2376 [==============================] - 1s 246us/step - loss: 0.0376 - acc: 0.9886\n",
      "Epoch 94/100\n",
      "2376/2376 [==============================] - 1s 243us/step - loss: 0.0383 - acc: 0.9886\n",
      "Epoch 95/100\n",
      "2376/2376 [==============================] - 1s 222us/step - loss: 0.0376 - acc: 0.9886\n",
      "Epoch 96/100\n",
      "2376/2376 [==============================] - 1s 219us/step - loss: 0.0376 - acc: 0.9886\n",
      "Epoch 97/100\n",
      "2376/2376 [==============================] - 0s 203us/step - loss: 0.0355 - acc: 0.9895\n",
      "Epoch 98/100\n",
      "2376/2376 [==============================] - 1s 211us/step - loss: 0.0366 - acc: 0.9870\n",
      "Epoch 99/100\n",
      "2376/2376 [==============================] - 0s 207us/step - loss: 0.0367 - acc: 0.9891\n",
      "Epoch 100/100\n",
      "2376/2376 [==============================] - 1s 225us/step - loss: 0.0371 - acc: 0.9870\n",
      "0.976010101010101\n"
     ]
    },
    {
     "data": {
      "image/png": "[encoded data removed]",
      "text/plain": [
       "<matplotlib.figure.Figure at 0x1a17165128>"
      ]
     },
     "metadata": {},
     "output_type": "display_data"
    },
    {
     "name": "stdout",
     "output_type": "stream",
     "text": [
      "Epoch 1/100\n",
      "2376/2376 [==============================] - 1s 387us/step - loss: 0.5736 - acc: 0.8443\n",
      "Epoch 2/100\n",
      "2376/2376 [==============================] - 0s 200us/step - loss: 0.1830 - acc: 0.9558\n",
      "Epoch 3/100\n",
      "2376/2376 [==============================] - 0s 208us/step - loss: 0.1222 - acc: 0.9625\n",
      "Epoch 4/100\n",
      "2376/2376 [==============================] - 0s 203us/step - loss: 0.1140 - acc: 0.9642\n",
      "Epoch 5/100\n",
      "2376/2376 [==============================] - 0s 203us/step - loss: 0.1115 - acc: 0.9646\n",
      "Epoch 6/100\n",
      "2376/2376 [==============================] - 0s 204us/step - loss: 0.1100 - acc: 0.9646\n",
      "Epoch 7/100\n",
      "2376/2376 [==============================] - 0s 205us/step - loss: 0.1084 - acc: 0.9651\n",
      "Epoch 8/100\n",
      "2376/2376 [==============================] - 0s 202us/step - loss: 0.1072 - acc: 0.9655\n",
      "Epoch 9/100\n",
      "2376/2376 [==============================] - 1s 212us/step - loss: 0.1054 - acc: 0.9651\n",
      "Epoch 10/100\n",
      "2376/2376 [==============================] - 0s 202us/step - loss: 0.1044 - acc: 0.9663\n",
      "Epoch 11/100\n",
      "2376/2376 [==============================] - 1s 215us/step - loss: 0.1030 - acc: 0.9651\n",
      "Epoch 12/100\n",
      "2376/2376 [==============================] - 1s 216us/step - loss: 0.1016 - acc: 0.9663\n",
      "Epoch 13/100\n",
      "2376/2376 [==============================] - 0s 207us/step - loss: 0.1009 - acc: 0.9655\n",
      "Epoch 14/100\n",
      "2376/2376 [==============================] - 1s 223us/step - loss: 0.0996 - acc: 0.9651\n",
      "Epoch 15/100\n",
      "2376/2376 [==============================] - 0s 209us/step - loss: 0.0990 - acc: 0.9659\n",
      "Epoch 16/100\n",
      "2376/2376 [==============================] - 1s 211us/step - loss: 0.0980 - acc: 0.9668\n",
      "Epoch 17/100\n",
      "2376/2376 [==============================] - 1s 211us/step - loss: 0.0978 - acc: 0.9655\n",
      "Epoch 18/100\n",
      "2376/2376 [==============================] - 1s 211us/step - loss: 0.0973 - acc: 0.9668\n",
      "Epoch 19/100\n",
      "2376/2376 [==============================] - 0s 208us/step - loss: 0.0969 - acc: 0.9655\n",
      "Epoch 20/100\n",
      "2376/2376 [==============================] - 1s 221us/step - loss: 0.0965 - acc: 0.9659\n",
      "Epoch 21/100\n",
      "2376/2376 [==============================] - 1s 267us/step - loss: 0.0963 - acc: 0.9651\n",
      "Epoch 22/100\n",
      "2376/2376 [==============================] - 1s 233us/step - loss: 0.0958 - acc: 0.9659\n",
      "Epoch 23/100\n",
      "2376/2376 [==============================] - 1s 213us/step - loss: 0.0958 - acc: 0.9663\n",
      "Epoch 24/100\n",
      "2376/2376 [==============================] - 0s 207us/step - loss: 0.0957 - acc: 0.9663\n",
      "Epoch 25/100\n",
      "2376/2376 [==============================] - 1s 215us/step - loss: 0.0952 - acc: 0.9655\n",
      "Epoch 26/100\n",
      "2376/2376 [==============================] - 1s 272us/step - loss: 0.0950 - acc: 0.9651\n",
      "Epoch 27/100\n",
      "2376/2376 [==============================] - 1s 298us/step - loss: 0.0951 - acc: 0.9659\n",
      "Epoch 28/100\n",
      "2376/2376 [==============================] - 1s 243us/step - loss: 0.0947 - acc: 0.9659\n",
      "Epoch 29/100\n",
      "2376/2376 [==============================] - 1s 212us/step - loss: 0.0946 - acc: 0.9655\n",
      "Epoch 30/100\n",
      "2376/2376 [==============================] - 1s 229us/step - loss: 0.0944 - acc: 0.9655\n",
      "Epoch 31/100\n",
      "2376/2376 [==============================] - 1s 214us/step - loss: 0.0940 - acc: 0.9663\n",
      "Epoch 32/100\n",
      "2376/2376 [==============================] - 1s 227us/step - loss: 0.0943 - acc: 0.9651 0s - loss: 0.1015 - ac\n",
      "Epoch 33/100\n",
      "2376/2376 [==============================] - 1s 228us/step - loss: 0.0943 - acc: 0.9663\n",
      "Epoch 34/100\n",
      "2376/2376 [==============================] - 1s 220us/step - loss: 0.0940 - acc: 0.9655\n",
      "Epoch 35/100\n",
      "2376/2376 [==============================] - 1s 231us/step - loss: 0.0937 - acc: 0.9659\n",
      "Epoch 36/100\n",
      "2376/2376 [==============================] - 1s 222us/step - loss: 0.0935 - acc: 0.9659\n",
      "Epoch 37/100\n",
      "2376/2376 [==============================] - 1s 250us/step - loss: 0.0935 - acc: 0.9663\n",
      "Epoch 38/100\n",
      "2376/2376 [==============================] - 1s 263us/step - loss: 0.0934 - acc: 0.9659\n",
      "Epoch 39/100\n",
      "2376/2376 [==============================] - 1s 306us/step - loss: 0.0936 - acc: 0.9668\n",
      "Epoch 40/100\n",
      "2376/2376 [==============================] - 1s 278us/step - loss: 0.0934 - acc: 0.9655\n",
      "Epoch 41/100\n",
      "2376/2376 [==============================] - 1s 227us/step - loss: 0.0935 - acc: 0.9668\n",
      "Epoch 42/100\n",
      "2376/2376 [==============================] - 1s 219us/step - loss: 0.0939 - acc: 0.9655\n",
      "Epoch 43/100\n",
      "2376/2376 [==============================] - 1s 222us/step - loss: 0.0931 - acc: 0.9659\n",
      "Epoch 44/100\n",
      "2376/2376 [==============================] - 1s 212us/step - loss: 0.0930 - acc: 0.9659\n",
      "Epoch 45/100\n",
      "2376/2376 [==============================] - 1s 228us/step - loss: 0.0929 - acc: 0.9659\n",
      "Epoch 46/100\n",
      "2376/2376 [==============================] - 1s 224us/step - loss: 0.0929 - acc: 0.9651\n",
      "Epoch 47/100\n",
      "2376/2376 [==============================] - 1s 215us/step - loss: 0.0929 - acc: 0.9659\n",
      "Epoch 48/100\n",
      "2376/2376 [==============================] - 1s 230us/step - loss: 0.0928 - acc: 0.9676\n",
      "Epoch 49/100\n",
      "2376/2376 [==============================] - 1s 252us/step - loss: 0.0926 - acc: 0.9651\n",
      "Epoch 50/100\n",
      "2376/2376 [==============================] - 1s 245us/step - loss: 0.0927 - acc: 0.9668\n",
      "Epoch 51/100\n",
      "2376/2376 [==============================] - 1s 243us/step - loss: 0.0926 - acc: 0.9663\n",
      "Epoch 52/100\n",
      "2376/2376 [==============================] - 1s 231us/step - loss: 0.0926 - acc: 0.9668\n",
      "Epoch 53/100\n",
      "2376/2376 [==============================] - 1s 225us/step - loss: 0.0922 - acc: 0.9663\n",
      "Epoch 54/100\n",
      "2376/2376 [==============================] - 1s 218us/step - loss: 0.0927 - acc: 0.9659\n",
      "Epoch 55/100\n",
      "2376/2376 [==============================] - 1s 254us/step - loss: 0.0923 - acc: 0.9659\n",
      "Epoch 56/100\n",
      "2376/2376 [==============================] - 1s 251us/step - loss: 0.0924 - acc: 0.9663\n",
      "Epoch 57/100\n",
      "2376/2376 [==============================] - 1s 229us/step - loss: 0.0923 - acc: 0.9672\n",
      "Epoch 58/100\n",
      "2376/2376 [==============================] - 1s 228us/step - loss: 0.0924 - acc: 0.9672\n",
      "Epoch 59/100\n",
      "2376/2376 [==============================] - 1s 232us/step - loss: 0.0925 - acc: 0.9668\n",
      "Epoch 60/100\n",
      "2376/2376 [==============================] - 1s 228us/step - loss: 0.0923 - acc: 0.9663\n",
      "Epoch 61/100\n",
      "2376/2376 [==============================] - 1s 217us/step - loss: 0.0922 - acc: 0.9672\n",
      "Epoch 62/100\n",
      "2376/2376 [==============================] - 1s 244us/step - loss: 0.0924 - acc: 0.9672\n",
      "Epoch 63/100\n",
      "2376/2376 [==============================] - 1s 230us/step - loss: 0.0923 - acc: 0.9676\n",
      "Epoch 64/100\n",
      "2376/2376 [==============================] - 1s 235us/step - loss: 0.0921 - acc: 0.9680\n",
      "Epoch 65/100\n",
      "2376/2376 [==============================] - 1s 242us/step - loss: 0.0920 - acc: 0.9676\n",
      "Epoch 66/100\n",
      "2376/2376 [==============================] - 1s 218us/step - loss: 0.0917 - acc: 0.9676\n",
      "Epoch 67/100\n",
      "2376/2376 [==============================] - 1s 222us/step - loss: 0.0917 - acc: 0.9672\n",
      "Epoch 68/100\n",
      "2376/2376 [==============================] - 1s 227us/step - loss: 0.0920 - acc: 0.9676\n",
      "Epoch 69/100\n",
      "2376/2376 [==============================] - 1s 225us/step - loss: 0.0922 - acc: 0.9668\n",
      "Epoch 70/100\n",
      "2376/2376 [==============================] - 1s 221us/step - loss: 0.0919 - acc: 0.9676\n",
      "Epoch 71/100\n",
      "2376/2376 [==============================] - 1s 240us/step - loss: 0.0917 - acc: 0.9680\n",
      "Epoch 72/100\n",
      "2376/2376 [==============================] - 1s 219us/step - loss: 0.0914 - acc: 0.9684\n",
      "Epoch 73/100\n",
      "2376/2376 [==============================] - 1s 223us/step - loss: 0.0918 - acc: 0.9659\n",
      "Epoch 74/100\n",
      "2376/2376 [==============================] - 0s 208us/step - loss: 0.0913 - acc: 0.9668\n",
      "Epoch 75/100\n",
      "2376/2376 [==============================] - 1s 216us/step - loss: 0.0919 - acc: 0.9676\n",
      "Epoch 76/100\n",
      "2376/2376 [==============================] - 1s 222us/step - loss: 0.0911 - acc: 0.9668\n",
      "Epoch 77/100\n",
      "2376/2376 [==============================] - 1s 211us/step - loss: 0.0921 - acc: 0.9676\n",
      "Epoch 78/100\n",
      "2376/2376 [==============================] - 1s 213us/step - loss: 0.0909 - acc: 0.9676\n",
      "Epoch 79/100\n",
      "2376/2376 [==============================] - 1s 257us/step - loss: 0.0915 - acc: 0.9676\n",
      "Epoch 80/100\n",
      "2376/2376 [==============================] - 1s 278us/step - loss: 0.0916 - acc: 0.9668\n",
      "Epoch 81/100\n",
      "2376/2376 [==============================] - 1s 270us/step - loss: 0.0911 - acc: 0.9668\n"
     ]
    },
    {
     "name": "stdout",
     "output_type": "stream",
     "text": [
      "Epoch 82/100\n",
      "2376/2376 [==============================] - 1s 241us/step - loss: 0.0910 - acc: 0.9676\n",
      "Epoch 83/100\n",
      "2376/2376 [==============================] - 1s 249us/step - loss: 0.0912 - acc: 0.9672\n",
      "Epoch 84/100\n",
      "2376/2376 [==============================] - 0s 203us/step - loss: 0.0912 - acc: 0.9668\n",
      "Epoch 85/100\n",
      "2376/2376 [==============================] - 0s 206us/step - loss: 0.0905 - acc: 0.9684\n",
      "Epoch 86/100\n",
      "2376/2376 [==============================] - 0s 204us/step - loss: 0.0920 - acc: 0.9680\n",
      "Epoch 87/100\n",
      "2376/2376 [==============================] - 0s 193us/step - loss: 0.0909 - acc: 0.9668\n",
      "Epoch 88/100\n",
      "2376/2376 [==============================] - 0s 204us/step - loss: 0.0907 - acc: 0.9672\n",
      "Epoch 89/100\n",
      "2376/2376 [==============================] - 0s 203us/step - loss: 0.0915 - acc: 0.9663\n",
      "Epoch 90/100\n",
      "2376/2376 [==============================] - 0s 210us/step - loss: 0.0911 - acc: 0.9668\n",
      "Epoch 91/100\n",
      "2376/2376 [==============================] - 0s 201us/step - loss: 0.0905 - acc: 0.9659\n",
      "Epoch 92/100\n",
      "2376/2376 [==============================] - 0s 208us/step - loss: 0.0908 - acc: 0.9668\n",
      "Epoch 93/100\n",
      "2376/2376 [==============================] - 0s 206us/step - loss: 0.0913 - acc: 0.9680\n",
      "Epoch 94/100\n",
      "2376/2376 [==============================] - 0s 201us/step - loss: 0.0900 - acc: 0.9668\n",
      "Epoch 95/100\n",
      "2376/2376 [==============================] - 0s 201us/step - loss: 0.0911 - acc: 0.9663\n",
      "Epoch 96/100\n",
      "2376/2376 [==============================] - 0s 202us/step - loss: 0.0905 - acc: 0.9676\n",
      "Epoch 97/100\n",
      "2376/2376 [==============================] - 0s 203us/step - loss: 0.0907 - acc: 0.9663\n",
      "Epoch 98/100\n",
      "2376/2376 [==============================] - 0s 208us/step - loss: 0.0903 - acc: 0.9668\n",
      "Epoch 99/100\n",
      "2376/2376 [==============================] - 0s 194us/step - loss: 0.0901 - acc: 0.9676\n",
      "Epoch 100/100\n",
      "2376/2376 [==============================] - 0s 198us/step - loss: 0.0909 - acc: 0.9672\n",
      "0.9722222222222222\n"
     ]
    },
    {
     "data": {
      "image/png": "[encoded data removed]",
      "text/plain": [
       "<matplotlib.figure.Figure at 0x1a176db668>"
      ]
     },
     "metadata": {},
     "output_type": "display_data"
    },
    {
     "name": "stdout",
     "output_type": "stream",
     "text": [
      "Epoch 1/100\n",
      "2376/2376 [==============================] - 1s 427us/step - loss: 0.5874 - acc: 0.7925\n",
      "Epoch 2/100\n",
      "2376/2376 [==============================] - 1s 243us/step - loss: 0.1969 - acc: 0.9251\n",
      "Epoch 3/100\n",
      "2376/2376 [==============================] - 1s 211us/step - loss: 0.1042 - acc: 0.9651\n",
      "Epoch 4/100\n",
      "2376/2376 [==============================] - 1s 212us/step - loss: 0.0884 - acc: 0.9714\n",
      "Epoch 5/100\n",
      "2376/2376 [==============================] - 0s 207us/step - loss: 0.0839 - acc: 0.9764\n",
      "Epoch 6/100\n",
      "2376/2376 [==============================] - 1s 246us/step - loss: 0.0812 - acc: 0.9777\n",
      "Epoch 7/100\n",
      "2376/2376 [==============================] - 1s 253us/step - loss: 0.0796 - acc: 0.9777\n",
      "Epoch 8/100\n",
      "2376/2376 [==============================] - 1s 234us/step - loss: 0.0776 - acc: 0.9790\n",
      "Epoch 9/100\n",
      "2376/2376 [==============================] - 0s 205us/step - loss: 0.0747 - acc: 0.9781\n",
      "Epoch 10/100\n",
      "2376/2376 [==============================] - 1s 211us/step - loss: 0.0733 - acc: 0.9790\n",
      "Epoch 11/100\n",
      "2376/2376 [==============================] - 0s 204us/step - loss: 0.0722 - acc: 0.9794\n",
      "Epoch 12/100\n",
      "2376/2376 [==============================] - 1s 211us/step - loss: 0.0711 - acc: 0.9790\n",
      "Epoch 13/100\n",
      "2376/2376 [==============================] - 1s 227us/step - loss: 0.0700 - acc: 0.9781\n",
      "Epoch 14/100\n",
      "2376/2376 [==============================] - 1s 223us/step - loss: 0.0683 - acc: 0.9785\n",
      "Epoch 15/100\n",
      "2376/2376 [==============================] - 0s 210us/step - loss: 0.0673 - acc: 0.9785\n",
      "Epoch 16/100\n",
      "2376/2376 [==============================] - 1s 216us/step - loss: 0.0664 - acc: 0.9790\n",
      "Epoch 17/100\n",
      "2376/2376 [==============================] - 1s 222us/step - loss: 0.0654 - acc: 0.9790\n",
      "Epoch 18/100\n",
      "2376/2376 [==============================] - 1s 225us/step - loss: 0.0644 - acc: 0.9806\n",
      "Epoch 19/100\n",
      "2376/2376 [==============================] - 1s 214us/step - loss: 0.0639 - acc: 0.9806\n",
      "Epoch 20/100\n",
      "2376/2376 [==============================] - 1s 214us/step - loss: 0.0637 - acc: 0.9802\n",
      "Epoch 21/100\n",
      "2376/2376 [==============================] - 1s 228us/step - loss: 0.0625 - acc: 0.9823\n",
      "Epoch 22/100\n",
      "2376/2376 [==============================] - 1s 228us/step - loss: 0.0622 - acc: 0.9798\n",
      "Epoch 23/100\n",
      "2376/2376 [==============================] - 0s 210us/step - loss: 0.0613 - acc: 0.9806\n",
      "Epoch 24/100\n",
      "2376/2376 [==============================] - 0s 207us/step - loss: 0.0609 - acc: 0.9819\n",
      "Epoch 25/100\n",
      "2376/2376 [==============================] - 0s 207us/step - loss: 0.0606 - acc: 0.9815\n",
      "Epoch 26/100\n",
      "2376/2376 [==============================] - 1s 212us/step - loss: 0.0599 - acc: 0.9819\n",
      "Epoch 27/100\n",
      "2376/2376 [==============================] - 1s 214us/step - loss: 0.0598 - acc: 0.9806\n",
      "Epoch 28/100\n",
      "2376/2376 [==============================] - 1s 212us/step - loss: 0.0589 - acc: 0.9823\n",
      "Epoch 29/100\n",
      "2376/2376 [==============================] - 0s 208us/step - loss: 0.0589 - acc: 0.9823\n",
      "Epoch 30/100\n",
      "2376/2376 [==============================] - 0s 210us/step - loss: 0.0587 - acc: 0.9815\n",
      "Epoch 31/100\n",
      "2376/2376 [==============================] - 0s 210us/step - loss: 0.0586 - acc: 0.9819\n",
      "Epoch 32/100\n",
      "2376/2376 [==============================] - 0s 206us/step - loss: 0.0577 - acc: 0.9827\n",
      "Epoch 33/100\n",
      "2376/2376 [==============================] - 0s 208us/step - loss: 0.0580 - acc: 0.9811\n",
      "Epoch 34/100\n",
      "2376/2376 [==============================] - 0s 207us/step - loss: 0.0573 - acc: 0.9823\n",
      "Epoch 35/100\n",
      "2376/2376 [==============================] - 1s 211us/step - loss: 0.0572 - acc: 0.9823\n",
      "Epoch 36/100\n",
      "2376/2376 [==============================] - 1s 246us/step - loss: 0.0571 - acc: 0.9823\n",
      "Epoch 37/100\n",
      "2376/2376 [==============================] - 1s 279us/step - loss: 0.0569 - acc: 0.9823\n",
      "Epoch 38/100\n",
      "2376/2376 [==============================] - 1s 275us/step - loss: 0.0565 - acc: 0.9819 0s - loss: 0.0542 - \n",
      "Epoch 39/100\n",
      "2376/2376 [==============================] - 1s 261us/step - loss: 0.0561 - acc: 0.9823 0s - loss: 0.0403 - \n",
      "Epoch 40/100\n",
      "2376/2376 [==============================] - 1s 220us/step - loss: 0.0557 - acc: 0.9836\n",
      "Epoch 41/100\n",
      "2376/2376 [==============================] - 1s 216us/step - loss: 0.0556 - acc: 0.9827\n",
      "Epoch 42/100\n",
      "2376/2376 [==============================] - 1s 216us/step - loss: 0.0552 - acc: 0.9815\n",
      "Epoch 43/100\n",
      "2376/2376 [==============================] - 1s 216us/step - loss: 0.0548 - acc: 0.9832\n",
      "Epoch 44/100\n",
      "2376/2376 [==============================] - 1s 215us/step - loss: 0.0547 - acc: 0.9836\n",
      "Epoch 45/100\n",
      "2376/2376 [==============================] - 1s 223us/step - loss: 0.0544 - acc: 0.9827\n",
      "Epoch 46/100\n",
      "2376/2376 [==============================] - 1s 216us/step - loss: 0.0540 - acc: 0.9827\n",
      "Epoch 47/100\n",
      "2376/2376 [==============================] - 1s 221us/step - loss: 0.0541 - acc: 0.9819\n",
      "Epoch 48/100\n",
      "2376/2376 [==============================] - 1s 229us/step - loss: 0.0540 - acc: 0.9840\n",
      "Epoch 49/100\n",
      "2376/2376 [==============================] - 1s 227us/step - loss: 0.0538 - acc: 0.9832\n",
      "Epoch 50/100\n",
      "2376/2376 [==============================] - 1s 223us/step - loss: 0.0536 - acc: 0.9840\n",
      "Epoch 51/100\n",
      "2376/2376 [==============================] - 1s 216us/step - loss: 0.0530 - acc: 0.9836\n",
      "Epoch 52/100\n",
      "2376/2376 [==============================] - 1s 214us/step - loss: 0.0531 - acc: 0.9836\n",
      "Epoch 53/100\n",
      "2376/2376 [==============================] - 1s 264us/step - loss: 0.0529 - acc: 0.9836\n",
      "Epoch 54/100\n",
      "2376/2376 [==============================] - 1s 250us/step - loss: 0.0529 - acc: 0.9823\n",
      "Epoch 55/100\n",
      "2376/2376 [==============================] - 1s 352us/step - loss: 0.0523 - acc: 0.9853 1s - loss: 0.0563 - ac\n",
      "Epoch 56/100\n",
      "2376/2376 [==============================] - 1s 233us/step - loss: 0.0524 - acc: 0.9844\n",
      "Epoch 57/100\n",
      "2376/2376 [==============================] - 1s 255us/step - loss: 0.0520 - acc: 0.9840\n",
      "Epoch 58/100\n",
      "2376/2376 [==============================] - 1s 301us/step - loss: 0.0516 - acc: 0.9840\n",
      "Epoch 59/100\n",
      "2376/2376 [==============================] - 1s 274us/step - loss: 0.0514 - acc: 0.9844\n",
      "Epoch 60/100\n",
      "2376/2376 [==============================] - 1s 271us/step - loss: 0.0514 - acc: 0.9844\n",
      "Epoch 61/100\n",
      "2376/2376 [==============================] - 1s 242us/step - loss: 0.0509 - acc: 0.9844\n",
      "Epoch 62/100\n",
      "2376/2376 [==============================] - 1s 233us/step - loss: 0.0504 - acc: 0.9840\n",
      "Epoch 63/100\n",
      "2376/2376 [==============================] - 1s 227us/step - loss: 0.0511 - acc: 0.9844\n",
      "Epoch 64/100\n",
      "2376/2376 [==============================] - 1s 276us/step - loss: 0.0501 - acc: 0.9848\n",
      "Epoch 65/100\n",
      "2376/2376 [==============================] - 1s 284us/step - loss: 0.0503 - acc: 0.9844\n",
      "Epoch 66/100\n",
      "2376/2376 [==============================] - 1s 270us/step - loss: 0.0500 - acc: 0.9853\n",
      "Epoch 67/100\n",
      "2376/2376 [==============================] - 1s 224us/step - loss: 0.0494 - acc: 0.9844\n",
      "Epoch 68/100\n",
      "2376/2376 [==============================] - 1s 211us/step - loss: 0.0494 - acc: 0.9848\n",
      "Epoch 69/100\n",
      "2376/2376 [==============================] - 1s 229us/step - loss: 0.0493 - acc: 0.9853\n",
      "Epoch 70/100\n",
      "2376/2376 [==============================] - 1s 228us/step - loss: 0.0491 - acc: 0.9844\n",
      "Epoch 71/100\n",
      "2376/2376 [==============================] - 1s 213us/step - loss: 0.0486 - acc: 0.9853\n",
      "Epoch 72/100\n",
      "2376/2376 [==============================] - 1s 216us/step - loss: 0.0486 - acc: 0.9840\n",
      "Epoch 73/100\n",
      "2376/2376 [==============================] - 1s 212us/step - loss: 0.0485 - acc: 0.9848\n",
      "Epoch 74/100\n",
      "2376/2376 [==============================] - 1s 212us/step - loss: 0.0480 - acc: 0.9848\n",
      "Epoch 75/100\n",
      "2376/2376 [==============================] - 1s 216us/step - loss: 0.0481 - acc: 0.9848\n",
      "Epoch 76/100\n",
      "2376/2376 [==============================] - 1s 235us/step - loss: 0.0478 - acc: 0.9844\n",
      "Epoch 77/100\n",
      "2376/2376 [==============================] - 1s 216us/step - loss: 0.0475 - acc: 0.9844\n",
      "Epoch 78/100\n",
      "2376/2376 [==============================] - 1s 226us/step - loss: 0.0471 - acc: 0.9857\n",
      "Epoch 79/100\n",
      "2376/2376 [==============================] - 1s 213us/step - loss: 0.0470 - acc: 0.9844\n",
      "Epoch 80/100\n",
      "2376/2376 [==============================] - 1s 212us/step - loss: 0.0471 - acc: 0.9848\n",
      "Epoch 81/100\n"
     ]
    },
    {
     "name": "stdout",
     "output_type": "stream",
     "text": [
      "2376/2376 [==============================] - 0s 209us/step - loss: 0.0467 - acc: 0.9853\n",
      "Epoch 82/100\n",
      "2376/2376 [==============================] - 1s 211us/step - loss: 0.0473 - acc: 0.9844\n",
      "Epoch 83/100\n",
      "2376/2376 [==============================] - 1s 213us/step - loss: 0.0462 - acc: 0.9857\n",
      "Epoch 84/100\n",
      "2376/2376 [==============================] - 1s 213us/step - loss: 0.0462 - acc: 0.9865\n",
      "Epoch 85/100\n",
      "2376/2376 [==============================] - 1s 243us/step - loss: 0.0461 - acc: 0.9853\n",
      "Epoch 86/100\n",
      "2376/2376 [==============================] - 1s 211us/step - loss: 0.0459 - acc: 0.9857\n",
      "Epoch 87/100\n",
      "2376/2376 [==============================] - 1s 220us/step - loss: 0.0457 - acc: 0.9857\n",
      "Epoch 88/100\n",
      "2376/2376 [==============================] - 1s 222us/step - loss: 0.0453 - acc: 0.9857\n",
      "Epoch 89/100\n",
      "2376/2376 [==============================] - 1s 218us/step - loss: 0.0457 - acc: 0.9861\n",
      "Epoch 90/100\n",
      "2376/2376 [==============================] - 1s 234us/step - loss: 0.0451 - acc: 0.9865\n",
      "Epoch 91/100\n",
      "2376/2376 [==============================] - 1s 227us/step - loss: 0.0453 - acc: 0.9865\n",
      "Epoch 92/100\n",
      "2376/2376 [==============================] - 1s 214us/step - loss: 0.0453 - acc: 0.9861\n",
      "Epoch 93/100\n",
      "2376/2376 [==============================] - 1s 225us/step - loss: 0.0446 - acc: 0.9861\n",
      "Epoch 94/100\n",
      "2376/2376 [==============================] - 1s 274us/step - loss: 0.0451 - acc: 0.9857\n",
      "Epoch 95/100\n",
      "2376/2376 [==============================] - 1s 276us/step - loss: 0.0448 - acc: 0.9870\n",
      "Epoch 96/100\n",
      "2376/2376 [==============================] - 1s 267us/step - loss: 0.0450 - acc: 0.9861\n",
      "Epoch 97/100\n",
      "2376/2376 [==============================] - 1s 227us/step - loss: 0.0445 - acc: 0.9861\n",
      "Epoch 98/100\n",
      "2376/2376 [==============================] - 1s 264us/step - loss: 0.0443 - acc: 0.9870\n",
      "Epoch 99/100\n",
      "2376/2376 [==============================] - 1s 253us/step - loss: 0.0443 - acc: 0.9865\n",
      "Epoch 100/100\n",
      "2376/2376 [==============================] - 1s 221us/step - loss: 0.0440 - acc: 0.9870\n",
      "0.9734848484848485\n"
     ]
    },
    {
     "data": {
      "image/png": "[encoded data removed]",
      "text/plain": [
       "<matplotlib.figure.Figure at 0x1a17925f60>"
      ]
     },
     "metadata": {},
     "output_type": "display_data"
    }
   ],
   "source": [
    "# import the keras lib and packages\n",
    "import keras\n",
    "from keras.models import Sequential\n",
    "from keras.layers import Dense\n",
    "import sklearn.metrics as metrics\n",
    "from keras.callbacks import History \n",
    "from keras.utils import plot_model\n",
    "from keras.optimizers import SGD\n",
    "\n",
    "def run_ANN(train_x,test_x,train_y,test_y):\n",
    "    #Initializing ANN\n",
    "    clf = Sequential()\n",
    "    hist = History()\n",
    "    clf.add(Dense(output_dim = 6, init = 'uniform', activation = 'relu', input_dim = len(train_x[1])))\n",
    "    # Adding the second hidden layer\n",
    "    clf.add(Dense(output_dim = 6, init = 'uniform', activation = 'relu'))\n",
    "    # Adding the output layer\n",
    "    clf.add(Dense(output_dim = 1, init = 'uniform', activation = 'sigmoid'))\n",
    "    clf.compile(optimizer = 'adam', loss = 'binary_crossentropy', metrics = ['accuracy'])\n",
    "    clf.fit(train_x, train_y, batch_size = 10, nb_epoch = 100 ,callbacks = [hist])\n",
    "    pred_y = clf.predict(test_x)\n",
    "    pred_y = (pred_y > 0.5)\n",
    "    \n",
    "        \n",
    "    print(metrics.accuracy_score(pred_y,test_y))\n",
    "\n",
    "    plt.plot(hist.history['acc'], color = 'red')\n",
    "    plt.xlabel('Epochs')\n",
    "    plt.ylabel('Accuracy')\n",
    "    plt.show()\n",
    "        \n",
    "run_ANN(train_x,test_x,train_y,test_y)\n",
    "run_ANN(train_x_two_features, test_x_two_features, train_y_two_features, test_y_two_features)\n",
    "run_ANN(pca13_train_x, pca13_test_x, train_y, test_y)"
   ]
  },
  {
   "cell_type": "code",
   "execution_count": 169,
   "metadata": {
    "collapsed": true
   },
   "outputs": [],
   "source": [
    "# # Data preparation\n",
    "# path = '/Users/Kassi/Desktop/Gender_Recognition_by_Voice/voice.csv'\n",
    "# voice_data = pd.read_csv(path)\n",
    "# voice_data = voice_data.values"
   ]
  },
  {
   "cell_type": "code",
   "execution_count": 170,
   "metadata": {
    "collapsed": true
   },
   "outputs": [],
   "source": [
    "# # There are multiple steps we will take in this section to transform the original data into format which we can easily plug inside tensorflow's tensors.\n",
    "# # Creating 1-hot vector from the original labels\n",
    "# # Randomly shuffle data\n",
    "# # Create train/test datasets\n",
    "\n",
    "# voices = voice_data[:, :-1] \n",
    "# labels = voice_data[:, -1:]\n",
    "\n",
    "# # Classification: label(gender) = {male, female} → [1.0, 0.0], [0.0, 1.0]  \n",
    "# labels_tmp = []  \n",
    "# for label in labels:  \n",
    "#     tmp = []  \n",
    "#     if label[0] == 'male':  \n",
    "#         tmp = [1.0, 0.0]  \n",
    "#     else:   \n",
    "#         tmp = [0.0, 1.0]  \n",
    "#     labels_tmp.append(tmp)  \n",
    "# labels = np.array(labels_tmp) "
   ]
  },
  {
   "cell_type": "code",
   "execution_count": 171,
   "metadata": {
    "collapsed": true
   },
   "outputs": [],
   "source": [
    "# # randomly shuffle data\n",
    "# voices_tmp = []  \n",
    "# lables_tmp = []  \n",
    "# index_shuf = range(len(voices)) \n",
    "# random.shuffle(index_shuf) \n",
    "# for i in index_shuf:  \n",
    "#     voices_tmp.append(voices[i])  \n",
    "#     lables_tmp.append(labels[i])  \n",
    "# voices = np.array(voices_tmp)  \n",
    "# labels = np.array(lables_tmp) "
   ]
  },
  {
   "cell_type": "code",
   "execution_count": 172,
   "metadata": {
    "collapsed": true
   },
   "outputs": [],
   "source": [
    "# train_x, test_x, train_y, test_y = train_test_split(voices, labels, test_size=0.2)  "
   ]
  },
  {
   "cell_type": "code",
   "execution_count": 173,
   "metadata": {
    "collapsed": true
   },
   "outputs": [],
   "source": [
    "# Now we are all set to get started with creating the tensorflow graph. \n",
    "# It is important to understand that after this step there is no actual computation being done by tensorflow. \n",
    "# It just creates a lazy graph according to the nodes we create in the neural_network method."
   ]
  },
  {
   "cell_type": "code",
   "execution_count": 174,
   "metadata": {
    "collapsed": true
   },
   "outputs": [],
   "source": [
    "# # Learning Parameters\n",
    "# rate   =   0.0010  # training rate\n",
    "# epochs =  2000     # number of full training cycles (I select this number based on the trend of cost)\n",
    "# banch_size  = 68   # number of data points to train per batch"
   ]
  },
  {
   "cell_type": "code",
   "execution_count": 175,
   "metadata": {
    "collapsed": true
   },
   "outputs": [],
   "source": [
    "# # Network Parameters\n",
    "# n_hidden_1 = 512  # number of nodes in hidden layer 1\n",
    "# n_hidden_2 = 512  # number of nodes in hidden layer 2\n",
    "# n_input    = voices.shape[-1]  # 20\n",
    "# n_classes  = 2\n",
    "# n_samples  = len(voices)  # 460"
   ]
  },
  {
   "cell_type": "code",
   "execution_count": 176,
   "metadata": {
    "collapsed": true
   },
   "outputs": [],
   "source": [
    "# X = tf.placeholder('float', [None,n_input])\n",
    "# Y = tf.placeholder('float', [None,n_classes])"
   ]
  },
  {
   "cell_type": "code",
   "execution_count": 177,
   "metadata": {
    "collapsed": true,
    "scrolled": true
   },
   "outputs": [],
   "source": [
    "# weights = {\n",
    "#     'w1' : tf.Variable(tf.random_normal([n_input,    n_hidden_1])),\n",
    "#     'w2' : tf.Variable(tf.random_normal([n_hidden_1, n_hidden_2])),\n",
    "#     'out': tf.Variable(tf.random_normal([n_hidden_2, n_classes ]))\n",
    "# }\n",
    "\n",
    "# biases = {\n",
    "#     'b1' : tf.Variable(tf.random_normal([n_hidden_1])),\n",
    "#     'b2' : tf.Variable(tf.random_normal([n_hidden_2])),\n",
    "#     'out': tf.Variable(tf.random_normal([n_classes ]))\n",
    "# }"
   ]
  },
  {
   "cell_type": "code",
   "execution_count": 178,
   "metadata": {
    "collapsed": true
   },
   "outputs": [],
   "source": [
    "# def neural_network(X, weights, biases):  \n",
    "#     # Hidden Layer 1\n",
    "#     layer1 = tf.matmul(X, weights['w1'])\n",
    "#     layer1 = tf.add(layer1, biases['b1'])\n",
    "#     layer1 = tf.nn.softmax(layer1)\n",
    "    \n",
    "#     # Hidden Layer 2\n",
    "#     layer2 = tf.matmul(layer1, weights['w2'])\n",
    "#     layer2 = tf.add(layer2, biases['b2'])\n",
    "#     layer2 = tf.nn.softmax(layer2)\n",
    "    \n",
    "#     # Output Layer\n",
    "#     output = tf.matmul(layer2, weights['out'])\n",
    "#     output = tf.add(output, biases['out'])\n",
    "#     output = tf.nn.softmax(output)\n",
    "    \n",
    "#     return output "
   ]
  },
  {
   "cell_type": "code",
   "execution_count": 179,
   "metadata": {
    "collapsed": true
   },
   "outputs": [],
   "source": [
    "# # In this section we define the optimizer and loss functions. \n",
    "# # We also define our notion of correct and incorrect prediction and what we mean by accuracy.\n",
    "\n",
    "# def train_neural_network(train_x,train_y,test_x,test_y):\n",
    "#     model = neural_network(X, weights, biases)\n",
    "#     f_cost = tf.reduce_mean(tf.nn.softmax_cross_entropy_with_logits(logits=model, labels=Y))\n",
    "#     f_optimizer = tf.train.AdamOptimizer(learning_rate=rate).minimize(f_cost)\n",
    "#     with tf.Session() as s:\n",
    "#         s.run(tf.global_variables_initializer())\n",
    "#         for epoch in range(epochs):\n",
    "#             cost_avg = 0.\n",
    "#             batch_total = len(train_x) // banch_size\n",
    "#             for banch in range(batch_total):\n",
    "#                 voice_banch = train_x[banch*banch_size:(banch+1)*(banch_size)]  \n",
    "#                 label_banch = train_y[banch*banch_size:(banch+1)*(banch_size)]        \n",
    "#                 _, cost = s.run([f_optimizer,f_cost], feed_dict={X:voice_banch, Y: label_banch})        \n",
    "#                 cost_avg += cost / batch_total\n",
    "        \n",
    "#             print('Epoch {}: cost={:.4f}'.format(epoch+1, cost_avg))\n",
    "    \n",
    "#         # testing\n",
    "        \n",
    "#         # This gives us a list of booleans\n",
    "#         prediction = tf.equal(tf.argmax(model, 1), tf.argmax(Y, 1))  \n",
    "#         # We cast to floating point numbers and then take the mean\n",
    "#         accuracy = tf.reduce_mean(tf.cast(prediction, dtype=tf.float32))  \n",
    "#         accuracy = s.run(accuracy, feed_dict={X: train_x, Y: train_y})  \n",
    "#         print('In-sample accuracy in Neural Network: %s'  % (accuracy)) \n",
    "        \n",
    "#         accuracy = tf.reduce_mean(tf.cast(prediction, dtype=tf.float32)) \n",
    "#         accuracy = s.run(accuracy, feed_dict={X: test_x, Y: test_y})  \n",
    "#         print('Out-of-sample accuracy in Neural Network: %s'  % (accuracy)) \n",
    "    \n"
   ]
  },
  {
   "cell_type": "code",
   "execution_count": 180,
   "metadata": {
    "collapsed": true
   },
   "outputs": [],
   "source": [
    "# ## Execute tf graph\n",
    "# # Now that the graph is set up, we can run it\n",
    "\n",
    "# print('Accuracy in Neural Network with all features:')\n",
    "# train_neural_network(train_x,train_y,test_x,test_y)"
   ]
  },
  {
   "cell_type": "markdown",
   "metadata": {},
   "source": [
    "We are wondering if there is a big difference in the results when used Keras deep learning library with a TensorFlow backend vs. our own step-by-step algorithm."
   ]
  },
  {
   "cell_type": "code",
   "execution_count": 181,
   "metadata": {
    "collapsed": true
   },
   "outputs": [],
   "source": [
    "# #Importing Libraries for ANN\n",
    "# import keras\n",
    "# from keras.models import Sequential\n",
    "# from keras.layers import Dense\n",
    "\n",
    "# #Initialisng the ANN\n",
    "# classifier = Sequential()\n",
    "\n",
    "# #Input Layer and First Hidden Layer\n",
    "# classifier.add(Dense(units = 512, activation = 'softmax', input_dim = train_x.shape[1]))\n",
    "\n",
    "# #Adding the Second hidden layer\n",
    "# classifier.add(Dense(units = 512, activation = 'softmax'))\n",
    "\n",
    "# # Adding the output layer\n",
    "# classifier.add(Dense(units = 2, activation = 'softmax'))\n",
    "\n",
    "# #Compiling the ANN\n",
    "# classifier.compile(optimizer = 'adam', loss = 'binary_crossentropy', metrics = ['accuracy'])"
   ]
  },
  {
   "cell_type": "code",
   "execution_count": 182,
   "metadata": {
    "collapsed": true
   },
   "outputs": [],
   "source": [
    "# #Fitting ANN to the training set\n",
    "# classifier.fit(train_x, train_y, batch_size = 68, epochs = 2000, verbose = 0)"
   ]
  },
  {
   "cell_type": "code",
   "execution_count": 183,
   "metadata": {
    "collapsed": true
   },
   "outputs": [],
   "source": [
    "# # Predicting the Test set results\n",
    "# pred_train_y = classifier.predict(train_x)\n",
    "# pred_train_y = (pred_train_y > 0.5)\n",
    "# # pred_train_y"
   ]
  },
  {
   "cell_type": "code",
   "execution_count": 184,
   "metadata": {
    "collapsed": true
   },
   "outputs": [],
   "source": [
    "# labels_tmp = []  \n",
    "# for label in pred_train_y:  \n",
    "#     tmp = []  \n",
    "#     if label[0] == True:  \n",
    "#         tmp = [1,0]  \n",
    "#     else:   \n",
    "#         tmp = [0,1]  \n",
    "#     labels_tmp.append(tmp)  \n",
    "# new_result = np.array(labels_tmp) "
   ]
  },
  {
   "cell_type": "code",
   "execution_count": 185,
   "metadata": {
    "collapsed": true
   },
   "outputs": [],
   "source": [
    "# from sklearn.metrics import accuracy_score\n",
    "# print('In-sample accuracy in Neural Network using Keras package (with all features):%s' % (accuracy_score(train_y, new_result)))"
   ]
  },
  {
   "cell_type": "code",
   "execution_count": 186,
   "metadata": {
    "collapsed": true
   },
   "outputs": [],
   "source": [
    "# # Predicting the Test set results\n",
    "# pred_test_y = classifier.predict(test_x)\n",
    "# pred_test_y = (pred_test_y > 0.5)\n",
    "# # pred_test_y"
   ]
  },
  {
   "cell_type": "code",
   "execution_count": 187,
   "metadata": {
    "collapsed": true
   },
   "outputs": [],
   "source": [
    "# labels_tmp = []  \n",
    "# for label in pred_test_y:  \n",
    "#     tmp = []  \n",
    "#     if label[0] == True:  \n",
    "#         tmp = [1,0]  \n",
    "#     else:   \n",
    "#         tmp = [0,1]  \n",
    "#     labels_tmp.append(tmp)  \n",
    "# new_result = np.array(labels_tmp) "
   ]
  },
  {
   "cell_type": "code",
   "execution_count": 188,
   "metadata": {
    "collapsed": true
   },
   "outputs": [],
   "source": [
    "# print('Out-of-sample accuracy in Neural Network using Keras package (with all features):%s' % (accuracy_score(test_y, new_result)))"
   ]
  },
  {
   "cell_type": "code",
   "execution_count": 189,
   "metadata": {
    "collapsed": true
   },
   "outputs": [],
   "source": [
    "# # Is it enough of these two features to make predictions? \n",
    "# ## Neural Network with 2 features ('meanfun', 'IQR')\n",
    "# train_x = train_x[:,[5,12]]\n",
    "# test_x = test_x[:,[5,12]]"
   ]
  },
  {
   "cell_type": "code",
   "execution_count": 190,
   "metadata": {
    "collapsed": true
   },
   "outputs": [],
   "source": [
    "# train_x.shape[1]"
   ]
  },
  {
   "cell_type": "code",
   "execution_count": 191,
   "metadata": {
    "collapsed": true
   },
   "outputs": [],
   "source": [
    "# # It seems we can better result when using Keras deep learning library, \n",
    "# # so we will continue to use this package to do prediction.\n",
    "\n",
    "# #Initialisng the ANN\n",
    "# classifier = Sequential()\n",
    "\n",
    "# #Input Layer and First Hidden Layer\n",
    "# classifier.add(Dense(units = 512, activation = 'softmax', input_dim = train_x.shape[1]))\n",
    "\n",
    "# #Adding the Second hidden layer\n",
    "# classifier.add(Dense(units = 512, activation = 'softmax'))\n",
    "\n",
    "# # Adding the output layer\n",
    "# classifier.add(Dense(units = 2, activation = 'softmax'))\n",
    "\n",
    "# #Compiling the ANN\n",
    "# classifier.compile(optimizer = 'adam', loss = 'binary_crossentropy', metrics = ['accuracy'])\n"
   ]
  },
  {
   "cell_type": "code",
   "execution_count": 192,
   "metadata": {
    "collapsed": true
   },
   "outputs": [],
   "source": [
    "# #Fitting ANN to the training set\n",
    "# classifier.fit(train_x, train_y, batch_size = 68, epochs = 2000, verbose = 0)"
   ]
  },
  {
   "cell_type": "code",
   "execution_count": 193,
   "metadata": {
    "collapsed": true
   },
   "outputs": [],
   "source": [
    "# # Predicting the Train set results\n",
    "# pred_y = classifier.predict(train_x)\n",
    "# pred_y = (pred_y > 0.5)\n",
    "# # pred_y"
   ]
  },
  {
   "cell_type": "code",
   "execution_count": 194,
   "metadata": {
    "collapsed": true
   },
   "outputs": [],
   "source": [
    "# labels_tmp = []  \n",
    "# for label in pred_y:  \n",
    "#     tmp = []  \n",
    "#     if label[0] == True:  \n",
    "#         tmp = [1,0]  \n",
    "#     else:   \n",
    "#         tmp = [0,1]  \n",
    "#     labels_tmp.append(tmp)  \n",
    "# new_result = np.array(labels_tmp) "
   ]
  },
  {
   "cell_type": "code",
   "execution_count": 195,
   "metadata": {
    "collapsed": true
   },
   "outputs": [],
   "source": [
    "# print('In-sample accuracy in Neural Network using Keras package (with 2 features):%s' % (accuracy_score(train_y, new_result)))"
   ]
  },
  {
   "cell_type": "code",
   "execution_count": 196,
   "metadata": {
    "collapsed": true
   },
   "outputs": [],
   "source": [
    "# # Predicting the Test set results\n",
    "# pred_y = classifier.predict(test_x)\n",
    "# pred_y = (pred_y > 0.5)\n",
    "# # pred_y"
   ]
  },
  {
   "cell_type": "code",
   "execution_count": 197,
   "metadata": {
    "collapsed": true
   },
   "outputs": [],
   "source": [
    "# labels_tmp = []  \n",
    "# for label in pred_y:  \n",
    "#     tmp = []  \n",
    "#     if label[0] == True:  \n",
    "#         tmp = [1,0]  \n",
    "#     else:   \n",
    "#         tmp = [0,1]  \n",
    "#     labels_tmp.append(tmp)  \n",
    "# new_result = np.array(labels_tmp) "
   ]
  },
  {
   "cell_type": "code",
   "execution_count": 198,
   "metadata": {
    "collapsed": true
   },
   "outputs": [],
   "source": [
    "# print('Out-of-sample accuracy in Neural Network using Keras package (with 2 features):%s' % (accuracy_score(test_y, new_result)))"
   ]
  },
  {
   "cell_type": "markdown",
   "metadata": {
    "collapsed": true
   },
   "source": [
    "000\n",
    "In case with only 2 features(‘meanfun’, ‘IQR’) without feature scaling results are more precise. \n",
    "\n",
    "Neural Network with only two features gives 87.0% against 83.7% with all features. "
   ]
  }
 ],
 "metadata": {
  "kernelspec": {
   "display_name": "Python 3",
   "language": "python",
   "name": "python3"
  },
  "language_info": {
   "codemirror_mode": {
    "name": "ipython",
    "version": 3
   },
   "file_extension": ".py",
   "mimetype": "text/x-python",
   "name": "python",
   "nbconvert_exporter": "python",
   "pygments_lexer": "ipython3",
   "version": "3.6.3"
  }
 },
 "nbformat": 4,
 "nbformat_minor": 2
}
