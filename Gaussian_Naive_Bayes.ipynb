{
 "cells": [
  {
   "cell_type": "markdown",
   "metadata": {},
   "source": [
    "### Fitting Naive Bayes to the Training set\n",
    "\n",
    "posterior = prior occurrances * liklihood / evidence\n",
    "The \"gaussian\" and \"naive\" come from two assumptions present in this likelihood:\n",
    "1. we assume each feature is uncorrelated from each other. This is obviously not true, and is a \"naive\"                assumption.\n",
    "2. we assume have that the value of the features (e.g. meannfreq of women) are normally          (gaussian) distributed."
   ]
  },
  {
   "cell_type": "code",
   "execution_count": 39,
   "metadata": {
    "collapsed": true
   },
   "outputs": [],
   "source": [
    "from sklearn.naive_bayes import GaussianNB\n",
    "import pandas as pd \n",
    "import numpy as np  \n",
    "import random\n",
    "import math\n",
    "import matplotlib.pyplot as plt\n",
    "\n",
    "from sklearn.model_selection import train_test_split  \n",
    "from collections import defaultdict\n",
    "from sklearn.model_selection import cross_val_score"
   ]
  },
  {
   "cell_type": "code",
   "execution_count": 40,
   "metadata": {
    "collapsed": true
   },
   "outputs": [],
   "source": [
    "%store -r train_x\n",
    "%store -r test_x\n",
    "%store -r train_y\n",
    "%store -r test_y\n",
    "\n",
    "%store -r train_x_two_features\n",
    "%store -r test_x_two_features\n",
    "%store -r train_y_two_features\n",
    "%store -r test_y_two_features\n",
    "\n",
    "%store -r pca_train_x\n",
    "%store -r pca_test_x"
   ]
  },
  {
   "cell_type": "code",
   "execution_count": 41,
   "metadata": {
    "collapsed": true
   },
   "outputs": [],
   "source": [
    "def run_naive_bayes(train_x, test_x, train_y, test_y):\n",
    "    clf = GaussianNB()\n",
    "    clf.fit(train_x, train_y)\n",
    "    scores = cross_val_score(clf, train_x, train_y, cv=5)\n",
    "    print(\"In-sample accuracy for svm with Linear kernel: %.10f\" % scores.mean())\n",
    "    scores = cross_val_score(clf, test_x, test_y, cv=5)\n",
    "    print(\"Out-of-sample accuracy for svm with Linear kernel: %.10f\" % scores.mean())"
   ]
  },
  {
   "cell_type": "code",
   "execution_count": 49,
   "metadata": {
    "collapsed": true
   },
   "outputs": [],
   "source": [
    "# # For both the classes 0 and 1, and for each of the 20 features, we have thus saved the mean and the standard in summary. \n",
    "# # For example, for the class 0 (female), and feature 1 (ie, sd), mean and the standard for this attribute are 0.060910268026077803 and 0.00034668419803097784\n",
    "\n",
    "# def getSummary(data,n_cls):\n",
    "#     data_means = data.groupby('label').mean()\n",
    "#     data_variance = data.groupby('label').var()\n",
    "    \n",
    "#     cnames = np.array(data.columns.tolist())[:-1] \n",
    "#     classes = np.unique(labels)\n",
    "#     classnames = np.array(['female','male'])\n",
    "#     summary = {}\n",
    "\n",
    "#     for cls in classes:\n",
    "#         #initializing the dictionary\n",
    "#         summary[cls] = defaultdict(list)\n",
    "#     for cls in classes:\n",
    "#         for j in range(0, n_cls):\n",
    "#             print(classnames[cls])\n",
    "#             summary[cls][j] += list(np.array([data_means[cnames[j]][data_means.index == classnames[cls]].values[0],\n",
    "#                                           data_variance[cnames[j]][data_variance.index == classnames[cls]].values[0]]))\n",
    "            \n",
    "#     print summary   \n",
    "#     return summary"
   ]
  },
  {
   "cell_type": "code",
   "execution_count": 50,
   "metadata": {
    "collapsed": true
   },
   "outputs": [],
   "source": [
    "# summary = getSummary(train_df,train_x.shape[1])"
   ]
  },
  {
   "cell_type": "code",
   "execution_count": 51,
   "metadata": {
    "collapsed": true
   },
   "outputs": [],
   "source": [
    "# # Group the data by gender and calculate the means of each feature\n",
    "# data_means = train_x_df.groupby('label').mean()\n",
    "# # View the values\n",
    "# data_means"
   ]
  },
  {
   "cell_type": "code",
   "execution_count": 52,
   "metadata": {
    "collapsed": true
   },
   "outputs": [],
   "source": [
    "# # Group the data by gender and calculate the variance of each feature\n",
    "# data_variance = train_x_df.groupby('label').var()\n",
    "# # View the values\n",
    "# data_variance"
   ]
  },
  {
   "cell_type": "code",
   "execution_count": 53,
   "metadata": {
    "collapsed": true
   },
   "outputs": [],
   "source": [
    "# # Create a function to calculate the probability density of each of the terms of the likelihood \n",
    "# # We use mean and standard deviation of input values (x) for each class to summarize the distribution\n",
    "# # Probabilities of new x values are calculated using the Gaussian Probability Density Function (PDF).\n",
    "\n",
    "# def p_x_given_y(x, mean_y, variance_y):\n",
    "#     # Input the arguments into a probability density function\n",
    "#     p = 1/(np.sqrt(2*np.pi*variance_y)) * np.exp((-(x-mean_y)**2)/(2*variance_y))\n",
    "#     return p\n",
    "\n",
    "# # We calculate the probability that the value of the random variable will be between x - 0.01 and x + 0.01\n"
   ]
  },
  {
   "cell_type": "code",
   "execution_count": 54,
   "metadata": {
    "collapsed": true
   },
   "outputs": [],
   "source": [
    "# # Test\n",
    "# p_x_given_y(2, 2, 4)"
   ]
  },
  {
   "cell_type": "code",
   "execution_count": 55,
   "metadata": {
    "collapsed": true
   },
   "outputs": [],
   "source": [
    "# def calculateClassProbabilities(summaries, inputVector):\n",
    "#     # p(x|y) (e.g. p(meannfreq∣female))\n",
    "#     probabilities = {}\n",
    "#     for classValue, classSummaries in summaries.iteritems():\n",
    "#         if (classValue == 0):\n",
    "#             probabilities[classValue] = P_female\n",
    "        \n",
    "#         else:\n",
    "#             probabilities[classValue] = P_male\n",
    "#         for i in range(len(classSummaries)):\n",
    "#             mean, var = classSummaries[i]\n",
    "#             x = inputVector[i]\n",
    "#             probabilities[classValue] *= p_x_given_y(x, mean, var)\n",
    "#     return probabilities"
   ]
  },
  {
   "cell_type": "code",
   "execution_count": 56,
   "metadata": {
    "collapsed": true
   },
   "outputs": [],
   "source": [
    "# calculateClassProbabilities(summary, test_x[10])\n",
    "# # PDF can be greater than 1, but it can't be greater than 1 for a large interval\n",
    "# # because of the non-negativity and integral constraints."
   ]
  },
  {
   "cell_type": "code",
   "execution_count": 57,
   "metadata": {
    "collapsed": true
   },
   "outputs": [],
   "source": [
    "# # Make a Prediction\n",
    "# import operator\n",
    "# def predict(summaries, inputVector):\n",
    "#     probabilities = calculateClassProbabilities(summaries, inputVector)\n",
    "#     #print probabilities\n",
    "#     probabilities = sorted(probabilities.iteritems(), key=operator.itemgetter(1), reverse=True)\n",
    "#     return probabilities[0][0]"
   ]
  }
 ],
 "metadata": {
  "kernelspec": {
   "display_name": "Python 2",
   "language": "python",
   "name": "python2"
  },
  "language_info": {
   "codemirror_mode": {
    "name": "ipython",
    "version": 2
   },
   "file_extension": ".py",
   "mimetype": "text/x-python",
   "name": "python",
   "nbconvert_exporter": "python",
   "pygments_lexer": "ipython2",
   "version": "2.7.13"
  }
 },
 "nbformat": 4,
 "nbformat_minor": 2
}
