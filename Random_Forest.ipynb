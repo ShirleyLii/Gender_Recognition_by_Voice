{
 "cells": [
  {
   "cell_type": "code",
   "execution_count": 1,
   "metadata": {
    "collapsed": true
   },
   "outputs": [],
   "source": [
    "import pandas as pd \n",
    "import numpy as np  \n",
    "import random\n",
    "from sklearn.model_selection import train_test_split  \n",
    "from sklearn.ensemble import RandomForestClassifier\n",
    "import matplotlib.pyplot as plt\n",
    "from sklearn.metrics import accuracy_score\n",
    "from sklearn.model_selection import cross_val_score"
   ]
  },
  {
   "cell_type": "code",
   "execution_count": 2,
   "metadata": {
    "collapsed": true
   },
   "outputs": [],
   "source": [
    "from sklearn.metrics import classification_report, confusion_matrix\n",
    "def run_random_forest_classifier(train_x, test_x, train_y, test_y):\n",
    "    error_rate = []\n",
    "    nvals = range(1,301,30)\n",
    "    for i in nvals:\n",
    "        rfc = RandomForestClassifier(n_estimators=i)\n",
    "        rfc.fit(train_x,train_y)\n",
    "        pred_y_i = rfc.predict(test_x)\n",
    "        error_rate.append(np.mean(pred_y_i != test_y))\n",
    "    plt.plot(nvals, error_rate, color='blue', linestyle='dashed', marker='o',\n",
    "    markerfacecolor='red', markersize=10)\n",
    "    plt.title('Error Rate vs. N Estimators')\n",
    "    plt.xlabel('N Estimators')\n",
    "    plt.ylabel('Error Rate')\n",
    "    plt.show()\n",
    "    nloc = error_rate.index(min(error_rate))\n",
    "    print('Lowest error of %s occurs at n=%s.' % (error_rate[nloc], nvals[nloc]))\n",
    "    print('The highest in-sample accuracy in Random Forest is %s when n=%s.' % (1-error_rate[nloc], nvals[nloc]))\n",
    "    # Using our optimal k value, we will run the analysis again and proceed to quantify our classification accuracy\n",
    "    rfc = RandomForestClassifier(n_estimators= nvals[nloc])\n",
    "    rfc.fit(train_x,train_y)\n",
    "    scores = cross_val_score(rfc, test_x, test_y, cv=5)\n",
    "    print('Out-of-sample accuracy in Random Forest:%.10f' % scores.mean())"
   ]
  },
  {
   "cell_type": "code",
   "execution_count": 3,
   "metadata": {},
   "outputs": [
    {
     "name": "stdout",
     "output_type": "stream",
     "text": [
      "Run random forest with all features(Built-in Algorithm):\n"
     ]
    },
    {
     "ename": "NameError",
     "evalue": "name 'train_x' is not defined",
     "output_type": "error",
     "traceback": [
      "\u001b[0;31m---------------------------------------------------------------------------\u001b[0m",
      "\u001b[0;31mNameError\u001b[0m                                 Traceback (most recent call last)",
      "\u001b[0;32m<ipython-input-3-727f41bd2b50>\u001b[0m in \u001b[0;36m<module>\u001b[0;34m()\u001b[0m\n\u001b[1;32m      1\u001b[0m \u001b[0mprint\u001b[0m\u001b[0;34m(\u001b[0m\u001b[0;34m\"Run random forest with all features(Built-in Algorithm):\"\u001b[0m\u001b[0;34m)\u001b[0m\u001b[0;34m\u001b[0m\u001b[0m\n\u001b[0;32m----> 2\u001b[0;31m \u001b[0mrun_random_forest_classifier\u001b[0m\u001b[0;34m(\u001b[0m\u001b[0mtrain_x\u001b[0m\u001b[0;34m,\u001b[0m \u001b[0mtest_x\u001b[0m\u001b[0;34m,\u001b[0m \u001b[0mtrain_y\u001b[0m\u001b[0;34m,\u001b[0m \u001b[0mtest_y\u001b[0m\u001b[0;34m)\u001b[0m\u001b[0;34m\u001b[0m\u001b[0m\n\u001b[0m\u001b[1;32m      3\u001b[0m \u001b[0mprint\u001b[0m\u001b[0;34m(\u001b[0m\u001b[0;34m\"===============================================================================\\n\"\u001b[0m\u001b[0;34m)\u001b[0m\u001b[0;34m\u001b[0m\u001b[0m\n\u001b[1;32m      4\u001b[0m \u001b[0mprint\u001b[0m\u001b[0;34m(\u001b[0m\u001b[0;34m\"Run random forest with top 2 features(Built-in Algorithm):\"\u001b[0m\u001b[0;34m)\u001b[0m\u001b[0;34m\u001b[0m\u001b[0m\n\u001b[1;32m      5\u001b[0m \u001b[0mrun_random_forest_classifier\u001b[0m\u001b[0;34m(\u001b[0m\u001b[0mtrain_x_two_features\u001b[0m\u001b[0;34m,\u001b[0m \u001b[0mtest_x_two_features\u001b[0m\u001b[0;34m,\u001b[0m \u001b[0mtrain_y_two_features\u001b[0m\u001b[0;34m,\u001b[0m \u001b[0mtest_y_two_features\u001b[0m\u001b[0;34m)\u001b[0m\u001b[0;34m\u001b[0m\u001b[0m\n",
      "\u001b[0;31mNameError\u001b[0m: name 'train_x' is not defined"
     ]
    }
   ],
   "source": [
    "print(\"Run random forest with all features(Built-in Algorithm):\")\n",
    "run_random_forest_classifier(train_x, test_x, train_y, test_y)\n",
    "print(\"===============================================================================\\n\")\n",
    "print(\"Run random forest with top 2 features(Built-in Algorithm):\")\n",
    "run_random_forest_classifier(train_x_two_features, test_x_two_features, train_y_two_features, test_y_two_features)\n",
    "print(\"===============================================================================\\n\")\n",
    "print(\"Run random forest with dimensionality reduction using PCA(Built-in Algorithm)\")\n",
    "run_random_forest_classifier(pca_train_x, pca_test_x, train_y, test_y)\n",
    "print(\"===============================================================================\\n\")\n",
    "print(\"Run random forest with dimensionality reduction using LDA(Built-in Algorithm)\")\n",
    "run_random_forest_classifier(lda_train_x, lda_test_x, train_y, test_y)"
   ]
  },
  {
   "cell_type": "code",
   "execution_count": null,
   "metadata": {
    "collapsed": true
   },
   "outputs": [],
   "source": []
  }
 ],
 "metadata": {
  "kernelspec": {
   "display_name": "Python 3",
   "language": "python",
   "name": "python3"
  },
  "language_info": {
   "codemirror_mode": {
    "name": "ipython",
    "version": 3
   },
   "file_extension": ".py",
   "mimetype": "text/x-python",
   "name": "python",
   "nbconvert_exporter": "python",
   "pygments_lexer": "ipython3",
   "version": "3.6.3"
  }
 },
 "nbformat": 4,
 "nbformat_minor": 2
}
