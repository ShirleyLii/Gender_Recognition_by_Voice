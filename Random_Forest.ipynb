{
 "cells": [
  {
   "cell_type": "code",
   "execution_count": 1,
   "metadata": {
    "collapsed": true
   },
   "outputs": [],
   "source": [
    "import pandas as pd \n",
    "import numpy as np  \n",
    "import random\n",
    "from sklearn.model_selection import train_test_split  \n",
    "from sklearn.ensemble import RandomForestClassifier\n",
    "import matplotlib.pyplot as plt\n",
    "from sklearn.metrics import accuracy_score\n",
    "from sklearn.model_selection import cross_val_score"
   ]
  },
  {
   "cell_type": "code",
   "execution_count": 2,
   "metadata": {
    "collapsed": true
   },
   "outputs": [],
   "source": [
    "from sklearn.metrics import classification_report, confusion_matrix\n",
    "def run_random_forest_classifier(train_x, test_x, train_y, test_y):\n",
    "    error_rate = []\n",
    "    nvals = range(1,301,30)\n",
    "    for i in nvals:\n",
    "        rfc = RandomForestClassifier(n_estimators=i)\n",
    "        rfc.fit(train_x,train_y)\n",
    "        pred_y_i = rfc.predict(test_x)\n",
    "        error_rate.append(np.mean(pred_y_i != test_y))\n",
    "    plt.plot(nvals, error_rate, color='blue', linestyle='dashed', marker='o',\n",
    "    markerfacecolor='red', markersize=10)\n",
    "    plt.title('Error Rate vs. N Estimators')\n",
    "    plt.xlabel('N Estimators')\n",
    "    plt.ylabel('Error Rate')\n",
    "    plt.show()\n",
    "    nloc = error_rate.index(min(error_rate))\n",
    "    print('Lowest error of %s occurs at n=%s.' % (error_rate[nloc], nvals[nloc]))\n",
    "    print('The highest in-sample accuracy in Random Forest is %s when n=%s.' % (1-error_rate[nloc], nvals[nloc]))\n",
    "    # Using our optimal k value, we will run the analysis again and proceed to quantify our classification accuracy\n",
    "    rfc = RandomForestClassifier(n_estimators= nvals[nloc])\n",
    "    rfc.fit(train_x,train_y)\n",
    "    scores = cross_val_score(rfc, test_x, test_y, cv=5)\n",
    "    print('Out-of-sample accuracy in Random Forest:%.10f' % scores.mean())"
   ]
  }
 ],
 "metadata": {
  "kernelspec": {
   "display_name": "Python 2",
   "language": "python",
   "name": "python2"
  },
  "language_info": {
   "codemirror_mode": {
    "name": "ipython",
    "version": 2
   },
   "file_extension": ".py",
   "mimetype": "text/x-python",
   "name": "python",
   "nbconvert_exporter": "python",
   "pygments_lexer": "ipython2",
   "version": "2.7.13"
  }
 },
 "nbformat": 4,
 "nbformat_minor": 2
}
