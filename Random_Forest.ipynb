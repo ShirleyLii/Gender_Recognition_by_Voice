{
 "cells": [
  {
   "cell_type": "code",
   "execution_count": 1,
   "metadata": {
    "collapsed": true
   },
   "outputs": [],
   "source": [
    "import pandas as pd \n",
    "import numpy as np  \n",
    "import random\n",
    "from sklearn.model_selection import train_test_split  \n",
    "from sklearn.ensemble import RandomForestClassifier\n",
    "import matplotlib.pyplot as plt\n",
    "from sklearn.metrics import accuracy_score"
   ]
  },
  {
   "cell_type": "code",
   "execution_count": 2,
   "metadata": {
    "collapsed": true
   },
   "outputs": [],
   "source": [
    "# Data preparation\n",
    "path = '/Users/Kassi/Desktop/voice-gender/voice.csv'\n",
    "voice_data = pd.read_csv(path)\n",
    "voice_data = voice_data.values"
   ]
  },
  {
   "cell_type": "code",
   "execution_count": 3,
   "metadata": {
    "collapsed": true
   },
   "outputs": [],
   "source": [
    "voices = voice_data[:, :-1] \n",
    "labels = voice_data[:, -1:]"
   ]
  },
  {
   "cell_type": "code",
   "execution_count": 4,
   "metadata": {},
   "outputs": [
    {
     "name": "stderr",
     "output_type": "stream",
     "text": [
      "/anaconda2/lib/python2.7/site-packages/sklearn/preprocessing/label.py:111: DataConversionWarning: A column-vector y was passed when a 1d array was expected. Please change the shape of y to (n_samples, ), for example using ravel().\n",
      "  y = column_or_1d(y, warn=True)\n"
     ]
    }
   ],
   "source": [
    "from sklearn.preprocessing import LabelEncoder\n",
    "gender_encoder = LabelEncoder()\n",
    "labels = gender_encoder.fit_transform(labels)"
   ]
  },
  {
   "cell_type": "code",
   "execution_count": 5,
   "metadata": {
    "collapsed": true
   },
   "outputs": [],
   "source": [
    "# randomly shuffle data\n",
    "voices_tmp = []  \n",
    "lables_tmp = []  \n",
    "index_shuf = range(len(voices)) \n",
    "random.shuffle(index_shuf) \n",
    "for i in index_shuf:  \n",
    "    voices_tmp.append(voices[i])  \n",
    "    lables_tmp.append(labels[i])  \n",
    "voices = np.array(voices_tmp)  \n",
    "labels = np.array(lables_tmp) "
   ]
  },
  {
   "cell_type": "code",
   "execution_count": 6,
   "metadata": {
    "collapsed": true
   },
   "outputs": [],
   "source": [
    "train_x, test_x, train_y, test_y = train_test_split(voices, labels, test_size=0.2) "
   ]
  },
  {
   "cell_type": "code",
   "execution_count": 7,
   "metadata": {
    "collapsed": true
   },
   "outputs": [],
   "source": [
    "from sklearn.metrics import classification_report, confusion_matrix\n",
    "def Random_Forest_Classifier():\n",
    "    error_rate = []\n",
    "    nvals = range(1,301,30)\n",
    "    for i in nvals:\n",
    "        rfc = RandomForestClassifier(n_estimators=i)\n",
    "        rfc.fit(train_x,train_y)\n",
    "        pred_y_i = rfc.predict(test_x)\n",
    "        error_rate.append(np.mean(pred_y_i != test_y))\n",
    "    plt.plot(nvals, error_rate, color='blue', linestyle='dashed', marker='o',\n",
    "    markerfacecolor='red', markersize=10)\n",
    "    plt.title('Error Rate vs. N Estimators')\n",
    "    plt.xlabel('N Estimators')\n",
    "    plt.ylabel('Error Rate')\n",
    "    plt.show()\n",
    "    nloc = error_rate.index(min(error_rate))\n",
    "    print('Lowest error of %s occurs at n=%s.' % (error_rate[nloc], nvals[nloc]))\n",
    "    print('The highest in-sample accuracy in Random Forest is %s when n=%s.' % (1-error_rate[nloc], nvals[nloc]))\n",
    "    # Using our optimal k value, we will run the analysis again and proceed to quantify our classification accuracy.\n",
    "    rfc = RandomForestClassifier(n_estimators= nvals[nloc])\n",
    "    rfc.fit(train_x,train_y)\n",
    "    pred_y = rfc.predict(test_x)\n",
    "    print('\\n')\n",
    "    print('Out-of-sample accuracy in Random Forest:%s' % (accuracy_score(test_y, pred_y)) )\n",
    "    print('\\n')\n",
    "    print('Confusion Matrix:')\n",
    "    print(confusion_matrix(test_y, pred_y))\n",
    "    print('\\n')\n",
    "    print('Classification Report:')\n",
    "    print(classification_report(test_y, pred_y))"
   ]
  },
  {
   "cell_type": "code",
   "execution_count": 8,
   "metadata": {},
   "outputs": [
    {
     "data": {
      "image/png": "[encoded data removed]",
      "text/plain": [
       "<matplotlib.figure.Figure at 0x1a0d08d0d0>"
      ]
     },
     "metadata": {},
     "output_type": "display_data"
    },
    {
     "name": "stdout",
     "output_type": "stream",
     "text": [
      "Lowest error of 0.108695652174 occurs at n=31.\n",
      "The highest in-sample accuracy in Random Forest is 0.891304347826 when n=31.\n",
      "\n",
      "\n",
      "Out-of-sample accuracy in Random Forest:0.869565217391\n",
      "\n",
      "\n",
      "Confusion Matrix:\n",
      "[[48  5]\n",
      " [ 7 32]]\n",
      "\n",
      "\n",
      "Classification Report:\n",
      "             precision    recall  f1-score   support\n",
      "\n",
      "          0       0.87      0.91      0.89        53\n",
      "          1       0.86      0.82      0.84        39\n",
      "\n",
      "avg / total       0.87      0.87      0.87        92\n",
      "\n"
     ]
    }
   ],
   "source": [
    "Random_Forest_Classifier()"
   ]
  },
  {
   "cell_type": "code",
   "execution_count": 9,
   "metadata": {
    "collapsed": true
   },
   "outputs": [],
   "source": [
    "# Is it enough of these two features to make predictions? \n",
    "## Random Forest with 2 features ('meanfun', 'IQR')\n",
    "\n",
    "train_x = train_x[:,[5,12]]\n",
    "test_x = test_x[:,[5,12]]"
   ]
  },
  {
   "cell_type": "code",
   "execution_count": 10,
   "metadata": {},
   "outputs": [
    {
     "data": {
      "image/png": "[encoded data removed]",
      "text/plain": [
       "<matplotlib.figure.Figure at 0x1a0d08d650>"
      ]
     },
     "metadata": {},
     "output_type": "display_data"
    },
    {
     "name": "stdout",
     "output_type": "stream",
     "text": [
      "Lowest error of 0.108695652174 occurs at n=121.\n",
      "The highest in-sample accuracy in Random Forest is 0.891304347826 when n=121.\n",
      "\n",
      "\n",
      "Out-of-sample accuracy in Random Forest:0.891304347826\n",
      "\n",
      "\n",
      "Confusion Matrix:\n",
      "[[48  5]\n",
      " [ 5 34]]\n",
      "\n",
      "\n",
      "Classification Report:\n",
      "             precision    recall  f1-score   support\n",
      "\n",
      "          0       0.91      0.91      0.91        53\n",
      "          1       0.87      0.87      0.87        39\n",
      "\n",
      "avg / total       0.89      0.89      0.89        92\n",
      "\n"
     ]
    }
   ],
   "source": [
    "Random_Forest_Classifier()"
   ]
  },
  {
   "cell_type": "code",
   "execution_count": 11,
   "metadata": {
    "collapsed": true
   },
   "outputs": [],
   "source": [
    "# We did not observe much improvement in performance when we implement Random Forest with 2 features."
   ]
  }
 ],
 "metadata": {
  "kernelspec": {
   "display_name": "Python 2",
   "language": "python",
   "name": "python2"
  },
  "language_info": {
   "codemirror_mode": {
    "name": "ipython",
    "version": 2
   },
   "file_extension": ".py",
   "mimetype": "text/x-python",
   "name": "python",
   "nbconvert_exporter": "python",
   "pygments_lexer": "ipython2",
   "version": "2.7.13"
  }
 },
 "nbformat": 4,
 "nbformat_minor": 2
}
