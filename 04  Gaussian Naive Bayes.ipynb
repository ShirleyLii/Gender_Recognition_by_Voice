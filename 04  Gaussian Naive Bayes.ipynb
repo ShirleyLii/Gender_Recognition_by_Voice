{
 "cells": [
  {
   "cell_type": "markdown",
   "metadata": {},
   "source": [
    "### Fitting Naive Bayes to the Training set\n",
    "\n",
    "posterior = prior occurrances * liklihood / evidence\n",
    "The \"gaussian\" and \"naive\" come from two assumptions present in this likelihood:\n",
    "1. we assume each feature is uncorrelated from each other. That is, meannfreq is                  independent of sd or median etc.. This is obviously not true, and is a \"naive\"                assumption.\n",
    "2. we assume have that the value of the features (e.g. meannfreq of women) are normally          (gaussian) distributed. This means that p(meannfreq∣female) is calculated by inputing          the required parameters into the probability density function of the normal                    distribution.\n"
   ]
  },
  {
   "cell_type": "code",
   "execution_count": 38,
   "metadata": {},
   "outputs": [],
   "source": [
    "from sklearn.naive_bayes import GaussianNB\n",
    "import pandas as pd \n",
    "import numpy as np  \n",
    "import random\n",
    "from sklearn.model_selection import train_test_split  \n",
    "from collections import defaultdict"
   ]
  },
  {
   "cell_type": "code",
   "execution_count": 39,
   "metadata": {},
   "outputs": [],
   "source": [
    "# Data preparation\n",
    "path = '/Users/Kassi/Desktop/Gender_Recognition_by_Voice/voice.csv'\n",
    "voice_data = pd.read_csv(path)"
   ]
  },
  {
   "cell_type": "code",
   "execution_count": 40,
   "metadata": {},
   "outputs": [],
   "source": [
    "voice_data = pd.read_csv(path)"
   ]
  },
  {
   "cell_type": "code",
   "execution_count": 41,
   "metadata": {},
   "outputs": [],
   "source": [
    "## Calculate Priors\n",
    "\n",
    "# Number of males\n",
    "n_male = voice_data['label'][voice_data['label'] == 'male'].count()\n",
    "\n",
    "# Number of males\n",
    "n_female = voice_data['label'][voice_data['label'] == 'female'].count()\n",
    "\n",
    "# Total rows\n",
    "total_ppl = voice_data['label'].count()\n",
    "\n",
    "# Number of males divided by the total rows\n",
    "P_male = n_male/float(total_ppl)\n",
    "\n",
    "# Number of females divided by the total rows\n",
    "P_female = n_female/float(total_ppl)"
   ]
  },
  {
   "cell_type": "code",
   "execution_count": 42,
   "metadata": {},
   "outputs": [
    {
     "data": {
      "text/plain": [
       "0.5"
      ]
     },
     "execution_count": 42,
     "metadata": {},
     "output_type": "execute_result"
    }
   ],
   "source": [
    "P_female"
   ]
  },
  {
   "cell_type": "code",
   "execution_count": 46,
   "metadata": {},
   "outputs": [
    {
     "data": {
      "text/html": [
       "<div>\n",
       "<style>\n",
       "    .dataframe thead tr:only-child th {\n",
       "        text-align: right;\n",
       "    }\n",
       "\n",
       "    .dataframe thead th {\n",
       "        text-align: left;\n",
       "    }\n",
       "\n",
       "    .dataframe tbody tr th {\n",
       "        vertical-align: top;\n",
       "    }\n",
       "</style>\n",
       "<table border=\"1\" class=\"dataframe\">\n",
       "  <thead>\n",
       "    <tr style=\"text-align: right;\">\n",
       "      <th></th>\n",
       "      <th>meanfreq</th>\n",
       "      <th>sd</th>\n",
       "      <th>median</th>\n",
       "      <th>Q25</th>\n",
       "      <th>Q75</th>\n",
       "      <th>IQR</th>\n",
       "      <th>skew</th>\n",
       "      <th>kurt</th>\n",
       "      <th>sp.ent</th>\n",
       "      <th>sfm</th>\n",
       "      <th>mode</th>\n",
       "      <th>centroid</th>\n",
       "      <th>meanfun</th>\n",
       "      <th>minfun</th>\n",
       "      <th>maxfun</th>\n",
       "      <th>meandom</th>\n",
       "      <th>mindom</th>\n",
       "      <th>maxdom</th>\n",
       "      <th>dfrange</th>\n",
       "      <th>modindx</th>\n",
       "    </tr>\n",
       "    <tr>\n",
       "      <th>label</th>\n",
       "      <th></th>\n",
       "      <th></th>\n",
       "      <th></th>\n",
       "      <th></th>\n",
       "      <th></th>\n",
       "      <th></th>\n",
       "      <th></th>\n",
       "      <th></th>\n",
       "      <th></th>\n",
       "      <th></th>\n",
       "      <th></th>\n",
       "      <th></th>\n",
       "      <th></th>\n",
       "      <th></th>\n",
       "      <th></th>\n",
       "      <th></th>\n",
       "      <th></th>\n",
       "      <th></th>\n",
       "      <th></th>\n",
       "      <th></th>\n",
       "    </tr>\n",
       "  </thead>\n",
       "  <tbody>\n",
       "    <tr>\n",
       "      <th>female</th>\n",
       "      <td>0.191000</td>\n",
       "      <td>0.049142</td>\n",
       "      <td>0.195942</td>\n",
       "      <td>0.165349</td>\n",
       "      <td>0.223184</td>\n",
       "      <td>0.057834</td>\n",
       "      <td>2.984875</td>\n",
       "      <td>24.805224</td>\n",
       "      <td>0.873066</td>\n",
       "      <td>0.344763</td>\n",
       "      <td>0.178541</td>\n",
       "      <td>0.191000</td>\n",
       "      <td>0.169742</td>\n",
       "      <td>0.039429</td>\n",
       "      <td>0.263848</td>\n",
       "      <td>0.929544</td>\n",
       "      <td>0.064987</td>\n",
       "      <td>5.736107</td>\n",
       "      <td>5.671120</td>\n",
       "      <td>0.170073</td>\n",
       "    </tr>\n",
       "    <tr>\n",
       "      <th>male</th>\n",
       "      <td>0.170813</td>\n",
       "      <td>0.065110</td>\n",
       "      <td>0.175299</td>\n",
       "      <td>0.115562</td>\n",
       "      <td>0.226346</td>\n",
       "      <td>0.110784</td>\n",
       "      <td>3.295460</td>\n",
       "      <td>48.331698</td>\n",
       "      <td>0.917188</td>\n",
       "      <td>0.471670</td>\n",
       "      <td>0.152022</td>\n",
       "      <td>0.170813</td>\n",
       "      <td>0.115872</td>\n",
       "      <td>0.034175</td>\n",
       "      <td>0.253836</td>\n",
       "      <td>0.728877</td>\n",
       "      <td>0.040307</td>\n",
       "      <td>4.358447</td>\n",
       "      <td>4.318139</td>\n",
       "      <td>0.177430</td>\n",
       "    </tr>\n",
       "  </tbody>\n",
       "</table>\n",
       "</div>"
      ],
      "text/plain": [
       "        meanfreq        sd    median       Q25       Q75       IQR      skew  \\\n",
       "label                                                                          \n",
       "female  0.191000  0.049142  0.195942  0.165349  0.223184  0.057834  2.984875   \n",
       "male    0.170813  0.065110  0.175299  0.115562  0.226346  0.110784  3.295460   \n",
       "\n",
       "             kurt    sp.ent       sfm      mode  centroid   meanfun    minfun  \\\n",
       "label                                                                           \n",
       "female  24.805224  0.873066  0.344763  0.178541  0.191000  0.169742  0.039429   \n",
       "male    48.331698  0.917188  0.471670  0.152022  0.170813  0.115872  0.034175   \n",
       "\n",
       "          maxfun   meandom    mindom    maxdom   dfrange   modindx  \n",
       "label                                                               \n",
       "female  0.263848  0.929544  0.064987  5.736107  5.671120  0.170073  \n",
       "male    0.253836  0.728877  0.040307  4.358447  4.318139  0.177430  "
      ]
     },
     "execution_count": 46,
     "metadata": {},
     "output_type": "execute_result"
    }
   ],
   "source": [
    "# Group the data by gender and calculate the means of each feature\n",
    "data_means = voice_data.groupby('label').mean()\n",
    "# View the values\n",
    "data_means"
   ]
  },
  {
   "cell_type": "code",
   "execution_count": 47,
   "metadata": {},
   "outputs": [
    {
     "data": {
      "text/html": [
       "<div>\n",
       "<style>\n",
       "    .dataframe thead tr:only-child th {\n",
       "        text-align: right;\n",
       "    }\n",
       "\n",
       "    .dataframe thead th {\n",
       "        text-align: left;\n",
       "    }\n",
       "\n",
       "    .dataframe tbody tr th {\n",
       "        vertical-align: top;\n",
       "    }\n",
       "</style>\n",
       "<table border=\"1\" class=\"dataframe\">\n",
       "  <thead>\n",
       "    <tr style=\"text-align: right;\">\n",
       "      <th></th>\n",
       "      <th>meanfreq</th>\n",
       "      <th>sd</th>\n",
       "      <th>median</th>\n",
       "      <th>Q25</th>\n",
       "      <th>Q75</th>\n",
       "      <th>IQR</th>\n",
       "      <th>skew</th>\n",
       "      <th>kurt</th>\n",
       "      <th>sp.ent</th>\n",
       "      <th>sfm</th>\n",
       "      <th>mode</th>\n",
       "      <th>centroid</th>\n",
       "      <th>meanfun</th>\n",
       "      <th>minfun</th>\n",
       "      <th>maxfun</th>\n",
       "      <th>meandom</th>\n",
       "      <th>mindom</th>\n",
       "      <th>maxdom</th>\n",
       "      <th>dfrange</th>\n",
       "      <th>modindx</th>\n",
       "    </tr>\n",
       "    <tr>\n",
       "      <th>label</th>\n",
       "      <th></th>\n",
       "      <th></th>\n",
       "      <th></th>\n",
       "      <th></th>\n",
       "      <th></th>\n",
       "      <th></th>\n",
       "      <th></th>\n",
       "      <th></th>\n",
       "      <th></th>\n",
       "      <th></th>\n",
       "      <th></th>\n",
       "      <th></th>\n",
       "      <th></th>\n",
       "      <th></th>\n",
       "      <th></th>\n",
       "      <th></th>\n",
       "      <th></th>\n",
       "      <th></th>\n",
       "      <th></th>\n",
       "      <th></th>\n",
       "    </tr>\n",
       "  </thead>\n",
       "  <tbody>\n",
       "    <tr>\n",
       "      <th>female</th>\n",
       "      <td>0.000898</td>\n",
       "      <td>0.000338</td>\n",
       "      <td>0.001034</td>\n",
       "      <td>0.002477</td>\n",
       "      <td>0.000535</td>\n",
       "      <td>0.001842</td>\n",
       "      <td>9.557091</td>\n",
       "      <td>9539.255910</td>\n",
       "      <td>0.002236</td>\n",
       "      <td>0.032348</td>\n",
       "      <td>0.004512</td>\n",
       "      <td>0.000898</td>\n",
       "      <td>0.000341</td>\n",
       "      <td>0.000477</td>\n",
       "      <td>0.000463</td>\n",
       "      <td>0.332795</td>\n",
       "      <td>0.005291</td>\n",
       "      <td>14.853636</td>\n",
       "      <td>14.869694</td>\n",
       "      <td>0.011586</td>\n",
       "    </tr>\n",
       "    <tr>\n",
       "      <th>male</th>\n",
       "      <td>0.000689</td>\n",
       "      <td>0.000089</td>\n",
       "      <td>0.001398</td>\n",
       "      <td>0.001024</td>\n",
       "      <td>0.000578</td>\n",
       "      <td>0.000417</td>\n",
       "      <td>26.370174</td>\n",
       "      <td>26606.809819</td>\n",
       "      <td>0.000837</td>\n",
       "      <td>0.022642</td>\n",
       "      <td>0.007060</td>\n",
       "      <td>0.000689</td>\n",
       "      <td>0.000295</td>\n",
       "      <td>0.000248</td>\n",
       "      <td>0.001296</td>\n",
       "      <td>0.198914</td>\n",
       "      <td>0.002421</td>\n",
       "      <td>9.001710</td>\n",
       "      <td>9.003627</td>\n",
       "      <td>0.016934</td>\n",
       "    </tr>\n",
       "  </tbody>\n",
       "</table>\n",
       "</div>"
      ],
      "text/plain": [
       "        meanfreq        sd    median       Q25       Q75       IQR       skew  \\\n",
       "label                                                                           \n",
       "female  0.000898  0.000338  0.001034  0.002477  0.000535  0.001842   9.557091   \n",
       "male    0.000689  0.000089  0.001398  0.001024  0.000578  0.000417  26.370174   \n",
       "\n",
       "                kurt    sp.ent       sfm      mode  centroid   meanfun  \\\n",
       "label                                                                    \n",
       "female   9539.255910  0.002236  0.032348  0.004512  0.000898  0.000341   \n",
       "male    26606.809819  0.000837  0.022642  0.007060  0.000689  0.000295   \n",
       "\n",
       "          minfun    maxfun   meandom    mindom     maxdom    dfrange   modindx  \n",
       "label                                                                           \n",
       "female  0.000477  0.000463  0.332795  0.005291  14.853636  14.869694  0.011586  \n",
       "male    0.000248  0.001296  0.198914  0.002421   9.001710   9.003627  0.016934  "
      ]
     },
     "execution_count": 47,
     "metadata": {},
     "output_type": "execute_result"
    }
   ],
   "source": [
    "# Group the data by gender and calculate the variance of each feature\n",
    "data_variance = voice_data.groupby('label').var()\n",
    "# View the values\n",
    "data_variance"
   ]
  },
  {
   "cell_type": "code",
   "execution_count": 48,
   "metadata": {},
   "outputs": [
    {
     "data": {
      "text/plain": [
       "'female'"
      ]
     },
     "execution_count": 48,
     "metadata": {},
     "output_type": "execute_result"
    }
   ],
   "source": [
    "classnames = np.array(['female','male'])\n",
    "classnames[0]"
   ]
  },
  {
   "cell_type": "code",
   "execution_count": 49,
   "metadata": {},
   "outputs": [],
   "source": [
    "voices = voice_data.values[:, :-1] \n",
    "labels = voice_data.values[:, -1:]\n",
    "# male -> 1\n",
    "# female -> 0\n",
    "from sklearn.preprocessing import LabelEncoder\n",
    "gender_encoder = LabelEncoder()\n",
    "labels = gender_encoder.fit_transform(labels)\n",
    "\n",
    "# randomly shuffle data\n",
    "voices_tmp = []  \n",
    "lables_tmp = []  \n",
    "index_shuf = range(len(voices)) \n",
    "random.shuffle(index_shuf) \n",
    "for i in index_shuf:  \n",
    "    voices_tmp.append(voices[i])  \n",
    "    lables_tmp.append(labels[i])  \n",
    "voices = np.array(voices_tmp)  \n",
    "labels = np.array(lables_tmp) \n",
    "train_x, test_x, train_y, test_y = train_test_split(voices, labels, test_size=0.2) "
   ]
  },
  {
   "cell_type": "code",
   "execution_count": 50,
   "metadata": {},
   "outputs": [
    {
     "data": {
      "text/plain": [
       "array([0, 1])"
      ]
     },
     "execution_count": 50,
     "metadata": {},
     "output_type": "execute_result"
    }
   ],
   "source": [
    "labels\n",
    "classes"
   ]
  },
  {
   "cell_type": "code",
   "execution_count": 51,
   "metadata": {},
   "outputs": [],
   "source": [
    "classes = np.unique(labels)\n"
   ]
  },
  {
   "cell_type": "code",
   "execution_count": 52,
   "metadata": {},
   "outputs": [],
   "source": [
    "# For both the classes 0 and 1, and for each of the 20 features, we have thus saved the mean and the standard in summary. \n",
    "# For example, for the class 0 (female), and feature 1 (ie, sd), mean and the standard for this attribute are 0.060910268026077803 and 0.00034668419803097784\n",
    "\n",
    "def getSummary(data,n_cls):\n",
    "    data_means = data.groupby('label').mean()\n",
    "    data_variance = data.groupby('label').var()\n",
    "    \n",
    "    cnames = np.array(data.columns.tolist())[:-1] \n",
    "    classes = np.unique(labels)\n",
    "    classnames = np.array(['female','male'])\n",
    "    summary = {}\n",
    "\n",
    "    for cls in classes:\n",
    "        #initializing the dictionary\n",
    "        summary[cls] = defaultdict(list)\n",
    "    for cls in classes:\n",
    "        for j in range(0, n_cls):\n",
    "            summary[cls][j] += list(np.array([data_means[cnames[j]][data_means.index == classnames[cls]].values[0],\n",
    "                                          data_variance[cnames[j]][data_variance.index == classnames[cls]].values[0]]))\n",
    "    print summary  \n",
    "    print classes\n",
    "    return summary"
   ]
  },
  {
   "cell_type": "code",
   "execution_count": 53,
   "metadata": {},
   "outputs": [
    {
     "name": "stdout",
     "output_type": "stream",
     "text": [
      "{0: defaultdict(<type 'list'>, {0: [0.19099973070217632, 0.00089758079929079396], 1: [0.049141826078528024, 0.00033780862697837036], 2: [0.19594239311047099, 0.0010335560438297876], 3: [0.16534914705534454, 0.0024767989702860001], 4: [0.22318359968875567, 0.00053457098398006458], 5: [0.05783445263341138, 0.0018424489803619841], 6: [2.9848747790826993, 9.5570905745333068], 7: [24.805224039775759, 9539.2559103765834], 8: [0.87306574341157717, 0.0022361566064679544], 9: [0.34476288506667707, 0.032347516924330133], 10: [0.1785412240405656, 0.0045124519060728572], 11: [0.19099973070217632, 0.00089758079929079396], 12: [0.16974182917136693, 0.00034078273831658883], 13: [0.039428607658650125, 0.00047719224527028827], 14: [0.26384816427816848, 0.00046347866560820036], 15: [0.92954443622617933, 0.33279503875146149], 16: [0.06498684353298613, 0.0052908937498219143], 17: [5.7361069496231849, 14.853636373742516], 18: [5.6711201060901981, 14.869693912877652], 19: [0.17007277031045853, 0.011586253916388083]}), 1: defaultdict(<type 'list'>, {0: [0.17081349003950747, 0.00068926781817501084], 1: [0.065110103735320488, 8.938772630909539e-05], 2: [0.17529895983666735, 0.001398189326382152], 3: [0.11556203391529257, 0.001023966231510751], 4: [0.22634632314118769, 0.00057840841258020891], 5: [0.11078428922589478, 0.00041675862497546877], 6: [3.2954602611469426, 26.370174320375387], 7: [48.331697542833425, 26606.80981868627], 8: [0.91718838525332869, 0.00083741692391784274], 9: [0.47166993782336197, 0.022642089128984695], 10: [0.1520223694632036, 0.0070600770369285016], 11: [0.17081349003950747, 0.00068926781817501084], 12: [0.11587163938708586, 0.00029511394260779895], 13: [0.034175009015664899, 0.00024804536729203231], 14: [0.25383632726095184, 0.0012962317928117536], 15: [0.72887748318476675, 0.19891353524728114], 16: [0.04030724727746212, 0.0024205516517412217], 17: [4.3584465258049239, 9.0017101002035247], 18: [4.3181392785274619, 9.0036274846353237], 19: [0.17743024198767646, 0.016934379209580876]})}\n",
      "[0 1]\n"
     ]
    },
    {
     "data": {
      "text/plain": [
       "{0: defaultdict(list,\n",
       "             {0: [0.19099973070217632, 0.00089758079929079396],\n",
       "              1: [0.049141826078528024, 0.00033780862697837036],\n",
       "              2: [0.19594239311047099, 0.0010335560438297876],\n",
       "              3: [0.16534914705534454, 0.0024767989702860001],\n",
       "              4: [0.22318359968875567, 0.00053457098398006458],\n",
       "              5: [0.05783445263341138, 0.0018424489803619841],\n",
       "              6: [2.9848747790826993, 9.5570905745333068],\n",
       "              7: [24.805224039775759, 9539.2559103765834],\n",
       "              8: [0.87306574341157717, 0.0022361566064679544],\n",
       "              9: [0.34476288506667707, 0.032347516924330133],\n",
       "              10: [0.1785412240405656, 0.0045124519060728572],\n",
       "              11: [0.19099973070217632, 0.00089758079929079396],\n",
       "              12: [0.16974182917136693, 0.00034078273831658883],\n",
       "              13: [0.039428607658650125, 0.00047719224527028827],\n",
       "              14: [0.26384816427816848, 0.00046347866560820036],\n",
       "              15: [0.92954443622617933, 0.33279503875146149],\n",
       "              16: [0.06498684353298613, 0.0052908937498219143],\n",
       "              17: [5.7361069496231849, 14.853636373742516],\n",
       "              18: [5.6711201060901981, 14.869693912877652],\n",
       "              19: [0.17007277031045853, 0.011586253916388083]}),\n",
       " 1: defaultdict(list,\n",
       "             {0: [0.17081349003950747, 0.00068926781817501084],\n",
       "              1: [0.065110103735320488, 8.938772630909539e-05],\n",
       "              2: [0.17529895983666735, 0.001398189326382152],\n",
       "              3: [0.11556203391529257, 0.001023966231510751],\n",
       "              4: [0.22634632314118769, 0.00057840841258020891],\n",
       "              5: [0.11078428922589478, 0.00041675862497546877],\n",
       "              6: [3.2954602611469426, 26.370174320375387],\n",
       "              7: [48.331697542833425, 26606.80981868627],\n",
       "              8: [0.91718838525332869, 0.00083741692391784274],\n",
       "              9: [0.47166993782336197, 0.022642089128984695],\n",
       "              10: [0.1520223694632036, 0.0070600770369285016],\n",
       "              11: [0.17081349003950747, 0.00068926781817501084],\n",
       "              12: [0.11587163938708586, 0.00029511394260779895],\n",
       "              13: [0.034175009015664899, 0.00024804536729203231],\n",
       "              14: [0.25383632726095184, 0.0012962317928117536],\n",
       "              15: [0.72887748318476675, 0.19891353524728114],\n",
       "              16: [0.04030724727746212, 0.0024205516517412217],\n",
       "              17: [4.3584465258049239, 9.0017101002035247],\n",
       "              18: [4.3181392785274619, 9.0036274846353237],\n",
       "              19: [0.17743024198767646, 0.016934379209580876]})}"
      ]
     },
     "execution_count": 53,
     "metadata": {},
     "output_type": "execute_result"
    }
   ],
   "source": [
    "getSummary(voice_data,train_x.shape[1])"
   ]
  },
  {
   "cell_type": "code",
   "execution_count": 54,
   "metadata": {},
   "outputs": [],
   "source": [
    "# Create a function to calculate the probability density of each of the terms of the likelihood \n",
    "# We use mean and standard deviation of input values (x) for each class to summarize the distribution\n",
    "# Probabilities of new x values are calculated using the Gaussian Probability Density Function (PDF).\n",
    "\n",
    "def p_x_given_y(x, mean_y, variance_y):\n",
    "    # Input the arguments into a probability density function\n",
    "    p = 1/(np.sqrt(2*np.pi*variance_y)) * np.exp((-(x-mean_y)**2)/(2*variance_y))\n",
    "    return p\n",
    "\n",
    "# We calculate the probability that the value of the random variable will be between x - 0.01 and x + 0.01\n"
   ]
  },
  {
   "cell_type": "code",
   "execution_count": 55,
   "metadata": {},
   "outputs": [
    {
     "data": {
      "text/plain": [
       "0.19947114020071635"
      ]
     },
     "execution_count": 55,
     "metadata": {},
     "output_type": "execute_result"
    }
   ],
   "source": [
    "p_x_given_y(2, 2, 4)"
   ]
  },
  {
   "cell_type": "code",
   "execution_count": 56,
   "metadata": {},
   "outputs": [],
   "source": [
    "def calculateClassProbabilities(summaries, inputVector):\n",
    "    # p(x|y) (e.g. p(meannfreq∣female))\n",
    "    probabilities = {}\n",
    "    for classValue, classSummaries in summaries.iteritems():\n",
    "        if (classValue == 0):\n",
    "            probabilities[classValue] = P_female\n",
    "        \n",
    "        else:\n",
    "            probabilities[classValue] = P_male\n",
    "        for i in range(len(classSummaries)):\n",
    "            mean, var = classSummaries[i]\n",
    "            x = inputVector[i]\n",
    "            probabilities[classValue] *= p_x_given_y(x, mean, var)\n",
    "    return probabilities"
   ]
  },
  {
   "cell_type": "code",
   "execution_count": 61,
   "metadata": {},
   "outputs": [
    {
     "data": {
      "text/plain": [
       "{0: 6.547904295252147e-14, 1: 4.5580160160962091e-11}"
      ]
     },
     "execution_count": 61,
     "metadata": {},
     "output_type": "execute_result"
    }
   ],
   "source": [
    "calculateClassProbabilities(summary, test_x[10])\n",
    "# PDF can be greater than 1, but it can't be greater than 1 for a large interval\n",
    "# because of the non-negativity and integral constraints."
   ]
  },
  {
   "cell_type": "code",
   "execution_count": 58,
   "metadata": {},
   "outputs": [],
   "source": [
    "# Make a Prediction\n",
    "import operator\n",
    "def predict(summaries, inputVector):\n",
    "    probabilities = calculateClassProbabilities(summaries, inputVector)\n",
    "    #print probabilities\n",
    "    probabilities = sorted(probabilities.iteritems(), key=operator.itemgetter(1), reverse=True)\n",
    "    return probabilities[0][0]"
   ]
  },
  {
   "cell_type": "code",
   "execution_count": 36,
   "metadata": {},
   "outputs": [
    {
     "ename": "NameError",
     "evalue": "name 'summaries' is not defined",
     "output_type": "error",
     "traceback": [
      "\u001b[0;31m---------------------------------------------------------------------------\u001b[0m",
      "\u001b[0;31mNameError\u001b[0m                                 Traceback (most recent call last)",
      "\u001b[0;32m<ipython-input-36-1de4586895f3>\u001b[0m in \u001b[0;36m<module>\u001b[0;34m()\u001b[0m\n\u001b[0;32m----> 1\u001b[0;31m \u001b[0mprobabilities\u001b[0m \u001b[0;34m=\u001b[0m \u001b[0mcalculateClassProbabilities\u001b[0m\u001b[0;34m(\u001b[0m\u001b[0msummaries\u001b[0m\u001b[0;34m,\u001b[0m \u001b[0minputVector\u001b[0m\u001b[0;34m)\u001b[0m\u001b[0;34m\u001b[0m\u001b[0m\n\u001b[0m\u001b[1;32m      2\u001b[0m \u001b[0;31m#print probabilities\u001b[0m\u001b[0;34m\u001b[0m\u001b[0;34m\u001b[0m\u001b[0m\n\u001b[1;32m      3\u001b[0m \u001b[0mprobabilities\u001b[0m \u001b[0;34m=\u001b[0m \u001b[0msorted\u001b[0m\u001b[0;34m(\u001b[0m\u001b[0mprobabilities\u001b[0m\u001b[0;34m.\u001b[0m\u001b[0miteritems\u001b[0m\u001b[0;34m(\u001b[0m\u001b[0;34m)\u001b[0m\u001b[0;34m,\u001b[0m \u001b[0mkey\u001b[0m\u001b[0;34m=\u001b[0m\u001b[0moperator\u001b[0m\u001b[0;34m.\u001b[0m\u001b[0mitemgetter\u001b[0m\u001b[0;34m(\u001b[0m\u001b[0;36m1\u001b[0m\u001b[0;34m)\u001b[0m\u001b[0;34m,\u001b[0m \u001b[0mreverse\u001b[0m\u001b[0;34m=\u001b[0m\u001b[0mTrue\u001b[0m\u001b[0;34m)\u001b[0m\u001b[0;34m\u001b[0m\u001b[0m\n\u001b[1;32m      4\u001b[0m \u001b[0;32mreturn\u001b[0m \u001b[0mprobabilities\u001b[0m\u001b[0;34m[\u001b[0m\u001b[0;36m0\u001b[0m\u001b[0;34m]\u001b[0m\u001b[0;34m[\u001b[0m\u001b[0;36m0\u001b[0m\u001b[0;34m]\u001b[0m\u001b[0;34m\u001b[0m\u001b[0m\n",
      "\u001b[0;31mNameError\u001b[0m: name 'summaries' is not defined"
     ]
    }
   ],
   "source": [
    "probabilities = calculateClassProbabilities(summaries, inputVector)\n",
    "#print probabilities\n",
    "probabilities = sorted(probabilities.iteritems(), key=operator.itemgetter(1), reverse=True)\n",
    "return probabilities[0][0]"
   ]
  },
  {
   "cell_type": "code",
   "execution_count": 16,
   "metadata": {},
   "outputs": [
    {
     "name": "stdout",
     "output_type": "stream",
     "text": [
      "[0.182440531475707 0.0826908723499453 0.21594095940959399 0.144132841328413\n",
      " 0.23686346863468602 0.092730627306273 2.50602933066259 10.818060222584501\n",
      " 0.9211971774786719 0.531724451397257 0.22859778597785999 0.182440531475707\n",
      " 0.205320023468065 0.0869565217391304 0.25 0.262152777777778 0.0234375\n",
      " 0.45703125 0.43359375 0.29214929214929203]\n",
      "Our prediction for test_x[10] is 0\n"
     ]
    }
   ],
   "source": [
    "print(test_x[10])\n",
    "print('Our prediction for test_x[10] is %s'  % (predict(summary, test_x[10])))"
   ]
  },
  {
   "cell_type": "code",
   "execution_count": 17,
   "metadata": {
    "collapsed": true
   },
   "outputs": [],
   "source": [
    "from sklearn.metrics import classification_report\n",
    "\n",
    "def GaussianNB_Classifier(test_x,test_y):\n",
    "    results = []\n",
    "    for i in range(len(test_x)):\n",
    "        test_single = test_x[i]\n",
    "        res = predict(summary, test_single)\n",
    "        results.append(res)\n",
    "    # We evaluate the accuracy of the model by calculating a ratio of the total correct predictions out of all predictions made (the classification accuracy)\n",
    "    correct = 0\n",
    "    wrong = 0\n",
    "    for j in range(len(test_y)):\n",
    "        if(results[j] == test_y[j]):\n",
    "            correct += 1\n",
    "        else:\n",
    "            wrong += 1\n",
    " \n",
    "    print('Correct rate is %s'  % (float(correct)/(correct+wrong)))\n",
    "    print(classification_report(test_y,results))\n",
    "\n"
   ]
  },
  {
   "cell_type": "code",
   "execution_count": 18,
   "metadata": {},
   "outputs": [
    {
     "name": "stdout",
     "output_type": "stream",
     "text": [
      "Use classification reports to evaluate how well Gaussian Naive Bayes performed with all features \n",
      "\n",
      "in-sample accuracy in Gaussian Naive Bayes:\n",
      "Correct rate is 0.807065217391\n",
      "             precision    recall  f1-score   support\n",
      "\n",
      "          0       0.84      0.76      0.80       184\n",
      "          1       0.78      0.85      0.82       184\n",
      "\n",
      "avg / total       0.81      0.81      0.81       368\n",
      "\n"
     ]
    }
   ],
   "source": [
    "print(\"Use classification reports to evaluate how well Gaussian Naive Bayes performed with all features \\n\")\n",
    "print(\"in-sample accuracy in Gaussian Naive Bayes:\")\n",
    "GaussianNB_Classifier(train_x,train_y)"
   ]
  },
  {
   "cell_type": "code",
   "execution_count": 19,
   "metadata": {},
   "outputs": [
    {
     "name": "stdout",
     "output_type": "stream",
     "text": [
      "out-of-sample accuracy in Gaussian Naive Bayes:\n",
      "Correct rate is 0.782608695652\n",
      "             precision    recall  f1-score   support\n",
      "\n",
      "          0       0.80      0.76      0.78        46\n",
      "          1       0.77      0.80      0.79        46\n",
      "\n",
      "avg / total       0.78      0.78      0.78        92\n",
      "\n"
     ]
    }
   ],
   "source": [
    "print(\"out-of-sample accuracy in Gaussian Naive Bayes:\")\n",
    "GaussianNB_Classifier(test_x,test_y)"
   ]
  },
  {
   "cell_type": "code",
   "execution_count": 20,
   "metadata": {},
   "outputs": [
    {
     "name": "stdout",
     "output_type": "stream",
     "text": [
      "('NB result: ', 0.78260869565217395)\n"
     ]
    }
   ],
   "source": [
    "# We are wondering if there is a big difference in the results \n",
    "# when used Sklearn package vs. our own algorithm\n",
    "from sklearn.naive_bayes import GaussianNB\n",
    "from sklearn.metrics import accuracy_score\n",
    "\n",
    "nb = GaussianNB()\n",
    "nb.fit(train_x, train_y)\n",
    "prediction = nb.predict(test_x)\n",
    "\n",
    "print('NB result: ', accuracy_score(test_y, prediction))"
   ]
  },
  {
   "cell_type": "code",
   "execution_count": 59,
   "metadata": {},
   "outputs": [
    {
     "name": "stdout",
     "output_type": "stream",
     "text": [
      "{0: defaultdict(<type 'list'>, {0: [0.05783445263341138, 0.0018424489803619841], 1: [0.16974182917136693, 0.00034078273831658883]}), 1: defaultdict(<type 'list'>, {0: [0.11078428922589478, 0.00041675862497546877], 1: [0.11587163938708586, 0.00029511394260779895]})}\n",
      "[0 1]\n"
     ]
    }
   ],
   "source": [
    "# Is it enough of these two features to make predictions? \n",
    "## Random Forest with 2 features ('meanfun', 'IQR')\n",
    "\n",
    "voice_new_data = voice_data[['IQR','meanfun','label']]\n",
    "train_new_x = train_x[:,[5,12]]\n",
    "test_new_x = test_x[:,[5,12]]\n",
    "summary = getSummary(voice_new_data, train_new_x.shape[1])"
   ]
  },
  {
   "cell_type": "code",
   "execution_count": 60,
   "metadata": {},
   "outputs": [
    {
     "name": "stdout",
     "output_type": "stream",
     "text": [
      "Use classification reports to evaluate how well Gaussian Naive Bayes performed with only 2 features \n",
      "\n",
      "In-sample accuracy in Gaussian Naive Bayes:\n"
     ]
    },
    {
     "ename": "NameError",
     "evalue": "name 'GaussianNB_Classifier' is not defined",
     "output_type": "error",
     "traceback": [
      "\u001b[0;31m---------------------------------------------------------------------------\u001b[0m",
      "\u001b[0;31mNameError\u001b[0m                                 Traceback (most recent call last)",
      "\u001b[0;32m<ipython-input-60-86003ae23501>\u001b[0m in \u001b[0;36m<module>\u001b[0;34m()\u001b[0m\n\u001b[1;32m      1\u001b[0m \u001b[0;32mprint\u001b[0m\u001b[0;34m(\u001b[0m\u001b[0;34m\"Use classification reports to evaluate how well Gaussian Naive Bayes performed with only 2 features \\n\"\u001b[0m\u001b[0;34m)\u001b[0m\u001b[0;34m\u001b[0m\u001b[0m\n\u001b[1;32m      2\u001b[0m \u001b[0;32mprint\u001b[0m\u001b[0;34m(\u001b[0m\u001b[0;34m\"In-sample accuracy in Gaussian Naive Bayes:\"\u001b[0m\u001b[0;34m)\u001b[0m\u001b[0;34m\u001b[0m\u001b[0m\n\u001b[0;32m----> 3\u001b[0;31m \u001b[0mGaussianNB_Classifier\u001b[0m\u001b[0;34m(\u001b[0m\u001b[0mtrain_new_x\u001b[0m\u001b[0;34m,\u001b[0m\u001b[0mtrain_y\u001b[0m\u001b[0;34m)\u001b[0m\u001b[0;34m\u001b[0m\u001b[0m\n\u001b[0m",
      "\u001b[0;31mNameError\u001b[0m: name 'GaussianNB_Classifier' is not defined"
     ]
    }
   ],
   "source": [
    "print(\"Use classification reports to evaluate how well Gaussian Naive Bayes performed with only 2 features \\n\")\n",
    "print(\"In-sample accuracy in Gaussian Naive Bayes:\")\n",
    "GaussianNB_Classifier(train_new_x,train_y)"
   ]
  },
  {
   "cell_type": "code",
   "execution_count": 23,
   "metadata": {},
   "outputs": [
    {
     "name": "stdout",
     "output_type": "stream",
     "text": [
      "Out-of-sample accuracy in Gaussian Naive Bayes:\n",
      "Correct rate is 0.869565217391\n",
      "             precision    recall  f1-score   support\n",
      "\n",
      "          0       0.90      0.83      0.86        46\n",
      "          1       0.84      0.91      0.87        46\n",
      "\n",
      "avg / total       0.87      0.87      0.87        92\n",
      "\n"
     ]
    }
   ],
   "source": [
    "print(\"Out-of-sample accuracy in Gaussian Naive Bayes:\")\n",
    "GaussianNB_Classifier(test_new_x,test_y)"
   ]
  },
  {
   "cell_type": "markdown",
   "metadata": {
    "collapsed": true
   },
   "source": [
    "We did observe some improvement in performance when we implement Gaussian Naive Bayes with 2 features."
   ]
  }
 ],
 "metadata": {
  "kernelspec": {
   "display_name": "Python 2",
   "language": "python",
   "name": "python2"
  },
  "language_info": {
   "codemirror_mode": {
    "name": "ipython",
    "version": 2
   },
   "file_extension": ".py",
   "mimetype": "text/x-python",
   "name": "python",
   "nbconvert_exporter": "python",
   "pygments_lexer": "ipython2",
   "version": "2.7.13"
  }
 },
 "nbformat": 4,
 "nbformat_minor": 2
}
