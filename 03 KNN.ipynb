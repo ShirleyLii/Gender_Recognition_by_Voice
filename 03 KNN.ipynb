{
 "cells": [
  {
   "cell_type": "markdown",
   "metadata": {
    "collapsed": true
   },
   "source": [
    "The k parameter is extremely important in the KNN classifier model. \n",
    "\n",
    "To find the optimal value of k, we will use a simple brute-force strategy. Namely, we will try many values of k and evaluate each, settling for the one with the best prediction results."
   ]
  },
  {
   "cell_type": "code",
   "execution_count": 1,
   "metadata": {
    "collapsed": true
   },
   "outputs": [],
   "source": [
    "import pandas as pd \n",
    "import numpy as np  \n",
    "import random\n",
    "from sklearn.model_selection import train_test_split  \n",
    "from sklearn.neighbors import KNeighborsClassifier\n",
    "import matplotlib.pyplot as plt\n",
    "from sklearn.metrics import accuracy_score"
   ]
  },
  {
   "cell_type": "code",
   "execution_count": 1,
   "metadata": {},
   "outputs": [
    {
     "ename": "NameError",
     "evalue": "name 'pd' is not defined",
     "output_type": "error",
     "traceback": [
      "\u001b[0;31m---------------------------------------------------------------------------\u001b[0m",
      "\u001b[0;31mNameError\u001b[0m                                 Traceback (most recent call last)",
      "\u001b[0;32m<ipython-input-1-0d7bd8912cb0>\u001b[0m in \u001b[0;36m<module>\u001b[0;34m()\u001b[0m\n\u001b[1;32m      1\u001b[0m \u001b[0;31m# Data preparation\u001b[0m\u001b[0;34m\u001b[0m\u001b[0;34m\u001b[0m\u001b[0m\n\u001b[1;32m      2\u001b[0m \u001b[0mpath\u001b[0m \u001b[0;34m=\u001b[0m \u001b[0;34m'/Users/Kassi/Desktop/Stevens/2017\\ Fall/cpe695/voice-gender/voice.csv'\u001b[0m\u001b[0;34m\u001b[0m\u001b[0m\n\u001b[0;32m----> 3\u001b[0;31m \u001b[0mvoice_data\u001b[0m \u001b[0;34m=\u001b[0m \u001b[0mpd\u001b[0m\u001b[0;34m.\u001b[0m\u001b[0mread_csv\u001b[0m\u001b[0;34m(\u001b[0m\u001b[0mpath\u001b[0m\u001b[0;34m)\u001b[0m\u001b[0;34m\u001b[0m\u001b[0m\n\u001b[0m\u001b[1;32m      4\u001b[0m \u001b[0mvoice_data\u001b[0m \u001b[0;34m=\u001b[0m \u001b[0mvoice_data\u001b[0m\u001b[0;34m.\u001b[0m\u001b[0mvalues\u001b[0m\u001b[0;34m\u001b[0m\u001b[0m\n",
      "\u001b[0;31mNameError\u001b[0m: name 'pd' is not defined"
     ]
    }
   ],
   "source": [
    "# Data preparation\n",
    "path = '/Users/Kassi/Desktop/voice-gender/voice.csv'\n",
    "voice_data = pd.read_csv(path)\n",
    "voice_data = voice_data.values"
   ]
  },
  {
   "cell_type": "code",
   "execution_count": 3,
   "metadata": {
    "collapsed": true
   },
   "outputs": [],
   "source": [
    "voices = voice_data[:, :-1] \n",
    "labels = voice_data[:, -1:]"
   ]
  },
  {
   "cell_type": "code",
   "execution_count": 4,
   "metadata": {},
   "outputs": [
    {
     "name": "stderr",
     "output_type": "stream",
     "text": [
      "/anaconda2/lib/python2.7/site-packages/sklearn/preprocessing/label.py:111: DataConversionWarning: A column-vector y was passed when a 1d array was expected. Please change the shape of y to (n_samples, ), for example using ravel().\n",
      "  y = column_or_1d(y, warn=True)\n"
     ]
    }
   ],
   "source": [
    "from sklearn.preprocessing import LabelEncoder\n",
    "gender_encoder = LabelEncoder()\n",
    "labels = gender_encoder.fit_transform(labels)"
   ]
  },
  {
   "cell_type": "code",
   "execution_count": 5,
   "metadata": {
    "collapsed": true
   },
   "outputs": [],
   "source": [
    "# randomly shuffle data\n",
    "voices_tmp = []  \n",
    "lables_tmp = []  \n",
    "index_shuf = range(len(voices)) \n",
    "random.shuffle(index_shuf) \n",
    "for i in index_shuf:  \n",
    "    voices_tmp.append(voices[i])  \n",
    "    lables_tmp.append(labels[i])  \n",
    "voices = np.array(voices_tmp)  \n",
    "labels = np.array(lables_tmp) "
   ]
  },
  {
   "cell_type": "code",
   "execution_count": 6,
   "metadata": {
    "collapsed": true
   },
   "outputs": [],
   "source": [
    "train_x, test_x, train_y, test_y = train_test_split(voices, labels, test_size=0.2)  "
   ]
  },
  {
   "cell_type": "code",
   "execution_count": 7,
   "metadata": {
    "collapsed": true
   },
   "outputs": [],
   "source": [
    "# Method 1:\n",
    "# We use KNeighborsClassifier to implement the k-nearest neighbors vote.\n",
    "error_rate = []\n",
    "kvals = range(1,21)  # range of k parameters to test\n",
    "\n",
    "for i in kvals:\n",
    "    knn = KNeighborsClassifier(n_neighbors=i)\n",
    "    knn.fit(train_x,train_y)\n",
    "    pred_y_i = knn.predict(test_x)\n",
    "    error_rate.append(np.mean(pred_y_i != test_y))"
   ]
  },
  {
   "cell_type": "code",
   "execution_count": 8,
   "metadata": {},
   "outputs": [
    {
     "data": {
      "image/png": "[encoded data removed]",
      "text/plain": [
       "<matplotlib.figure.Figure at 0x10c9d2790>"
      ]
     },
     "metadata": {},
     "output_type": "display_data"
    }
   ],
   "source": [
    "# Determine optimal value\n",
    "# After evaluating many values of k, we can easily determine which value yields the best results. \n",
    "# The plot below visualizes our process.\n",
    "\n",
    "plt.plot(kvals, error_rate, color='blue', linestyle='dashed', marker='o',\n",
    "         markerfacecolor='red', markersize=10)\n",
    "plt.title('Error Rate vs. K Value')\n",
    "plt.xlabel('K')\n",
    "plt.ylabel('Error Rate')\n",
    "plt.show()\n"
   ]
  },
  {
   "cell_type": "code",
   "execution_count": 9,
   "metadata": {},
   "outputs": [
    {
     "name": "stdout",
     "output_type": "stream",
     "text": [
      "Lowest error is 0.402173913043 occurs at k=11.\n"
     ]
    }
   ],
   "source": [
    "# Determine location of best performance\n",
    "kloc = error_rate.index(min(error_rate))\n",
    "print('Lowest error is %s occurs at k=%s.' % (error_rate[kloc], kvals[kloc]))"
   ]
  },
  {
   "cell_type": "code",
   "execution_count": 10,
   "metadata": {},
   "outputs": [
    {
     "name": "stderr",
     "output_type": "stream",
     "text": [
      "/anaconda2/lib/python2.7/site-packages/sklearn/cross_validation.py:41: DeprecationWarning: This module was deprecated in version 0.18 in favor of the model_selection module into which all the refactored classes and functions are moved. Also note that the interface of the new CV iterators are different from that of this module. This module will be removed in 0.20.\n",
      "  \"This module will be removed in 0.20.\", DeprecationWarning)\n"
     ]
    },
    {
     "data": {
      "image/png": "[encoded data removed]",
      "text/plain": [
       "<matplotlib.figure.Figure at 0x10808f810>"
      ]
     },
     "metadata": {},
     "output_type": "display_data"
    }
   ],
   "source": [
    "# We can also use cross_val_score to choose the best k value that can reach the highest accuracy\n",
    "from sklearn.cross_validation import cross_val_score\n",
    "\n",
    "k_range = range(1, 21)\n",
    "k_scores = []\n",
    "for k in k_range:\n",
    "    knn = KNeighborsClassifier(n_neighbors=k)\n",
    "    scores = cross_val_score(knn, train_x, train_y, cv=10, scoring='accuracy') # for classification\n",
    "    k_scores.append(scores.mean())\n",
    "\n",
    "plt.plot(k_range, k_scores)\n",
    "plt.xlabel('Value of K for KNN')\n",
    "plt.ylabel('Cross-Validated Accuracy')\n",
    "plt.show()"
   ]
  },
  {
   "cell_type": "code",
   "execution_count": 11,
   "metadata": {},
   "outputs": [
    {
     "name": "stdout",
     "output_type": "stream",
     "text": [
      "Highest accuracy is 0.606764659396 occurs at k=9.\n"
     ]
    }
   ],
   "source": [
    "# Determine location of best performance\n",
    "kloc = k_scores.index(max(k_scores))\n",
    "print('Highest accuracy is %s occurs at k=%s.' % (k_scores[kloc], k_range[kloc]))"
   ]
  },
  {
   "cell_type": "code",
   "execution_count": 12,
   "metadata": {},
   "outputs": [
    {
     "name": "stdout",
     "output_type": "stream",
     "text": [
      "Accuracy in KNN:0.54347826087\n",
      "Confusion Matrix:\n",
      "[[25 19]\n",
      " [23 25]]\n",
      "\n",
      "\n",
      "Classification Report:\n",
      "             precision    recall  f1-score   support\n",
      "\n",
      "          0       0.52      0.57      0.54        44\n",
      "          1       0.57      0.52      0.54        48\n",
      "\n",
      "avg / total       0.55      0.54      0.54        92\n",
      "\n"
     ]
    }
   ],
   "source": [
    "# Using our optimal k value, we will run the analysis again and proceed to quantify our classification accuracy.\n",
    "\n",
    "from sklearn.metrics import classification_report, confusion_matrix\n",
    "\n",
    "knn = KNeighborsClassifier(n_neighbors=kvals[kloc])\n",
    "knn.fit(train_x,train_y)\n",
    "pred_y = knn.predict(test_x)\n",
    "\n",
    "# Use classification metrics to determine success of method\n",
    "# Run classification metrics\n",
    "print('Accuracy in KNN:%s' % (accuracy_score(test_y, pred_y)) )\n",
    "print('Confusion Matrix:')\n",
    "print(confusion_matrix(test_y, pred_y))\n",
    "print('\\n')\n",
    "print('Classification Report:')\n",
    "print(classification_report(test_y, pred_y))"
   ]
  },
  {
   "cell_type": "code",
   "execution_count": 13,
   "metadata": {
    "collapsed": true
   },
   "outputs": [],
   "source": [
    "# Confusion matricies and classification reports are great ways to understand the accuracy of a classifier model. \n",
    "# This model does a poor job of classifying our data, scoring an average of %64 in all three categories."
   ]
  },
  {
   "cell_type": "code",
   "execution_count": 14,
   "metadata": {
    "collapsed": true
   },
   "outputs": [],
   "source": [
    "# Method 2:\n",
    "# We wrote our own method to implement the k-Nearest Neighbors algorithm from scratch.\n",
    "\n",
    "import math\n",
    "# Euclidean distance calculation\n",
    "# In order to make predictions we calculate the similarity between any two given data instances. \n",
    "# This is needed so that we can locate the k most similar data instances in the training dataset for a given member of the test dataset and in turn make a prediction.\n",
    "def calculateDistance(instance1, instance2,length):\n",
    "    distance = 0\n",
    "    for x in range(length):\n",
    "        distance += pow((instance1[x] - instance2[x]),2)\n",
    "    return math.sqrt(distance)\n",
    "\n",
    "\n",
    "import operator\n",
    "# Below is the getNeighbors function that returns k most similar neighbors \n",
    "# from the training set for a given test instance (using the already defined euclideanDistance function)\n",
    "\n",
    "def getNeighbors(train_data, train_labels, test_data_single, num_of_input, k):\n",
    "    distances = []\n",
    "    length = num_of_input\n",
    "    for x in range(len(train_data)):\n",
    "        dist = calculateDistance(test_data_single, train_data[x],length)\n",
    "        distances.append((train_data[x],train_labels[x],dist))\n",
    "    distances.sort(key=operator.itemgetter(2))  #sort based on 3rd item which is distance\n",
    "    neighbors = []\n",
    "    for x in range(k):\n",
    "        neighbors.append(distances[x][1])  #return top k nearest data's label\n",
    "    return neighbors\n",
    "\n",
    "from scipy.stats import mode\n",
    "\n",
    "\n",
    "# The funuction below is used for getting the majority voted response from a number of neighbors.\n",
    "def getResponse(neighbors):\n",
    "    classVotes = {}\n",
    "    for x in range(len(neighbors)):\n",
    "        response = neighbors[x]\n",
    "        if response in classVotes:\n",
    "            classVotes[response] += 1\n",
    "        else:\n",
    "            classVotes[response] = 1\n",
    "    sortedVotes = sorted(classVotes.iteritems(), key=operator.itemgetter(1), reverse=True)\n",
    "    return sortedVotes[0][0]\n",
    "    "
   ]
  },
  {
   "cell_type": "code",
   "execution_count": 15,
   "metadata": {
    "collapsed": true
   },
   "outputs": [],
   "source": [
    "def KNN_Classifier(num_of_input):\n",
    "    accuracy = []\n",
    "    for K in range(1,20):\n",
    "        results = []\n",
    "        for i in range(len(test_x)):\n",
    "            test_single = test_x[i]\n",
    "            neighbor = getNeighbors(train_x, train_y, test_single, num_of_input, K)\n",
    "            res = getResponse(neighbor)\n",
    "            results.append(res)\n",
    "        # We evaluate the accuracy of the model by calculating a ratio of the total correct predictions out of all predictions made (the classification accuracy)\n",
    "        correct = 0\n",
    "        wrong = 0\n",
    "        for j in range(len(test_y)):\n",
    "            if(results[j] == test_y[j]):\n",
    "                correct += 1\n",
    "            else:\n",
    "                wrong += 1\n",
    "        accuracy.append(float(correct)/(correct+wrong))\n",
    "        print('Correct rate is %s when K = %s.'  % (float(correct)/(correct+wrong),K))\n",
    "    print('Highest correct rate %s occurs at K = %s.' % (max(accuracy), accuracy.index(max(accuracy))+1))\n",
    "\n"
   ]
  },
  {
   "cell_type": "code",
   "execution_count": 16,
   "metadata": {},
   "outputs": [
    {
     "name": "stdout",
     "output_type": "stream",
     "text": [
      "Correct rate is 0.532608695652 when K = 1.\n",
      "Correct rate is 0.54347826087 when K = 2.\n",
      "Correct rate is 0.576086956522 when K = 3.\n",
      "Correct rate is 0.554347826087 when K = 4.\n",
      "Correct rate is 0.565217391304 when K = 5.\n",
      "Correct rate is 0.554347826087 when K = 6.\n",
      "Correct rate is 0.532608695652 when K = 7.\n",
      "Correct rate is 0.554347826087 when K = 8.\n",
      "Correct rate is 0.54347826087 when K = 9.\n",
      "Correct rate is 0.576086956522 when K = 10.\n",
      "Correct rate is 0.597826086957 when K = 11.\n",
      "Correct rate is 0.521739130435 when K = 12.\n",
      "Correct rate is 0.532608695652 when K = 13.\n",
      "Correct rate is 0.554347826087 when K = 14.\n",
      "Correct rate is 0.586956521739 when K = 15.\n",
      "Correct rate is 0.565217391304 when K = 16.\n",
      "Correct rate is 0.554347826087 when K = 17.\n",
      "Correct rate is 0.565217391304 when K = 18.\n",
      "Correct rate is 0.565217391304 when K = 19.\n",
      "Highest correct rate 0.597826086957 occurs at K = 11.\n"
     ]
    }
   ],
   "source": [
    "KNN_Classifier(20)"
   ]
  },
  {
   "cell_type": "code",
   "execution_count": 17,
   "metadata": {},
   "outputs": [
    {
     "name": "stdout",
     "output_type": "stream",
     "text": [
      "Correct rate is 0.815217391304 when K = 1.\n",
      "Correct rate is 0.847826086957 when K = 2.\n",
      "Correct rate is 0.880434782609 when K = 3.\n",
      "Correct rate is 0.902173913043 when K = 4.\n",
      "Correct rate is 0.880434782609 when K = 5.\n",
      "Correct rate is 0.902173913043 when K = 6.\n",
      "Correct rate is 0.902173913043 when K = 7.\n",
      "Correct rate is 0.902173913043 when K = 8.\n",
      "Correct rate is 0.902173913043 when K = 9.\n",
      "Correct rate is 0.913043478261 when K = 10.\n",
      "Correct rate is 0.913043478261 when K = 11.\n",
      "Correct rate is 0.913043478261 when K = 12.\n",
      "Correct rate is 0.913043478261 when K = 13.\n",
      "Correct rate is 0.913043478261 when K = 14.\n",
      "Correct rate is 0.913043478261 when K = 15.\n",
      "Correct rate is 0.913043478261 when K = 16.\n",
      "Correct rate is 0.913043478261 when K = 17.\n",
      "Correct rate is 0.913043478261 when K = 18.\n",
      "Correct rate is 0.913043478261 when K = 19.\n",
      "Highest correct rate 0.913043478261 occurs at K = 10.\n"
     ]
    }
   ],
   "source": [
    "# Is it enough of these two features to make predictions? \n",
    "## KNN with 2 features ('meanfun', 'IQR')\n",
    "\n",
    "train_x = train_x[:,[5,12]]\n",
    "test_x = test_x[:,[5,12]]\n",
    "KNN_Classifier(2)"
   ]
  },
  {
   "cell_type": "markdown",
   "metadata": {
    "collapsed": true
   },
   "source": [
    "Conclusion: \n",
    "\n",
    "A k value that is too low will overfit the data, missing general trends that better distinguish the different classes. Conversely, a k value that is too high will underfit the data and lead to a classification model that creates loose and ill-defined boundaries around key features in the data field.\n",
    "\n",
    "For our data set, the KNN method is not very successful in differentiating between male and female voices with all features, given the acoustic properties provided.\n",
    "\n",
    "However, K-means result with only two features gives 91.3 % against 59.8% with all features. "
   ]
  }
 ],
 "metadata": {
  "kernelspec": {
   "display_name": "Python 2",
   "language": "python",
   "name": "python2"
  },
  "language_info": {
   "codemirror_mode": {
    "name": "ipython",
    "version": 2
   },
   "file_extension": ".py",
   "mimetype": "text/x-python",
   "name": "python",
   "nbconvert_exporter": "python",
   "pygments_lexer": "ipython2",
   "version": "2.7.13"
  }
 },
 "nbformat": 4,
 "nbformat_minor": 2
}
