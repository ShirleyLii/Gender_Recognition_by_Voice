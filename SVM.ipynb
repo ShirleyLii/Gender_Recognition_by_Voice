{
 "cells": [
  {
   "cell_type": "code",
   "execution_count": 99,
   "metadata": {
    "collapsed": true
   },
   "outputs": [],
   "source": [
    "# Packages for analysis\n",
    "import pandas as pd\n",
    "import numpy as np\n",
    "from sklearn import svm\n",
    "from sklearn.svm import SVC\n",
    "from sklearn import metrics\n",
    "from sklearn.model_selection import train_test_split\n",
    "from sklearn.metrics import accuracy_score\n",
    "\n",
    "# Packages for visuals\n",
    "import matplotlib.pyplot as plt\n",
    "import seaborn as sns; sns.set(font_scale=1.2)"
   ]
  },
  {
   "cell_type": "code",
   "execution_count": 100,
   "metadata": {},
   "outputs": [],
   "source": [
    "dataset = pd.read_csv('/Users/shirley/Desktop/voice_Kaggle.csv')"
   ]
  },
  {
   "cell_type": "code",
   "execution_count": 101,
   "metadata": {},
   "outputs": [],
   "source": [
    "x= dataset.iloc[:,0:-1]\n",
    "y= dataset.iloc[:,-1]\n",
    "\n",
    "# splitting the dataset into the Training set and Test set\n",
    "from sklearn.cross_validation import train_test_split\n",
    "x_train, x_test, y_train, y_test = train_test_split(x,y,test_size=0.2, random_state=0)"
   ]
  },
  {
   "cell_type": "code",
   "execution_count": 102,
   "metadata": {},
   "outputs": [
    {
     "name": "stdout",
     "output_type": "stream",
     "text": [
      "Accuracy for default parameter without scaling\n",
      "0.742902208202\n"
     ]
    }
   ],
   "source": [
    "#svm with default parameter without scaling\n",
    "from sklearn.svm import SVC\n",
    "from sklearn import metrics\n",
    "sc=SVC()\n",
    "sc.fit(x_train, y_train)\n",
    "prediction = sc.predict(x_test)\n",
    "print('Accuracy for default parameter without scaling')\n",
    "print(metrics.accuracy_score(y_test,prediction))"
   ]
  },
  {
   "cell_type": "code",
   "execution_count": 103,
   "metadata": {},
   "outputs": [
    {
     "name": "stdout",
     "output_type": "stream",
     "text": [
      "Accuracy for svm with Linear kernel without scaling\n",
      "0.92429022082\n"
     ]
    }
   ],
   "source": [
    "#svm with linear kernel without scaling\n",
    "from sklearn.svm import SVC\n",
    "from sklearn import metrics\n",
    "sc=SVC(kernel = 'linear')\n",
    "sc.fit(x_train, y_train)\n",
    "prediction = sc.predict(x_test)\n",
    "print('Accuracy for svm with Linear kernel without scaling')\n",
    "print(metrics.accuracy_score(y_test,prediction))\n"
   ]
  },
  {
   "cell_type": "code",
   "execution_count": 104,
   "metadata": {},
   "outputs": [
    {
     "name": "stdout",
     "output_type": "stream",
     "text": [
      "Accuracy for svm with RBF kernel without scaling\n",
      "0.742902208202\n"
     ]
    }
   ],
   "source": [
    "#svm with rbf kernel without scaling\n",
    "from sklearn.svm import SVC\n",
    "from sklearn import metrics\n",
    "sc=SVC(kernel = 'rbf')\n",
    "sc.fit(x_train, y_train)\n",
    "prediction = sc.predict(x_test)\n",
    "print('Accuracy for svm with RBF kernel without scaling')\n",
    "print(metrics.accuracy_score(y_test,prediction))"
   ]
  },
  {
   "cell_type": "code",
   "execution_count": 105,
   "metadata": {
    "collapsed": true
   },
   "outputs": [],
   "source": [
    "# scaling\n",
    "from sklearn.preprocessing import StandardScaler\n",
    "sc = StandardScaler()\n",
    "x_train = sc.fit_transform(x_train)\n",
    "x_test = sc.transform(x_test)"
   ]
  },
  {
   "cell_type": "code",
   "execution_count": 106,
   "metadata": {},
   "outputs": [
    {
     "name": "stdout",
     "output_type": "stream",
     "text": [
      "Linear Kernel after scaling\n",
      "Accuracy in training samples for SVM:  0.975532754538\n",
      "Accuracy in testing samples for SVM:  0.973186119874\n"
     ]
    }
   ],
   "source": [
    "# fitting svm to the training set\n",
    "from sklearn.svm import SVC\n",
    "print('Linear Kernel after scaling')\n",
    "classifier = SVC(kernel = 'linear', random_state = 0)\n",
    "classifier.fit(x_train, y_train)\n",
    "prediction = classifier.predict(x_train)\n",
    "print('Accuracy in training samples for SVM: ',  accuracy_score(y_train,prediction))\n",
    "prediction2 = classifier.predict(x_test)\n",
    "print('Accuracy in testing samples for SVM: ', accuracy_score(y_test, prediction2))"
   ]
  },
  {
   "cell_type": "code",
   "execution_count": 109,
   "metadata": {},
   "outputs": [
    {
     "name": "stdout",
     "output_type": "stream",
     "text": [
      "When the C value is: 1 then the accurancy is: 0.973946\n",
      "When the C value is: 2 then the accurancy is: 0.973155\n",
      "When the C value is: 3 then the accurancy is: 0.973155\n",
      "When the C value is: 4 then the accurancy is: 0.972760\n",
      "When the C value is: 5 then the accurancy is: 0.972760\n",
      "When the C value is: 6 then the accurancy is: 0.972760\n",
      "When the C value is: 7 then the accurancy is: 0.972760\n",
      "When the C value is: 8 then the accurancy is: 0.972760\n",
      "When the C value is: 9 then the accurancy is: 0.972760\n",
      "When the C value is: 10 then the accurancy is: 0.972760\n",
      "When the C value is: 11 then the accurancy is: 0.973155\n",
      "When the C value is: 12 then the accurancy is: 0.973155\n",
      "When the C value is: 13 then the accurancy is: 0.973155\n",
      "When the C value is: 14 then the accurancy is: 0.973155\n",
      "When the C value is: 15 then the accurancy is: 0.973155\n"
     ]
    },
    {
     "data": {
      "image/png": "[encoded data removed]",
      "text/plain": [
       "<matplotlib.figure.Figure at 0x10ae50438>"
      ]
     },
     "metadata": {},
     "output_type": "display_data"
    }
   ],
   "source": [
    "# Linear kernel with different C values\n",
    "from sklearn.model_selection import train_test_split, cross_val_score\n",
    "def linear_c(x_train, y_train, c):\n",
    "    accurancy = []\n",
    "    for i in c:\n",
    "        sc = SVC(kernel='linear', C=i)\n",
    "        scores = cross_val_score(sc, x_train, y_train, cv=10, scoring='accuracy')\n",
    "        accurancy.append(scores.mean())\n",
    "        print(\"When the C value is: %d then the accurancy is: %f\" % (i, scores.mean()))\n",
    "\n",
    "    plt.plot(c, accurancy)\n",
    "    plt.xlabel('Differnet C Values')\n",
    "    plt.ylabel('Cross-Validated Accuracy')\n",
    "    plt.show()\n",
    "\n",
    "c_values = list(np.arange(1, 16))\n",
    "linear_c(x_train, y_train, c_values)"
   ]
  }
 ],
 "metadata": {
  "kernelspec": {
   "display_name": "Python 3",
   "language": "python",
   "name": "python3"
  },
  "language_info": {
   "codemirror_mode": {
    "name": "ipython",
    "version": 3
   },
   "file_extension": ".py",
   "mimetype": "text/x-python",
   "name": "python",
   "nbconvert_exporter": "python",
   "pygments_lexer": "ipython3",
   "version": "3.6.3"
  }
 },
 "nbformat": 4,
 "nbformat_minor": 2
}
