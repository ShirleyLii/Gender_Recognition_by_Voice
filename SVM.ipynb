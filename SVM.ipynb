{
 "cells": [
  {
   "cell_type": "code",
   "execution_count": 18,
   "metadata": {},
   "outputs": [],
   "source": [
    "# Packages for analysis\n",
    "from sklearn import svm\n",
    "from sklearn import metrics\n",
    "from sklearn.model_selection import cross_val_score\n",
    "\n",
    "# Packages for visuals\n",
    "import matplotlib.pyplot as plt\n",
    "import seaborn as sns\n",
    "sns.set(font_scale=1.2)"
   ]
  },
  {
   "cell_type": "code",
   "execution_count": 31,
   "metadata": {},
   "outputs": [],
   "source": [
    "%store -r train_x\n",
    "%store -r test_x\n",
    "%store -r train_y\n",
    "%store -r test_y\n",
    "%store -r transformed_train_x\n",
    "%store -r transformed_test_x"
   ]
  },
  {
   "cell_type": "code",
   "execution_count": 68,
   "metadata": {},
   "outputs": [],
   "source": [
    "#svm with linear kernel\n",
    "def run_linear_svm(train_x, test_x, train_y, test_y):\n",
    "    clf=SVC(kernel = 'linear')\n",
    "    clf.fit(train_x, train_y)\n",
    "    scores = cross_val_score(clf, test_x, test_y, cv=5)\n",
    "    print(\"Accuracy for svm with Linear kernel: %.10f\" % scores.mean())"
   ]
  },
  {
   "cell_type": "code",
   "execution_count": 71,
   "metadata": {},
   "outputs": [],
   "source": [
    "#svm with rbf kernel\n",
    "def run_rbf_svm(train_x, test_x, train_y, test_y):\n",
    "    clf=SVC(kernel = 'rbf')\n",
    "    clf.fit(train_x, train_y)\n",
    "    scores = cross_val_score(clf, test_x, test_y, cv=5)\n",
    "    print(\"Accuracy for svm with RBF kernel: %.10f\" % scores.mean())"
   ]
  },
  {
   "cell_type": "code",
   "execution_count": 72,
   "metadata": {},
   "outputs": [
    {
     "name": "stdout",
     "output_type": "stream",
     "text": [
      "Accuracy for svm with RBF kernel: 0.9722235491\n"
     ]
    }
   ],
   "source": [
    "run_linear_svm(train_x, test_x, train_y, test_y)\n",
    "run_rbf_svm(train_x, test_x, train_y, test_y)"
   ]
  }
 ],
 "metadata": {
  "kernelspec": {
   "display_name": "Python 2",
   "language": "python",
   "name": "python2"
  },
  "language_info": {
   "codemirror_mode": {
    "name": "ipython",
    "version": 2
   },
   "file_extension": ".py",
   "mimetype": "text/x-python",
   "name": "python",
   "nbconvert_exporter": "python",
   "pygments_lexer": "ipython2",
   "version": "2.7.13"
  }
 },
 "nbformat": 4,
 "nbformat_minor": 2
}
