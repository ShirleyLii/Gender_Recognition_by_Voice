{
 "cells": [
  {
   "cell_type": "code",
   "execution_count": null,
   "metadata": {},
   "outputs": [],
   "source": [
    "# Packages for analysis\n",
    "from sklearn import svm\n",
    "from sklearn.svm import SVC\n",
    "from sklearn import metrics\n",
    "from sklearn.model_selection import cross_val_score\n",
    "\n",
    "# Packages for visuals\n",
    "import matplotlib.pyplot as plt\n",
    "import seaborn as sns\n",
    "sns.set(font_scale=1.2)"
   ]
  },
  {
   "cell_type": "code",
   "execution_count": null,
   "metadata": {},
   "outputs": [],
   "source": [
    "%store -r train_x\n",
    "%store -r test_x\n",
    "%store -r train_y\n",
    "%store -r test_y\n",
    "\n",
    "%store -r train_x_two_features\n",
    "%store -r test_x_two_features\n",
    "%store -r train_y_two_features\n",
    "%store -r test_y_two_features\n",
    "\n",
    "%store -r transformed_train_x\n",
    "%store -r transformed_test_x\n"
   ]
  },
  {
   "cell_type": "code",
   "execution_count": null,
   "metadata": {},
   "outputs": [],
   "source": [
    "#svm with linear kernel\n",
    "def run_linear_svm(train_x, test_x, train_y, test_y):\n",
    "    clf=SVC(kernel = 'linear')\n",
    "    clf.fit(train_x, train_y)\n",
    "    scores = cross_val_score(clf, test_x, test_y, cv=5)\n",
    "    print(\"Accuracy for svm with Linear kernel: %.10f\" % scores.mean())"
   ]
  },
  {
   "cell_type": "code",
   "execution_count": null,
   "metadata": {},
   "outputs": [],
   "source": [
    "#svm with rbf kernel\n",
    "def run_rbf_svm(train_x, test_x, train_y, test_y):\n",
    "    clf=SVC(kernel = 'rbf')\n",
    "    clf.fit(train_x, train_y)\n",
    "    scores = cross_val_score(clf, test_x, test_y, cv=5)\n",
    "    print(\"Accuracy for svm with RBF kernel: %.10f\" % scores.mean())"
   ]
  },
  {
   "cell_type": "code",
   "execution_count": null,
   "metadata": {},
   "outputs": [],
   "source": [
    "print(\"Run linear svm with all features(Built-in Algorithm):\")\n",
    "run_linear_svm(train_x, test_x, train_y, test_y)\n",
    "print(\"-----------------------------------------------------------\")\n",
    "print(\"Run rbf svm with all features(Built-in Algorithm):\")\n",
    "run_rbf_svm(train_x, test_x, train_y, test_y)\n",
    "print(\"===========================================================\")\n",
    "print(\"Run linear svm with dimensionality reduction using PCA(Built-in Algorithm)\")\n",
    "run_linear_svm(transformed_train_x, transformed_test_x, train_y, test_y)\n",
    "print(\"-----------------------------------------------------------\")\n",
    "print(\"Run rbf svm with dimensionality reduction using PCA(Built-in Algorithm)\")\n",
    "run_rbf_svm(transformed_train_x, transformed_test_x, train_y, test_y)\n",
    "print(\"===========================================================\")\n",
    "print(\"Run linear svm with top 2 features(Built-in Algorithm):\")\n",
    "run_linear_svm(train_x_two_features, test_x_two_features, train_y_two_features, test_y_two_features)\n",
    "print(\"-----------------------------------------------------------\")\n",
    "print(\"Run rbf svm with top 2 features(Built-in Algorithm):\")\n",
    "run_rbf_svm(train_x_two_features, test_x_two_features, train_y_two_features, test_y_two_features)\n"
   ]
  }
 ],
 "metadata": {
  "kernelspec": {
   "display_name": "Python 2",
   "language": "python",
   "name": "python2"
  },
  "language_info": {
   "codemirror_mode": {
    "name": "ipython",
    "version": 2
   },
   "file_extension": ".py",
   "mimetype": "text/x-python",
   "name": "python",
   "nbconvert_exporter": "python",
   "pygments_lexer": "ipython2",
   "version": "2.7.13"
  }
 },
 "nbformat": 4,
 "nbformat_minor": 2
}
