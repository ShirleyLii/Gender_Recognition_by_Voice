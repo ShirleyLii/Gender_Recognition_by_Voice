{
 "cells": [
  {
   "cell_type": "code",
   "execution_count": 1,
   "metadata": {
    "collapsed": true
   },
   "outputs": [],
   "source": [
    "# Packages for analysis\n",
    "from sklearn import svm\n",
    "from sklearn.svm import SVC\n",
    "from sklearn import metrics\n",
    "from sklearn.model_selection import cross_val_score\n",
    "\n",
    "# Packages for visuals\n",
    "import matplotlib.pyplot as plt\n",
    "import seaborn as sns\n",
    "sns.set(font_scale=1.2)"
   ]
  },
  {
   "cell_type": "code",
   "execution_count": 2,
   "metadata": {
    "collapsed": true
   },
   "outputs": [],
   "source": [
    "%store -r train_x\n",
    "%store -r test_x\n",
    "%store -r train_y\n",
    "%store -r test_y\n",
    "\n",
    "%store -r train_x_two_features\n",
    "%store -r test_x_two_features\n",
    "%store -r train_y_two_features\n",
    "%store -r test_y_two_features\n",
    "\n",
    "%store -r transformed_train_x\n",
    "%store -r transformed_test_x\n",
    "\n",
    "%store -r lda_train_x\n",
    "%store -r lda_test_x"
   ]
  },
  {
   "cell_type": "code",
   "execution_count": 3,
   "metadata": {
    "collapsed": true
   },
   "outputs": [],
   "source": [
    "#svm with linear kernel\n",
    "def run_linear_svm(train_x, test_x, train_y, test_y):\n",
    "    clf=SVC(kernel = 'linear')\n",
    "    clf.fit(train_x, train_y)\n",
    "    scores = cross_val_score(clf, train_x, train_y, cv=5)\n",
    "    print(\"In-sample accuracy for svm with Linear kernel: %.10f\" % scores.mean())\n",
    "    scores = cross_val_score(clf, test_x, test_y, cv=5)\n",
    "    print(\"Out-of-sample accuracy for svm with Linear kernel: %.10f\" % scores.mean())"
   ]
  },
  {
   "cell_type": "code",
   "execution_count": 4,
   "metadata": {
    "collapsed": true
   },
   "outputs": [],
   "source": [
    "#svm with rbf kernel\n",
    "def run_rbf_svm(train_x, test_x, train_y, test_y):\n",
    "    clf=SVC(kernel = 'rbf')\n",
    "    clf.fit(train_x, train_y)\n",
    "    scores = cross_val_score(clf, train_x, train_y, cv=5)\n",
    "    print(\"In-sample accuracy for svm with RBF kernel: %.10f\" % scores.mean())\n",
    "    scores = cross_val_score(clf, test_x, test_y, cv=5)\n",
    "    print(\"Out-of-sample accuracy for svm with RBF kernel: %.10f\" % scores.mean())"
   ]
  },
  {
   "cell_type": "code",
   "execution_count": 5,
   "metadata": {},
   "outputs": [
    {
     "name": "stdout",
     "output_type": "stream",
     "text": [
      "Run linear svm with all features(Built-in Algorithm):\n",
      "In-sample accuracy for svm with Linear kernel: 0.9743290243\n",
      "Out-of-sample accuracy for svm with Linear kernel: 0.9722076268\n",
      "-----------------------------------------------------------\n",
      "Run rbf svm with all features(Built-in Algorithm):\n",
      "In-sample accuracy for svm with RBF kernel: 0.9806448362\n",
      "Out-of-sample accuracy for svm with RBF kernel: 0.9722235491\n",
      "===========================================================\n",
      "Run linear svm with dimensionality reduction using PCA(Built-in Algorithm)\n",
      "In-sample accuracy for svm with Linear kernel: 0.9751702488\n",
      "Out-of-sample accuracy for svm with Linear kernel: 0.9734654884\n",
      "-----------------------------------------------------------\n",
      "Run rbf svm with dimensionality reduction using PCA(Built-in Algorithm)\n",
      "In-sample accuracy for svm with RBF kernel: 0.9781202858\n",
      "Out-of-sample accuracy for svm with RBF kernel: 0.9633787119\n",
      "===========================================================\n",
      "Run linear svm with top 2 features(Built-in Algorithm):\n",
      "In-sample accuracy for svm with Linear kernel: 0.9629720840\n",
      "Out-of-sample accuracy for svm with Linear kernel: 0.9709338428\n",
      "-----------------------------------------------------------\n",
      "Run rbf svm with top 2 features(Built-in Algorithm):\n",
      "In-sample accuracy for svm with RBF kernel: 0.9659132604\n",
      "Out-of-sample accuracy for svm with RBF kernel: 0.9734654884\n",
      "Run rbf svm with dimensionality reduction using LDA(Built-in Algorithm)\n",
      "In-sample accuracy for svm with RBF kernel: 0.9730676281\n",
      "Out-of-sample accuracy for svm with RBF kernel: 0.9721996656\n",
      "===========================================================\n"
     ]
    }
   ],
   "source": [
    "print(\"Run linear svm with all features(Built-in Algorithm):\")\n",
    "run_linear_svm(train_x, test_x, train_y, test_y)\n",
    "print(\"-----------------------------------------------------------\")\n",
    "print(\"Run rbf svm with all features(Built-in Algorithm):\")\n",
    "run_rbf_svm(train_x, test_x, train_y, test_y)\n",
    "print(\"===========================================================\")\n",
    "print(\"Run linear svm with dimensionality reduction using PCA(Built-in Algorithm)\")\n",
    "run_linear_svm(transformed_train_x, transformed_test_x, train_y, test_y)\n",
    "print(\"-----------------------------------------------------------\")\n",
    "print(\"Run rbf svm with dimensionality reduction using PCA(Built-in Algorithm)\")\n",
    "run_rbf_svm(transformed_train_x, transformed_test_x, train_y, test_y)\n",
    "print(\"===========================================================\")\n",
    "print(\"Run linear svm with top 2 features(Built-in Algorithm):\")\n",
    "run_linear_svm(train_x_two_features, test_x_two_features, train_y_two_features, test_y_two_features)\n",
    "print(\"-----------------------------------------------------------\")\n",
    "print(\"Run rbf svm with top 2 features(Built-in Algorithm):\")\n",
    "run_rbf_svm(train_x_two_features, test_x_two_features, train_y_two_features, test_y_two_features)\n",
    "print(\"Run rbf svm with dimensionality reduction using LDA(Built-in Algorithm)\")\n",
    "run_rbf_svm(lda_train_x, lda_test_x, train_y, test_y)\n",
    "print(\"===========================================================\")\n"
   ]
  }
 ],
 "metadata": {
  "kernelspec": {
   "display_name": "Python 3",
   "language": "python",
   "name": "python3"
  },
  "language_info": {
   "codemirror_mode": {
    "name": "ipython",
    "version": 3
   },
   "file_extension": ".py",
   "mimetype": "text/x-python",
   "name": "python",
   "nbconvert_exporter": "python",
   "pygments_lexer": "ipython3",
   "version": "3.6.3"
  }
 },
 "nbformat": 4,
 "nbformat_minor": 2
}
