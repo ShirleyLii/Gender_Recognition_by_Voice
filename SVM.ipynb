{
 "cells": [
  {
   "cell_type": "code",
   "execution_count": null,
   "metadata": {
    "collapsed": true
   },
   "outputs": [],
   "source": [
    "# Packages for analysis\n",
    "from sklearn import svm\n",
    "from sklearn.svm import SVC\n",
    "from sklearn import metrics\n",
    "from sklearn.model_selection import cross_val_score\n",
    "\n",
    "# Packages for visuals\n",
    "import matplotlib.pyplot as plt\n",
    "import seaborn as sns\n",
    "sns.set(font_scale=1.2)"
   ]
  },
  {
   "cell_type": "code",
   "execution_count": null,
   "metadata": {
    "collapsed": true
   },
   "outputs": [],
   "source": [
    "#svm with linear kernel\n",
    "def run_linear_svm(train_x, test_x, train_y, test_y):\n",
    "    clf=SVC(kernel = 'linear')\n",
    "    clf.fit(train_x, train_y)\n",
    "    scores = cross_val_score(clf, train_x, train_y, cv=5)\n",
    "    print(\"In-sample accuracy for svm with Linear kernel: %.10f\" % scores.mean())\n",
    "    scores = cross_val_score(clf, test_x, test_y, cv=5)\n",
    "    print(\"Out-of-sample accuracy for svm with Linear kernel: %.10f\" % scores.mean())"
   ]
  },
  {
   "cell_type": "code",
   "execution_count": null,
   "metadata": {
    "collapsed": true
   },
   "outputs": [],
   "source": [
    "#svm with rbf kernel\n",
    "def run_rbf_svm(train_x, test_x, train_y, test_y):\n",
    "    clf=SVC(kernel = 'rbf')\n",
    "    clf.fit(train_x, train_y)\n",
    "    scores = cross_val_score(clf, train_x, train_y, cv=5)\n",
    "    print(\"In-sample accuracy for svm with RBF kernel: %.10f\" % scores.mean())\n",
    "    scores = cross_val_score(clf, test_x, test_y, cv=5)\n",
    "    print(\"Out-of-sample accuracy for svm with RBF kernel: %.10f\" % scores.mean())"
   ]
  }
 ],
 "metadata": {
  "kernelspec": {
   "display_name": "Python 3",
   "language": "python",
   "name": "python3"
  },
  "language_info": {
   "codemirror_mode": {
    "name": "ipython",
    "version": 3
   },
   "file_extension": ".py",
   "mimetype": "text/x-python",
   "name": "python",
   "nbconvert_exporter": "python",
   "pygments_lexer": "ipython3",
   "version": "3.6.3"
  }
 },
 "nbformat": 4,
 "nbformat_minor": 2
}
